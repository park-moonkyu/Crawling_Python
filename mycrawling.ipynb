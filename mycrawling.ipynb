{
 "cells": [
  {
   "cell_type": "code",
   "execution_count": 1,
   "metadata": {
    "scrolled": true
   },
   "outputs": [
    {
     "name": "stdout",
     "output_type": "stream",
     "text": [
      "[' DM500S9Z-AD3BA', 'SAMSUNG', '2020.11.19']\n",
      "[' FA506IU-HN174', 'ASUS', '2020.11.19']\n",
      "[' GA502IV-AZ001T', 'ASUS', '2020.11.19']\n",
      "[' NT750QCJ-K58A', 'SAMSUNG', '2020.11.19']\n",
      "[' NT950XCJ-X716A', 'SAMSUNG', '2020.11.19']\n",
      "['15M A10SE-i7', 'MSI', '2020.11.19']\n",
      "['15U50N-KR56K', 'LG', '2020.11.19']\n",
      "['15UD50N-GX50K', 'LG', '2020.11.19']\n",
      "['15ZD90N-VX5BK', 'LG', '2020.11.19']\n",
      "['17UD70N-G.AX76K', 'LG', '2020.11.19']\n",
      "['800G5 TWR 6BD60AV', 'HP', '2020.11.19']\n",
      "['AS G512LI-HN065', 'ASUS', '2020.11.19']\n",
      "['B80FV', 'LG', '2020.11.19']\n",
      "['DB400T9A i5-9400', 'SAMSUNG', '2020.11.19']\n",
      "['FA706IU-H7100', 'ASUS', '2020.11.19']\n",
      "['G512LU-AL043', 'ASUS', '2020.11.19']\n",
      "['G712LU-EV001', 'ASUS', '2020.11.19']\n",
      "['G731GT-H7114', 'ASUS', '2020.11.19']\n",
      "['GA502IU-AZ015T', 'ASUS', '2020.11.19']\n",
      "['GA502IV-AZ001', 'ASUS', '2020.11.19']\n",
      "['GF75 Thin 9SCXR', 'MSI', '2020.11.19']\n",
      "['GP75 Leopard 9SD', 'MSI', '2020.11.19']\n",
      "['GU502LV-AZ015', 'ASUS', '2020.11.19']\n",
      "['GU502LW-HC111T', 'ASUS', '2020.11.19']\n",
      "['GX550LWS-HC013R', 'ASUS', '2020.11.19']\n",
      "['GX550LWS-HF046R', 'ASUS', '2020.11.19']\n",
      "['GX701LXS-HG032T', 'ASUS', '2020.11.19']\n",
      "['LG 15ZD90N-V.AX7BK', 'LG', '2020.11.19']\n",
      "['MHK33KH/A', 'APPLE', '2020.11.19']\n",
      "['NT350XCR-AD5WA', 'SAMSUNG', '2020.11.19']\n",
      "['NT550EBV-AD5BA', 'SAMSUNG', '2020.11.19']\n",
      "['NT550XCJ-KC24', 'SAMSUNG', '2020.11.19']\n",
      "['NT550XCR-AD1WA', 'SAMSUNG', '2020.11.19']\n",
      "['NT550XCR-AD2A', 'SAMSUNG', '2020.11.19']\n",
      "['NT550XCR-AD5A + NVMe SSD 512GB', 'SAMSUNG', '2020.11.19']\n",
      "['NT550XCR-GD5A', 'SAMSUNG', '2020.11.19']\n",
      "['NT950XCR-G58A', 'SAMSUNG', '2020.11.19']\n",
      "['X512FA-BQ1607 ', 'ASUS', '2020.11.19']\n",
      "38\n"
     ]
    }
   ],
   "source": [
    "# -*- coding:utf-8 -*-\n",
    "import openpyxl\n",
    "from bs4 import BeautifulSoup\n",
    "from urllib.request import urlopen\n",
    "import csv, re, requests\n",
    "import time\n",
    "\n",
    "# 엑셀파일 열기\n",
    "filename = \"test.xlsx\"\n",
    "book = openpyxl.load_workbook(filename)\n",
    "\n",
    "# 맨 앞의 시트 추출하기\n",
    "sheet = book.worksheets[0]\n",
    "\n",
    "# 시트의 각 행을 순서대로 추출하기\n",
    "data = []\n",
    "for row in sheet.rows:\n",
    "    data.append([row[0].value, row[1].value,row[2].value])\n",
    "\n",
    "del data[0]\n",
    "\n",
    "for i in range(len(data)):\n",
    "    print(data[i])\n",
    "\n",
    "print(len(data))"
   ]
  },
  {
   "cell_type": "markdown",
   "metadata": {},
   "source": [
    "# Beautiful 빠르나 결국 URL당 접근하면 느려지기때문에 selenium 검색과 시간 비교"
   ]
  },
  {
   "cell_type": "code",
   "execution_count": 2,
   "metadata": {
    "scrolled": false
   },
   "outputs": [
    {
     "name": "stdout",
     "output_type": "stream",
     "text": [
      "https://search.shopping.naver.com/search/all?query= DM500S9Z-AD3BA\n",
      "https://search.shopping.naver.com/search/all?query= FA506IU-HN174\n",
      "https://search.shopping.naver.com/search/all?query= GA502IV-AZ001T\n",
      "https://search.shopping.naver.com/search/all?query= NT750QCJ-K58A\n",
      "https://search.shopping.naver.com/search/all?query= NT950XCJ-X716A\n",
      "https://search.shopping.naver.com/search/all?query=15M A10SE-i7\n",
      "https://search.shopping.naver.com/search/all?query=15U50N-KR56K\n",
      "https://search.shopping.naver.com/search/all?query=15UD50N-GX50K\n",
      "https://search.shopping.naver.com/search/all?query=15ZD90N-VX5BK\n",
      "https://search.shopping.naver.com/search/all?query=17UD70N-G.AX76K\n",
      "https://search.shopping.naver.com/search/all?query=800G5 TWR 6BD60AV\n",
      "https://search.shopping.naver.com/search/all?query=AS G512LI-HN065\n",
      "https://search.shopping.naver.com/search/all?query=B80FV\n",
      "https://search.shopping.naver.com/search/all?query=DB400T9A i5-9400\n",
      "https://search.shopping.naver.com/search/all?query=FA706IU-H7100\n",
      "https://search.shopping.naver.com/search/all?query=G512LU-AL043\n",
      "https://search.shopping.naver.com/search/all?query=G712LU-EV001\n",
      "https://search.shopping.naver.com/search/all?query=G731GT-H7114\n",
      "https://search.shopping.naver.com/search/all?query=GA502IU-AZ015T\n",
      "https://search.shopping.naver.com/search/all?query=GA502IV-AZ001\n",
      "https://search.shopping.naver.com/search/all?query=GF75 Thin 9SCXR\n",
      "https://search.shopping.naver.com/search/all?query=GP75 Leopard 9SD\n",
      "https://search.shopping.naver.com/search/all?query=GU502LV-AZ015\n",
      "https://search.shopping.naver.com/search/all?query=GU502LW-HC111T\n",
      "https://search.shopping.naver.com/search/all?query=GX550LWS-HC013R\n",
      "https://search.shopping.naver.com/search/all?query=GX550LWS-HF046R\n",
      "https://search.shopping.naver.com/search/all?query=GX701LXS-HG032T\n",
      "https://search.shopping.naver.com/search/all?query=LG 15ZD90N-V.AX7BK\n",
      "https://search.shopping.naver.com/search/all?query=MHK33KH/A\n",
      "https://search.shopping.naver.com/search/all?query=NT350XCR-AD5WA\n",
      "https://search.shopping.naver.com/search/all?query=NT550EBV-AD5BA\n",
      "https://search.shopping.naver.com/search/all?query=NT550XCJ-KC24\n",
      "https://search.shopping.naver.com/search/all?query=NT550XCR-AD1WA\n",
      "https://search.shopping.naver.com/search/all?query=NT550XCR-AD2A\n",
      "https://search.shopping.naver.com/search/all?query=NT550XCR-AD5A + NVMe SSD 512GB\n",
      "https://search.shopping.naver.com/search/all?query=NT550XCR-GD5A\n",
      "https://search.shopping.naver.com/search/all?query=NT950XCR-G58A\n",
      "https://search.shopping.naver.com/search/all?query=X512FA-BQ1607 \n",
      "time : 22.204591274261475\n",
      "[[' DM500S9Z-AD3BA', 'SAMSUNG', '2020.11.19', '548,730원'], [' FA506IU-HN174', 'ASUS', '2020.11.19', '1,199,000원'], [' GA502IV-AZ001T', 'ASUS', '2020.11.19', '1,699,000원'], [' NT750QCJ-K58A', 'SAMSUNG', '2020.11.19', '1,797,990원'], [' NT950XCJ-X716A', 'SAMSUNG', '2020.11.19', '2,087,690원'], ['15M A10SE-i7', 'MSI', '2020.11.19', '1,499,000원'], ['15U50N-KR56K', 'LG', '2020.11.19', '1,103,560원'], ['15UD50N-GX50K', 'LG', '2020.11.19', '863,090원'], ['15ZD90N-VX5BK', 'LG', '2020.11.19', '1,344,110원'], ['17UD70N-G.AX76K', 'LG', '2020.11.19', '1,735,450원'], ['800G5 TWR 6BD60AV', 'HP', '2020.11.19', '1,123,720원'], ['AS G512LI-HN065', 'ASUS', '2020.11.19', '1,769,000원'], ['B80FV', 'LG', '2020.11.19', '1,499,000원'], ['DB400T9A i5-9400', 'SAMSUNG', '2020.11.19', '1,100,000원'], ['FA706IU-H7100', 'ASUS', '2020.11.19', '1,433,600원'], ['G512LU-AL043', 'ASUS', '2020.11.19', '1,399,000원'], ['G712LU-EV001', 'ASUS', '2020.11.19', '1,348,990원'], ['G731GT-H7114', 'ASUS', '2020.11.19', '999,000원'], ['GA502IU-AZ015T', 'ASUS', '2020.11.19', '1,598,990원'], ['GA502IV-AZ001', 'ASUS', '2020.11.19', '1,699,000원'], ['GF75 Thin 9SCXR', 'MSI', '2020.11.19', '1,099,000원'], ['GP75 Leopard 9SD', 'MSI', '2020.11.19', '1,349,000원'], ['GU502LV-AZ015', 'ASUS', '2020.11.19', '46,240원'], ['GU502LW-HC111T', 'ASUS', '2020.11.19', '2,599,000원'], ['GX550LWS-HC013R', 'ASUS', '2020.11.19', '4,198,990원'], ['GX550LWS-HF046R', 'ASUS', '2020.11.19', '3,799,000원'], ['GX701LXS-HG032T', 'ASUS', '2020.11.19', '3,956,390원'], ['LG 15ZD90N-V.AX7BK', 'LG', '2020.11.19', '1,623,110원'], ['MHK33KH/A', 'APPLE', '2020.11.19', '1,843,000원'], ['NT350XCR-AD5WA', 'SAMSUNG', '2020.11.19', '848,000원'], ['NT550EBV-AD5BA', 'SAMSUNG', '2020.11.19', '880,990원'], ['NT550XCJ-KC24', 'SAMSUNG', '2020.11.19', '746,540원'], ['NT550XCR-AD1WA', 'SAMSUNG', '2020.11.19', '498,990원'], ['NT550XCR-AD2A', 'SAMSUNG', '2020.11.19', '598,000원'], ['NT550XCR-AD5A + NVMe SSD 512GB', 'SAMSUNG', '2020.11.19', '998,000원'], ['NT550XCR-GD5A', 'SAMSUNG', '2020.11.19', '1,198,990원'], ['NT950XCR-G58A', 'SAMSUNG', '2020.11.19', '1,528,000원'], ['X512FA-BQ1607 ', 'ASUS', '2020.11.19', '840,000원']]\n"
     ]
    }
   ],
   "source": [
    "start = time.time()  # 시작 시간 저장\n",
    "result=[]\n",
    "\n",
    "\n",
    "for i in range(len(data)):\n",
    "    if data[i][0]== None:\n",
    "        break\n",
    "    else:\n",
    "        url = 'https://search.shopping.naver.com/search/all?query=' + data[i][0]\n",
    "        print(url)\n",
    "        req = requests.get(url)   # 크롤링할 페이지 url로 요청 보내기 , req를 출력하면 statuscode만 출력됨\n",
    "        html = req.text                # html 코드를 가져온다!\n",
    "        soup = BeautifulSoup(html, 'html.parser')\n",
    "        if soup.find('span', class_=\"price_num__2WUXn\").text == None:\n",
    "                         result.append(\"해당상품없음\")\n",
    "        else:\n",
    "            data[i].append(soup.find('span', class_=\"price_num__2WUXn\").text)\n",
    "            \n",
    "# 작업 코드\n",
    " \n",
    "print(\"time :\", time.time() - start)  # 현재시각 - 시작시간 = 실행 시간\n",
    "print(data)"
   ]
  },
  {
   "cell_type": "markdown",
   "metadata": {},
   "source": [
    "# DB에 해당 데이터 뿌려주기 "
   ]
  },
  {
   "cell_type": "markdown",
   "metadata": {},
   "source": [
    "2. MSSQL 사용 절차,\n",
    "Python에서 MSSQL에 있는 데이타를 사용하는 일반적인 절차는 다음과 같다.<br>\n",
    "\n",
    "pymssql 모듈을 import 한다<br>\n",
    "pymssql.connect() 메소드를 사용하여 MSSQL에 Connect 한다. 호스트명, 로그인, 암호, 접속할 DB 등을 파라미터로 지정할 수 있다.<br>\n",
    "DB 접속이 성공하면, Connection 객체로부터 cursor() 메서드를 호출하여 Cursor 객체를 가져온다. DB 커서는 Fetch 동작을 관리하는데 사용된다.<br>\n",
    "Cursor 객체의 execute() 메서드를 사용하여 SQL 문장을 DB 서버에 보낸다.<br>\n",
    "SQL 쿼리의 경우 Cursor 객체의 fetchall(), fetchone(), fetchmany() 등의 메서드를 사용하여 데이타를 서버로부터 가져온 후, Fetch 된 데이타를 사용한다.<br>\n",
    "삽입, 갱신, 삭제 등의 DML(Data Manipulation Language) 문장을 실행하는 경우, INSERT/UPDATE/DELETE 후 Connection 객체의 commit() 메서드를 사용하여 데이타를 확정 갱신한다.<br>\n",
    "Connection 객체의 close() 메서드를 사용하여 DB 연결을 닫는다.<br>\n",
    "아래 예제들의 기본 샘플 데이타로 아래와 같은 Customer 테이블이 있다고 가정하자.<br>"
   ]
  },
  {
   "cell_type": "code",
   "execution_count": 3,
   "metadata": {},
   "outputs": [
    {
     "name": "stdout",
     "output_type": "stream",
     "text": [
      "548,730원\n",
      "<class 'str'>\n"
     ]
    }
   ],
   "source": [
    "print(data[0][3])\n",
    "print(type(data[0][3]))"
   ]
  },
  {
   "cell_type": "markdown",
   "metadata": {},
   "source": [
    "UTF-8 문제로인하여 해결되지않았던 문제를 해결함. <br>\n",
    "UnicodeDecodeError: 'utf-8' codec can't decode byte 0xbf in position 11: invalid start byte <br>\n",
    "위에 나온 문제가 계속나와서 별것도아닌걸로 계속 끙끙됌 "
   ]
  },
  {
   "cell_type": "code",
   "execution_count": 4,
   "metadata": {
    "scrolled": true
   },
   "outputs": [
    {
     "name": "stdout",
     "output_type": "stream",
     "text": [
      "2020-11-23\n"
     ]
    }
   ],
   "source": [
    "import datetime\n",
    "\n",
    "\n",
    "now = datetime.datetime.now()\n",
    "nowDate = now.strftime('%Y-%m-%d')\n",
    "print(nowDate)"
   ]
  },
  {
   "cell_type": "code",
   "execution_count": 9,
   "metadata": {
    "scrolled": false
   },
   "outputs": [
    {
     "name": "stdout",
     "output_type": "stream",
     "text": [
      "2020-11-23\n"
     ]
    }
   ],
   "source": [
    " # -*- coding: utf-8 -*-\n",
    "\n",
    "import easygui\n",
    "import pymssql\n",
    "import pandas as pd\n",
    "\n",
    "now = datetime.datetime.now()\n",
    "nowDate = now.strftime('%Y-%m-%d')\n",
    "print(nowDate)\n",
    "\n",
    "# MSSQL 접속\n",
    "conn = pymssql.connect(host=r\"211.233.21.82\", user='bif', password='DWBIF2020!@#', database='DB_PRICE', charset='utf8')\n",
    "\n",
    "# Connection 으로부터 Cursor 생성\n",
    "cursor = conn.cursor()\n",
    "try:\n",
    "    for i in range(len(data)-1):\n",
    "        #SQL문 실행\n",
    "        cursor.execute(\"INSERT INTO dbo.price_table(date, product_ID,company, price)  VALUES (%s,%s,%s,%s);\", (nowDate,data[i][0],data[i][1],data[i][3]))\n",
    "except:\n",
    "    easygui.msgbox('추가된 데이터 오류 혹은 중복 실행으로 인한 오류', '대원CTS 최저가 비교 크롤링')\n",
    "\n",
    "else:   \n",
    "    conn.commit()\n",
    "    conn.close()"
   ]
  },
  {
   "cell_type": "markdown",
   "metadata": {},
   "source": [
    "# 디비로부터 데이터 추출"
   ]
  },
  {
   "cell_type": "code",
   "execution_count": 10,
   "metadata": {
    "scrolled": false
   },
   "outputs": [
    {
     "data": {
      "text/html": [
       "<div>\n",
       "<style scoped>\n",
       "    .dataframe tbody tr th:only-of-type {\n",
       "        vertical-align: middle;\n",
       "    }\n",
       "\n",
       "    .dataframe tbody tr th {\n",
       "        vertical-align: top;\n",
       "    }\n",
       "\n",
       "    .dataframe thead th {\n",
       "        text-align: right;\n",
       "    }\n",
       "</style>\n",
       "<table border=\"1\" class=\"dataframe\">\n",
       "  <thead>\n",
       "    <tr style=\"text-align: right;\">\n",
       "      <th></th>\n",
       "      <th>date</th>\n",
       "      <th>product_id</th>\n",
       "      <th>price</th>\n",
       "      <th>company</th>\n",
       "    </tr>\n",
       "  </thead>\n",
       "  <tbody>\n",
       "    <tr>\n",
       "      <th>0</th>\n",
       "      <td>2020-11-19</td>\n",
       "      <td>DM500S9Z-AD3BA</td>\n",
       "      <td>548,720¿ø</td>\n",
       "      <td>SAMSUNG</td>\n",
       "    </tr>\n",
       "    <tr>\n",
       "      <th>1</th>\n",
       "      <td>2020-11-19</td>\n",
       "      <td>FA506IU-HN174</td>\n",
       "      <td>1,199,000¿ø</td>\n",
       "      <td>ASUS</td>\n",
       "    </tr>\n",
       "    <tr>\n",
       "      <th>2</th>\n",
       "      <td>2020-11-19</td>\n",
       "      <td>GA502IV-AZ001T</td>\n",
       "      <td>1,699,000¿ø</td>\n",
       "      <td>ASUS</td>\n",
       "    </tr>\n",
       "    <tr>\n",
       "      <th>3</th>\n",
       "      <td>2020-11-19</td>\n",
       "      <td>NT750QCJ-K58A</td>\n",
       "      <td>1,797,990¿ø</td>\n",
       "      <td>SAMSUNG</td>\n",
       "    </tr>\n",
       "    <tr>\n",
       "      <th>4</th>\n",
       "      <td>2020-11-19</td>\n",
       "      <td>NT950XCJ-X716A</td>\n",
       "      <td>2,087,700¿ø</td>\n",
       "      <td>SAMSUNG</td>\n",
       "    </tr>\n",
       "  </tbody>\n",
       "</table>\n",
       "</div>"
      ],
      "text/plain": [
       "         date       product_id        price  company\n",
       "0  2020-11-19   DM500S9Z-AD3BA    548,720¿ø  SAMSUNG\n",
       "1  2020-11-19    FA506IU-HN174  1,199,000¿ø     ASUS\n",
       "2  2020-11-19   GA502IV-AZ001T  1,699,000¿ø     ASUS\n",
       "3  2020-11-19    NT750QCJ-K58A  1,797,990¿ø  SAMSUNG\n",
       "4  2020-11-19   NT950XCJ-X716A  2,087,700¿ø  SAMSUNG"
      ]
     },
     "execution_count": 10,
     "metadata": {},
     "output_type": "execute_result"
    }
   ],
   "source": [
    "\n",
    "# MSSQL 접속\n",
    "conn = pymssql.connect(host=r\"211.233.21.82\", user='bif', password='DWBIF2020!@#', database='DB_PRICE', charset='utf8')\n",
    "\n",
    "# Connection 으로부터 Cursor 생성\n",
    "cursor = conn.cursor()\n",
    " \n",
    "# SQL문 실행\n",
    "cursor.execute('SELECT * FROM dbo.price_table;')\n",
    "row = cursor.fetchall()\n",
    "cols = [item[0] for item in cursor.description]\n",
    "df=pd.DataFrame(row,columns=cols)\n",
    "\n",
    "df.head()"
   ]
  },
  {
   "cell_type": "code",
   "execution_count": 11,
   "metadata": {},
   "outputs": [
    {
     "data": {
      "text/html": [
       "<div>\n",
       "<style scoped>\n",
       "    .dataframe tbody tr th:only-of-type {\n",
       "        vertical-align: middle;\n",
       "    }\n",
       "\n",
       "    .dataframe tbody tr th {\n",
       "        vertical-align: top;\n",
       "    }\n",
       "\n",
       "    .dataframe thead th {\n",
       "        text-align: right;\n",
       "    }\n",
       "</style>\n",
       "<table border=\"1\" class=\"dataframe\">\n",
       "  <thead>\n",
       "    <tr style=\"text-align: right;\">\n",
       "      <th></th>\n",
       "      <th>date</th>\n",
       "      <th>product_id</th>\n",
       "      <th>price</th>\n",
       "      <th>company</th>\n",
       "    </tr>\n",
       "  </thead>\n",
       "  <tbody>\n",
       "    <tr>\n",
       "      <th>0</th>\n",
       "      <td>2020-11-19</td>\n",
       "      <td>DM500S9Z-AD3BA</td>\n",
       "      <td>548720</td>\n",
       "      <td>SAMSUNG</td>\n",
       "    </tr>\n",
       "    <tr>\n",
       "      <th>1</th>\n",
       "      <td>2020-11-19</td>\n",
       "      <td>FA506IU-HN174</td>\n",
       "      <td>1199000</td>\n",
       "      <td>ASUS</td>\n",
       "    </tr>\n",
       "    <tr>\n",
       "      <th>2</th>\n",
       "      <td>2020-11-19</td>\n",
       "      <td>GA502IV-AZ001T</td>\n",
       "      <td>1699000</td>\n",
       "      <td>ASUS</td>\n",
       "    </tr>\n",
       "    <tr>\n",
       "      <th>3</th>\n",
       "      <td>2020-11-19</td>\n",
       "      <td>NT750QCJ-K58A</td>\n",
       "      <td>1797990</td>\n",
       "      <td>SAMSUNG</td>\n",
       "    </tr>\n",
       "    <tr>\n",
       "      <th>4</th>\n",
       "      <td>2020-11-19</td>\n",
       "      <td>NT950XCJ-X716A</td>\n",
       "      <td>2087700</td>\n",
       "      <td>SAMSUNG</td>\n",
       "    </tr>\n",
       "    <tr>\n",
       "      <th>...</th>\n",
       "      <td>...</td>\n",
       "      <td>...</td>\n",
       "      <td>...</td>\n",
       "      <td>...</td>\n",
       "    </tr>\n",
       "    <tr>\n",
       "      <th>106</th>\n",
       "      <td>2020-11-23</td>\n",
       "      <td>NT550XCR-AD1WA</td>\n",
       "      <td>498990</td>\n",
       "      <td>SAMSUNG</td>\n",
       "    </tr>\n",
       "    <tr>\n",
       "      <th>107</th>\n",
       "      <td>2020-11-23</td>\n",
       "      <td>NT550XCR-AD2A</td>\n",
       "      <td>598000</td>\n",
       "      <td>SAMSUNG</td>\n",
       "    </tr>\n",
       "    <tr>\n",
       "      <th>108</th>\n",
       "      <td>2020-11-23</td>\n",
       "      <td>NT550XCR-AD5A + NVMe SSD 512GB</td>\n",
       "      <td>998000</td>\n",
       "      <td>SAMSUNG</td>\n",
       "    </tr>\n",
       "    <tr>\n",
       "      <th>109</th>\n",
       "      <td>2020-11-23</td>\n",
       "      <td>NT550XCR-GD5A</td>\n",
       "      <td>1198990</td>\n",
       "      <td>SAMSUNG</td>\n",
       "    </tr>\n",
       "    <tr>\n",
       "      <th>110</th>\n",
       "      <td>2020-11-23</td>\n",
       "      <td>NT950XCR-G58A</td>\n",
       "      <td>1528000</td>\n",
       "      <td>SAMSUNG</td>\n",
       "    </tr>\n",
       "  </tbody>\n",
       "</table>\n",
       "<p>111 rows × 4 columns</p>\n",
       "</div>"
      ],
      "text/plain": [
       "           date                      product_id    price  company\n",
       "0    2020-11-19                  DM500S9Z-AD3BA   548720  SAMSUNG\n",
       "1    2020-11-19                   FA506IU-HN174  1199000     ASUS\n",
       "2    2020-11-19                  GA502IV-AZ001T  1699000     ASUS\n",
       "3    2020-11-19                   NT750QCJ-K58A  1797990  SAMSUNG\n",
       "4    2020-11-19                  NT950XCJ-X716A  2087700  SAMSUNG\n",
       "..          ...                             ...      ...      ...\n",
       "106  2020-11-23                  NT550XCR-AD1WA   498990  SAMSUNG\n",
       "107  2020-11-23                   NT550XCR-AD2A   598000  SAMSUNG\n",
       "108  2020-11-23  NT550XCR-AD5A + NVMe SSD 512GB   998000  SAMSUNG\n",
       "109  2020-11-23                   NT550XCR-GD5A  1198990  SAMSUNG\n",
       "110  2020-11-23                   NT950XCR-G58A  1528000  SAMSUNG\n",
       "\n",
       "[111 rows x 4 columns]"
      ]
     },
     "execution_count": 11,
     "metadata": {},
     "output_type": "execute_result"
    }
   ],
   "source": [
    "import re\n",
    "\n",
    "long=len(df['price'])\n",
    "\n",
    "for i in range(long):\n",
    "    slt=re.findall(\"[0-9]\", df['price'][i])\n",
    "    df['price'][i]=int(''.join(slt))\n",
    "    \n",
    "df.to_csv(\"C:\\\\Users\\\\user\\\\Desktop\\\\result.csv\")\n",
    "\n",
    "df"
   ]
  },
  {
   "cell_type": "code",
   "execution_count": null,
   "metadata": {},
   "outputs": [],
   "source": []
  },
  {
   "cell_type": "code",
   "execution_count": null,
   "metadata": {},
   "outputs": [],
   "source": []
  }
 ],
 "metadata": {
  "kernelspec": {
   "display_name": "Python 3",
   "language": "python",
   "name": "python3"
  },
  "language_info": {
   "codemirror_mode": {
    "name": "ipython",
    "version": 3
   },
   "file_extension": ".py",
   "mimetype": "text/x-python",
   "name": "python",
   "nbconvert_exporter": "python",
   "pygments_lexer": "ipython3",
   "version": "3.7.0"
  }
 },
 "nbformat": 4,
 "nbformat_minor": 4
}
