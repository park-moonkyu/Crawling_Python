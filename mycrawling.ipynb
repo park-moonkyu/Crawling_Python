{
 "cells": [
  {
   "cell_type": "code",
   "execution_count": 2,
   "metadata": {
    "scrolled": true
   },
   "outputs": [
    {
     "name": "stdout",
     "output_type": "stream",
     "text": [
      "['NT930QCG-K58A', '박문규', '20.11.03']\n",
      "['NT350XCR-AD5WA', '박문규', '20.11.05']\n",
      "['15ZD90N-VX50K', '권규현', '20.10.29']\n",
      "['15UD40N-GX36K', '이승호', '20.10.29']\n",
      "['NT950XCR-G58A', '박문규', '20.10.29']\n",
      "['17ZD90N-VX70K', '권규현', '20.10.29']\n",
      "['NT950QCT-A58A', '권규현', '20.10.29']\n",
      "['15ZD90N-HX56K', '임선정', '20.10.29']\n",
      "['NT950XCR-A58A', '임선정', '20.10.29']\n",
      "['NT950XCJ-X716A', '권규현', '20.10.29']\n",
      "['MXK32KH/A', '박문규', '20.10.30']\n",
      "['MVVK2KH/A', '박문규', '20.11.09']\n",
      "['MSI GL75 Leopard 10SDK', '박문규', '20.11.07']\n"
     ]
    }
   ],
   "source": [
    "# -*- coding:utf-8 -*-\n",
    "import openpyxl\n",
    "from bs4 import BeautifulSoup\n",
    "from urllib.request import urlopen\n",
    "import csv, re, requests\n",
    "import time\n",
    "\n",
    "# 엑셀파일 열기\n",
    "filename = \"test.xlsx\"\n",
    "book = openpyxl.load_workbook(filename)\n",
    "\n",
    "# 맨 앞의 시트 추출하기\n",
    "sheet = book.worksheets[0]\n",
    "\n",
    "# 시트의 각 행을 순서대로 추출하기\n",
    "data = []\n",
    "for row in sheet.rows:\n",
    "    data.append([row[0].value, row[1].value,row[2].value])\n",
    "\n",
    "del data[0]\n",
    "\n",
    "for i in range(len(data)):\n",
    "    print(data[i])\n"
   ]
  },
  {
   "cell_type": "markdown",
   "metadata": {},
   "source": [
    "# Beautiful 빠르나 결국 URL당 접근하면 느려지기때문에 selenium 검색과 시간 비교"
   ]
  },
  {
   "cell_type": "code",
   "execution_count": 3,
   "metadata": {
    "scrolled": false
   },
   "outputs": [
    {
     "name": "stdout",
     "output_type": "stream",
     "text": [
      "https://search.shopping.naver.com/search/all?query=NT930QCG-K58A\n",
      "https://search.shopping.naver.com/search/all?query=NT350XCR-AD5WA\n",
      "https://search.shopping.naver.com/search/all?query=15ZD90N-VX50K\n",
      "https://search.shopping.naver.com/search/all?query=15UD40N-GX36K\n",
      "https://search.shopping.naver.com/search/all?query=NT950XCR-G58A\n",
      "https://search.shopping.naver.com/search/all?query=17ZD90N-VX70K\n",
      "https://search.shopping.naver.com/search/all?query=NT950QCT-A58A\n",
      "https://search.shopping.naver.com/search/all?query=15ZD90N-HX56K\n",
      "https://search.shopping.naver.com/search/all?query=NT950XCR-A58A\n",
      "https://search.shopping.naver.com/search/all?query=NT950XCJ-X716A\n",
      "https://search.shopping.naver.com/search/all?query=MXK32KH/A\n",
      "https://search.shopping.naver.com/search/all?query=MVVK2KH/A\n",
      "https://search.shopping.naver.com/search/all?query=MSI GL75 Leopard 10SDK\n",
      "time : 6.5688722133636475\n",
      "[['NT930QCG-K58A', '박문규', '20.11.03', '1,831,000원'], ['NT350XCR-AD5WA', '박문규', '20.11.05', '839,000원'], ['15ZD90N-VX50K', '권규현', '20.10.29', '1,337,620원'], ['15UD40N-GX36K', '이승호', '20.10.29', '675,870원'], ['NT950XCR-G58A', '박문규', '20.10.29', '1,548,480원'], ['17ZD90N-VX70K', '권규현', '20.10.29', '1,603,790원'], ['NT950QCT-A58A', '권규현', '20.10.29', '1,659,900원'], ['15ZD90N-HX56K', '임선정', '20.10.29', '1,396,590원'], ['NT950XCR-A58A', '임선정', '20.10.29', '1,440,450원'], ['NT950XCJ-X716A', '권규현', '20.10.29', '2,088,990원'], ['MXK32KH/A', '박문규', '20.10.30', '1,600,000원'], ['MVVK2KH/A', '박문규', '20.11.09', '3,259,500원'], ['MSI GL75 Leopard 10SDK', '박문규', '20.11.07', '1,349,000원']]\n"
     ]
    }
   ],
   "source": [
    "start = time.time()  # 시작 시간 저장\n",
    "result=[]\n",
    "\n",
    "\n",
    "for i in range(len(data)):\n",
    "    if data[i][0]== None:\n",
    "        break\n",
    "    else:\n",
    "        url = 'https://search.shopping.naver.com/search/all?query=' + data[i][0]\n",
    "        print(url)\n",
    "        req = requests.get(url)   # 크롤링할 페이지 url로 요청 보내기 , req를 출력하면 statuscode만 출력됨\n",
    "        html = req.text                # html 코드를 가져온다!\n",
    "        soup = BeautifulSoup(html, 'html.parser')\n",
    "        if soup.find('span', class_=\"price_num__2WUXn\").text == None:\n",
    "                         result.append(\"해당상품없음\")\n",
    "        else:\n",
    "            data[i].append(soup.find('span', class_=\"price_num__2WUXn\").text)\n",
    "            \n",
    "# 작업 코드\n",
    " \n",
    "print(\"time :\", time.time() - start)  # 현재시각 - 시작시간 = 실행 시간\n",
    "print(data)"
   ]
  },
  {
   "cell_type": "markdown",
   "metadata": {},
   "source": [
    "# DB에 해당 데이터 뿌려주기 "
   ]
  },
  {
   "cell_type": "markdown",
   "metadata": {},
   "source": [
    "2. MSSQL 사용 절차,\n",
    "Python에서 MSSQL에 있는 데이타를 사용하는 일반적인 절차는 다음과 같다.<br>\n",
    "\n",
    "pymssql 모듈을 import 한다<br>\n",
    "pymssql.connect() 메소드를 사용하여 MSSQL에 Connect 한다. 호스트명, 로그인, 암호, 접속할 DB 등을 파라미터로 지정할 수 있다.<br>\n",
    "DB 접속이 성공하면, Connection 객체로부터 cursor() 메서드를 호출하여 Cursor 객체를 가져온다. DB 커서는 Fetch 동작을 관리하는데 사용된다.<br>\n",
    "Cursor 객체의 execute() 메서드를 사용하여 SQL 문장을 DB 서버에 보낸다.<br>\n",
    "SQL 쿼리의 경우 Cursor 객체의 fetchall(), fetchone(), fetchmany() 등의 메서드를 사용하여 데이타를 서버로부터 가져온 후, Fetch 된 데이타를 사용한다.<br>\n",
    "삽입, 갱신, 삭제 등의 DML(Data Manipulation Language) 문장을 실행하는 경우, INSERT/UPDATE/DELETE 후 Connection 객체의 commit() 메서드를 사용하여 데이타를 확정 갱신한다.<br>\n",
    "Connection 객체의 close() 메서드를 사용하여 DB 연결을 닫는다.<br>\n",
    "아래 예제들의 기본 샘플 데이타로 아래와 같은 Customer 테이블이 있다고 가정하자.<br>"
   ]
  },
  {
   "cell_type": "code",
   "execution_count": 4,
   "metadata": {},
   "outputs": [
    {
     "name": "stdout",
     "output_type": "stream",
     "text": [
      "1,831,000원\n",
      "<class 'str'>\n"
     ]
    }
   ],
   "source": [
    "print(data[0][3])\n",
    "print(type(data[0][3]))"
   ]
  },
  {
   "cell_type": "markdown",
   "metadata": {},
   "source": [
    "UTF-8 문제로인하여 해결되지않았던 문제를 해결함. <br>\n",
    "UnicodeDecodeError: 'utf-8' codec can't decode byte 0xbf in position 11: invalid start byte <br>\n",
    "위에 나온 문제가 계속나와서 별것도아닌걸로 계속 끙끙됌 "
   ]
  },
  {
   "cell_type": "code",
   "execution_count": 5,
   "metadata": {
    "scrolled": true
   },
   "outputs": [
    {
     "name": "stdout",
     "output_type": "stream",
     "text": [
      "2020-11-12\n"
     ]
    }
   ],
   "source": [
    "import datetime\n",
    "\n",
    "\n",
    "now = datetime.datetime.now()\n",
    "nowDate = now.strftime('%Y-%m-%d')\n",
    "print(nowDate)"
   ]
  },
  {
   "cell_type": "code",
   "execution_count": 11,
   "metadata": {
    "scrolled": false
   },
   "outputs": [
    {
     "name": "stdout",
     "output_type": "stream",
     "text": [
      "2020-11-12\n"
     ]
    }
   ],
   "source": [
    " # -*- coding: utf-8 -*-\n",
    "\n",
    "import easygui\n",
    "import pymssql\n",
    "import pandas as pd\n",
    "\n",
    "now = datetime.datetime.now()\n",
    "nowDate = now.strftime('%Y-%m-%d')\n",
    "print(nowDate)\n",
    "\n",
    "# MSSQL 접속\n",
    "conn = pymssql.connect(host=r\"211.233.21.82\", user='bif', password='DWBIF2020!@#', database='DB_PRICE', charset='utf8')\n",
    "\n",
    "# Connection 으로부터 Cursor 생성\n",
    "cursor = conn.cursor()\n",
    "try:\n",
    "    for i in range(len(data)-1):\n",
    "        #SQL문 실행\n",
    "        cursor.execute(\"INSERT INTO dbo.price_table(date, product_ID, price)  VALUES (%s,%s,%s);\", (nowDate,data[i][0],data[i][3]))\n",
    "except:\n",
    "    easygui.msgbox('추가된 데이터 오류 혹은 중복 실행으로 인한 오류', '대원CTS 최저가 비교 크롤링')\n",
    "\n",
    "else:   \n",
    "    conn.commit()\n",
    "    conn.close()"
   ]
  },
  {
   "cell_type": "markdown",
   "metadata": {},
   "source": [
    "# 디비로부터 데이터 추출"
   ]
  },
  {
   "cell_type": "code",
   "execution_count": 58,
   "metadata": {
    "scrolled": false
   },
   "outputs": [
    {
     "data": {
      "text/html": [
       "<div>\n",
       "<style scoped>\n",
       "    .dataframe tbody tr th:only-of-type {\n",
       "        vertical-align: middle;\n",
       "    }\n",
       "\n",
       "    .dataframe tbody tr th {\n",
       "        vertical-align: top;\n",
       "    }\n",
       "\n",
       "    .dataframe thead th {\n",
       "        text-align: right;\n",
       "    }\n",
       "</style>\n",
       "<table border=\"1\" class=\"dataframe\">\n",
       "  <thead>\n",
       "    <tr style=\"text-align: right;\">\n",
       "      <th></th>\n",
       "      <th>date</th>\n",
       "      <th>product_id</th>\n",
       "      <th>price</th>\n",
       "    </tr>\n",
       "  </thead>\n",
       "  <tbody>\n",
       "    <tr>\n",
       "      <th>0</th>\n",
       "      <td>2020-11-11</td>\n",
       "      <td>15UD40N-GX36K</td>\n",
       "      <td>676,070¿ø</td>\n",
       "    </tr>\n",
       "    <tr>\n",
       "      <th>1</th>\n",
       "      <td>2020-11-11</td>\n",
       "      <td>15ZD90N-HX56K</td>\n",
       "      <td>1,392,820¿ø</td>\n",
       "    </tr>\n",
       "    <tr>\n",
       "      <th>2</th>\n",
       "      <td>2020-11-11</td>\n",
       "      <td>15ZD90N-VX50K</td>\n",
       "      <td>1,338,120¿ø</td>\n",
       "    </tr>\n",
       "    <tr>\n",
       "      <th>3</th>\n",
       "      <td>2020-11-11</td>\n",
       "      <td>17ZD90N-VX70K</td>\n",
       "      <td>1,581,850¿ø</td>\n",
       "    </tr>\n",
       "    <tr>\n",
       "      <th>4</th>\n",
       "      <td>2020-11-11</td>\n",
       "      <td>MVVK2KH/A</td>\n",
       "      <td>3,259,500¿ø</td>\n",
       "    </tr>\n",
       "  </tbody>\n",
       "</table>\n",
       "</div>"
      ],
      "text/plain": [
       "         date     product_id        price\n",
       "0  2020-11-11  15UD40N-GX36K    676,070¿ø\n",
       "1  2020-11-11  15ZD90N-HX56K  1,392,820¿ø\n",
       "2  2020-11-11  15ZD90N-VX50K  1,338,120¿ø\n",
       "3  2020-11-11  17ZD90N-VX70K  1,581,850¿ø\n",
       "4  2020-11-11      MVVK2KH/A  3,259,500¿ø"
      ]
     },
     "execution_count": 58,
     "metadata": {},
     "output_type": "execute_result"
    }
   ],
   "source": [
    "\n",
    "# MSSQL 접속\n",
    "conn = pymssql.connect(host=r\"211.233.21.82\", user='bif', password='DWBIF2020!@#', database='DB_PRICE', charset='utf8')\n",
    "\n",
    "# Connection 으로부터 Cursor 생성\n",
    "cursor = conn.cursor()\n",
    " \n",
    "# SQL문 실행\n",
    "cursor.execute('SELECT * FROM dbo.price_table;')\n",
    "row = cursor.fetchall()\n",
    "cols = [item[0] for item in cursor.description]\n",
    "df=pd.DataFrame(row,columns=cols)\n",
    "\n",
    "df.head()"
   ]
  },
  {
   "cell_type": "code",
   "execution_count": 59,
   "metadata": {},
   "outputs": [],
   "source": [
    "import re\n",
    "\n",
    "long=len(df['price'])\n",
    "\n",
    "for i in range(long):\n",
    "    slt=re.findall(\"[0-9]\", df['price'][i])\n",
    "    df['price'][i]=int(''.join(slt))\n",
    "    \n",
    "df.to_csv(\"C:\\\\Users\\\\user\\\\Desktop\\\\result.csv\")"
   ]
  },
  {
   "cell_type": "code",
   "execution_count": 56,
   "metadata": {},
   "outputs": [
    {
     "ename": "ValueError",
     "evalue": "The truth value of a Series is ambiguous. Use a.empty, a.bool(), a.item(), a.any() or a.all().",
     "output_type": "error",
     "traceback": [
      "\u001b[1;31m---------------------------------------------------------------------------\u001b[0m",
      "\u001b[1;31mValueError\u001b[0m                                Traceback (most recent call last)",
      "\u001b[1;32m<ipython-input-56-8281f1e50332>\u001b[0m in \u001b[0;36m<module>\u001b[1;34m\u001b[0m\n\u001b[0;32m      6\u001b[0m \u001b[0mplt\u001b[0m\u001b[1;33m.\u001b[0m\u001b[0msubplot\u001b[0m\u001b[1;33m(\u001b[0m\u001b[1;36m2\u001b[0m\u001b[1;33m,\u001b[0m\u001b[1;36m2\u001b[0m\u001b[1;33m,\u001b[0m\u001b[1;36m1\u001b[0m\u001b[1;33m)\u001b[0m\u001b[1;33m\u001b[0m\u001b[1;33m\u001b[0m\u001b[0m\n\u001b[0;32m      7\u001b[0m \u001b[0mplt\u001b[0m\u001b[1;33m.\u001b[0m\u001b[0mtitle\u001b[0m\u001b[1;33m(\u001b[0m\u001b[1;34m\"15UD40N-GX36K\"\u001b[0m\u001b[1;33m)\u001b[0m\u001b[1;33m\u001b[0m\u001b[1;33m\u001b[0m\u001b[0m\n\u001b[1;32m----> 8\u001b[1;33m \u001b[0mplt\u001b[0m\u001b[1;33m.\u001b[0m\u001b[0mxlabel\u001b[0m\u001b[1;33m(\u001b[0m\u001b[0mdf\u001b[0m\u001b[1;33m[\u001b[0m\u001b[1;34m'product_id'\u001b[0m\u001b[1;33m]\u001b[0m\u001b[1;33m)\u001b[0m\u001b[1;33m\u001b[0m\u001b[1;33m\u001b[0m\u001b[0m\n\u001b[0m\u001b[0;32m      9\u001b[0m \u001b[0mplt\u001b[0m\u001b[1;33m.\u001b[0m\u001b[0mylabel\u001b[0m\u001b[1;33m(\u001b[0m\u001b[0mdf\u001b[0m\u001b[1;33m[\u001b[0m\u001b[1;34m'price'\u001b[0m\u001b[1;33m]\u001b[0m\u001b[1;33m)\u001b[0m\u001b[1;33m\u001b[0m\u001b[1;33m\u001b[0m\u001b[0m\n\u001b[0;32m     10\u001b[0m \u001b[0mplt\u001b[0m\u001b[1;33m.\u001b[0m\u001b[0mplot\u001b[0m\u001b[1;33m(\u001b[0m\u001b[0mnp\u001b[0m\u001b[1;33m.\u001b[0m\u001b[0mrandom\u001b[0m\u001b[1;33m.\u001b[0m\u001b[0mrandn\u001b[0m\u001b[1;33m(\u001b[0m\u001b[1;36m50\u001b[0m\u001b[1;33m)\u001b[0m\u001b[1;33m,\u001b[0m\u001b[1;34m'g'\u001b[0m\u001b[1;33m)\u001b[0m\u001b[1;33m\u001b[0m\u001b[1;33m\u001b[0m\u001b[0m\n",
      "\u001b[1;32m~\\anaconda3\\lib\\site-packages\\matplotlib\\pyplot.py\u001b[0m in \u001b[0;36mxlabel\u001b[1;34m(xlabel, fontdict, labelpad, **kwargs)\u001b[0m\n\u001b[0;32m   3036\u001b[0m \u001b[1;33m@\u001b[0m\u001b[0mdocstring\u001b[0m\u001b[1;33m.\u001b[0m\u001b[0mcopy\u001b[0m\u001b[1;33m(\u001b[0m\u001b[0mAxes\u001b[0m\u001b[1;33m.\u001b[0m\u001b[0mset_xlabel\u001b[0m\u001b[1;33m)\u001b[0m\u001b[1;33m\u001b[0m\u001b[1;33m\u001b[0m\u001b[0m\n\u001b[0;32m   3037\u001b[0m \u001b[1;32mdef\u001b[0m \u001b[0mxlabel\u001b[0m\u001b[1;33m(\u001b[0m\u001b[0mxlabel\u001b[0m\u001b[1;33m,\u001b[0m \u001b[0mfontdict\u001b[0m\u001b[1;33m=\u001b[0m\u001b[1;32mNone\u001b[0m\u001b[1;33m,\u001b[0m \u001b[0mlabelpad\u001b[0m\u001b[1;33m=\u001b[0m\u001b[1;32mNone\u001b[0m\u001b[1;33m,\u001b[0m \u001b[1;33m**\u001b[0m\u001b[0mkwargs\u001b[0m\u001b[1;33m)\u001b[0m\u001b[1;33m:\u001b[0m\u001b[1;33m\u001b[0m\u001b[1;33m\u001b[0m\u001b[0m\n\u001b[1;32m-> 3038\u001b[1;33m     return gca().set_xlabel(\n\u001b[0m\u001b[0;32m   3039\u001b[0m         xlabel, fontdict=fontdict, labelpad=labelpad, **kwargs)\n\u001b[0;32m   3040\u001b[0m \u001b[1;33m\u001b[0m\u001b[0m\n",
      "\u001b[1;32m~\\anaconda3\\lib\\site-packages\\matplotlib\\axes\\_axes.py\u001b[0m in \u001b[0;36mset_xlabel\u001b[1;34m(self, xlabel, fontdict, labelpad, **kwargs)\u001b[0m\n\u001b[0;32m    246\u001b[0m         \u001b[1;32mif\u001b[0m \u001b[0mlabelpad\u001b[0m \u001b[1;32mis\u001b[0m \u001b[1;32mnot\u001b[0m \u001b[1;32mNone\u001b[0m\u001b[1;33m:\u001b[0m\u001b[1;33m\u001b[0m\u001b[1;33m\u001b[0m\u001b[0m\n\u001b[0;32m    247\u001b[0m             \u001b[0mself\u001b[0m\u001b[1;33m.\u001b[0m\u001b[0mxaxis\u001b[0m\u001b[1;33m.\u001b[0m\u001b[0mlabelpad\u001b[0m \u001b[1;33m=\u001b[0m \u001b[0mlabelpad\u001b[0m\u001b[1;33m\u001b[0m\u001b[1;33m\u001b[0m\u001b[0m\n\u001b[1;32m--> 248\u001b[1;33m         \u001b[1;32mreturn\u001b[0m \u001b[0mself\u001b[0m\u001b[1;33m.\u001b[0m\u001b[0mxaxis\u001b[0m\u001b[1;33m.\u001b[0m\u001b[0mset_label_text\u001b[0m\u001b[1;33m(\u001b[0m\u001b[0mxlabel\u001b[0m\u001b[1;33m,\u001b[0m \u001b[0mfontdict\u001b[0m\u001b[1;33m,\u001b[0m \u001b[1;33m**\u001b[0m\u001b[0mkwargs\u001b[0m\u001b[1;33m)\u001b[0m\u001b[1;33m\u001b[0m\u001b[1;33m\u001b[0m\u001b[0m\n\u001b[0m\u001b[0;32m    249\u001b[0m \u001b[1;33m\u001b[0m\u001b[0m\n\u001b[0;32m    250\u001b[0m     \u001b[1;32mdef\u001b[0m \u001b[0mget_ylabel\u001b[0m\u001b[1;33m(\u001b[0m\u001b[0mself\u001b[0m\u001b[1;33m)\u001b[0m\u001b[1;33m:\u001b[0m\u001b[1;33m\u001b[0m\u001b[1;33m\u001b[0m\u001b[0m\n",
      "\u001b[1;32m~\\anaconda3\\lib\\site-packages\\matplotlib\\axis.py\u001b[0m in \u001b[0;36mset_label_text\u001b[1;34m(self, label, fontdict, **kwargs)\u001b[0m\n\u001b[0;32m   1611\u001b[0m         \"\"\"\n\u001b[0;32m   1612\u001b[0m         \u001b[0mself\u001b[0m\u001b[1;33m.\u001b[0m\u001b[0misDefault_label\u001b[0m \u001b[1;33m=\u001b[0m \u001b[1;32mFalse\u001b[0m\u001b[1;33m\u001b[0m\u001b[1;33m\u001b[0m\u001b[0m\n\u001b[1;32m-> 1613\u001b[1;33m         \u001b[0mself\u001b[0m\u001b[1;33m.\u001b[0m\u001b[0mlabel\u001b[0m\u001b[1;33m.\u001b[0m\u001b[0mset_text\u001b[0m\u001b[1;33m(\u001b[0m\u001b[0mlabel\u001b[0m\u001b[1;33m)\u001b[0m\u001b[1;33m\u001b[0m\u001b[1;33m\u001b[0m\u001b[0m\n\u001b[0m\u001b[0;32m   1614\u001b[0m         \u001b[1;32mif\u001b[0m \u001b[0mfontdict\u001b[0m \u001b[1;32mis\u001b[0m \u001b[1;32mnot\u001b[0m \u001b[1;32mNone\u001b[0m\u001b[1;33m:\u001b[0m\u001b[1;33m\u001b[0m\u001b[1;33m\u001b[0m\u001b[0m\n\u001b[0;32m   1615\u001b[0m             \u001b[0mself\u001b[0m\u001b[1;33m.\u001b[0m\u001b[0mlabel\u001b[0m\u001b[1;33m.\u001b[0m\u001b[0mupdate\u001b[0m\u001b[1;33m(\u001b[0m\u001b[0mfontdict\u001b[0m\u001b[1;33m)\u001b[0m\u001b[1;33m\u001b[0m\u001b[1;33m\u001b[0m\u001b[0m\n",
      "\u001b[1;32m~\\anaconda3\\lib\\site-packages\\matplotlib\\text.py\u001b[0m in \u001b[0;36mset_text\u001b[1;34m(self, s)\u001b[0m\n\u001b[0;32m   1163\u001b[0m         \u001b[1;32mif\u001b[0m \u001b[0ms\u001b[0m \u001b[1;32mis\u001b[0m \u001b[1;32mNone\u001b[0m\u001b[1;33m:\u001b[0m\u001b[1;33m\u001b[0m\u001b[1;33m\u001b[0m\u001b[0m\n\u001b[0;32m   1164\u001b[0m             \u001b[0ms\u001b[0m \u001b[1;33m=\u001b[0m \u001b[1;34m''\u001b[0m\u001b[1;33m\u001b[0m\u001b[1;33m\u001b[0m\u001b[0m\n\u001b[1;32m-> 1165\u001b[1;33m         \u001b[1;32mif\u001b[0m \u001b[0ms\u001b[0m \u001b[1;33m!=\u001b[0m \u001b[0mself\u001b[0m\u001b[1;33m.\u001b[0m\u001b[0m_text\u001b[0m\u001b[1;33m:\u001b[0m\u001b[1;33m\u001b[0m\u001b[1;33m\u001b[0m\u001b[0m\n\u001b[0m\u001b[0;32m   1166\u001b[0m             \u001b[0mself\u001b[0m\u001b[1;33m.\u001b[0m\u001b[0m_text\u001b[0m \u001b[1;33m=\u001b[0m \u001b[0mstr\u001b[0m\u001b[1;33m(\u001b[0m\u001b[0ms\u001b[0m\u001b[1;33m)\u001b[0m\u001b[1;33m\u001b[0m\u001b[1;33m\u001b[0m\u001b[0m\n\u001b[0;32m   1167\u001b[0m             \u001b[0mself\u001b[0m\u001b[1;33m.\u001b[0m\u001b[0mstale\u001b[0m \u001b[1;33m=\u001b[0m \u001b[1;32mTrue\u001b[0m\u001b[1;33m\u001b[0m\u001b[1;33m\u001b[0m\u001b[0m\n",
      "\u001b[1;32m~\\anaconda3\\lib\\site-packages\\pandas\\core\\generic.py\u001b[0m in \u001b[0;36m__nonzero__\u001b[1;34m(self)\u001b[0m\n\u001b[0;32m   1476\u001b[0m \u001b[1;33m\u001b[0m\u001b[0m\n\u001b[0;32m   1477\u001b[0m     \u001b[1;32mdef\u001b[0m \u001b[0m__nonzero__\u001b[0m\u001b[1;33m(\u001b[0m\u001b[0mself\u001b[0m\u001b[1;33m)\u001b[0m\u001b[1;33m:\u001b[0m\u001b[1;33m\u001b[0m\u001b[1;33m\u001b[0m\u001b[0m\n\u001b[1;32m-> 1478\u001b[1;33m         raise ValueError(\n\u001b[0m\u001b[0;32m   1479\u001b[0m             \u001b[1;34mf\"The truth value of a {type(self).__name__} is ambiguous. \"\u001b[0m\u001b[1;33m\u001b[0m\u001b[1;33m\u001b[0m\u001b[0m\n\u001b[0;32m   1480\u001b[0m             \u001b[1;34m\"Use a.empty, a.bool(), a.item(), a.any() or a.all().\"\u001b[0m\u001b[1;33m\u001b[0m\u001b[1;33m\u001b[0m\u001b[0m\n",
      "\u001b[1;31mValueError\u001b[0m: The truth value of a Series is ambiguous. Use a.empty, a.bool(), a.item(), a.any() or a.all()."
     ]
    },
    {
     "data": {
      "image/png": "[encoded data removed]",
      "text/plain": [
       "<Figure size 576x432 with 1 Axes>"
      ]
     },
     "metadata": {
      "needs_background": "light"
     },
     "output_type": "display_data"
    }
   ],
   "source": [
    "import numpy as np\n",
    "import matplotlib.pyplot as plt\n",
    "\n",
    "%matplotlib inline\n",
    "plt.figure(figsize=(8,6))\n",
    "plt.subplot(2,2,1)\n",
    "plt.title(\"15UD40N-GX36K\")\n",
    "plt.xlabel(df['product_id'])\n",
    "plt.ylabel(df['price'])\n",
    "plt.plot(np.random.randn(50),'g')\n",
    "plt.subplot(2,2,2)\n",
    "plt.title(\"15ZD90N-HX56K\")\n",
    "plt.plot(np.random.randn(50),'r')\n",
    "plt.subplot(2,2,3)\n",
    "plt.title(\"MVVK2KH/A\")\n",
    "\n",
    "plt.plot(np.random.randn(50))\n",
    "plt.subplot(2,2,4)\n",
    "plt.title(\"17ZD90N-VX70K\")\n",
    "\n",
    "x=np.arange(30)\n",
    "y=np.arange(30) + np.random.randn(30)*5\n",
    "plt.plot(x,y,'k--')"
   ]
  },
  {
   "cell_type": "code",
   "execution_count": null,
   "metadata": {},
   "outputs": [],
   "source": []
  }
 ],
 "metadata": {
  "kernelspec": {
   "display_name": "Python 3",
   "language": "python",
   "name": "python3"
  },
  "language_info": {
   "codemirror_mode": {
    "name": "ipython",
    "version": 3
   },
   "file_extension": ".py",
   "mimetype": "text/x-python",
   "name": "python",
   "nbconvert_exporter": "python",
   "pygments_lexer": "ipython3",
   "version": "3.8.3"
  }
 },
 "nbformat": 4,
 "nbformat_minor": 4
}
