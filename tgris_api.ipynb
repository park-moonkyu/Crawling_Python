{
 "cells": [
  {
   "cell_type": "code",
   "execution_count": 2,
   "metadata": {},
   "outputs": [
    {
     "name": "stdout",
     "output_type": "stream",
     "text": [
      "서비스를 위한 토큰 :  21f8798c63d16942e76e351d3c27072f355c536e179d4769739d05a0f3b194f07a0f371baf475a65f74ae2420ce69978\n",
      "200\n",
      "{\"code\":0,\"message\":\"성공\",\"data\":null}\n"
     ]
    }
   ],
   "source": [
    "# RPA 커뮤니티 키값 : ca388997cc02db80ffb6baa69b0eab45\n",
    "# URL 사용자 인증 :  \"https://api.tigrison.com/api/v2/auth/token\"\n",
    "# URL 피드 저장 :   \"https://api.tigrison.com/api/v2/feed/create\"\n",
    "# 올리고자하는 커뮤니티의 키값 첨부 \n",
    "# 다올 Key값 : \n",
    "# 대원 key 값 :\n",
    "#RPA(가격비교) : \"f987af093017a218e2f2583cb0f31886\"    <-- 리스트 key['가격비교']\n",
    "# 베스트상품 K 값 :  ca388997cc02db80ffb6baa69b0eab45,\n",
    "\n",
    "\n",
    "community_key = \"f987af093017a218e2f2583cb0f31886\"\n",
    "\n",
    "import requests\n",
    "\n",
    "# 메모장 읽어드려서 제목 및 내용 쓰기\n",
    "title=[]\n",
    "\n",
    "f= open(\"./title.csv\",'r',  encoding='UTF8')\n",
    "lines=f.readlines()\n",
    "for line in lines:\n",
    "    title.append(line)\n",
    "f.close()\n",
    "\n",
    "try:\n",
    "    url=\"https://api.tigrison.com/api/v2/auth/token\"\n",
    "    response=requests.post(url,data = {'clientId' : \"client-7e8f5cf5a1.ded24f84\",\n",
    "                                        'encryptUserId': 'n1z8JcSuDc3BryAVuuE2iQrw1QCpYTM3g6RaFOjrYJQ=' })\n",
    "    result=response.json()\n",
    "    token=result['data']\n",
    "\n",
    "    print(\"서비스를 위한 토큰 : \",token)\n",
    "\n",
    "    #파일 읽어오기\n",
    "    files={'file1': open(\"./dwcts_logo.jpg\",'rb'), 'file2': open(\"./dwcts_logo.jpg\",'rb')}\n",
    "    \n",
    "    #피드 저장\n",
    "    url=\"https://api.tigrison.com/api/v2/feed/create\"\n",
    "    response1=requests.post(url,files=files,\n",
    "                            data = {'_tigris_sid' : token,\n",
    "                                        'communityId': community_key,\n",
    "                                       'feedTitle': title[0],\n",
    "                                       'feedContents':title[1]})\n",
    "\n",
    "    print(response1.status_code)\n",
    "    print(response1.text)\n",
    "except:\n",
    "    \n",
    "    print(\"예외 발생\")\n",
    "    "
   ]
  },
  {
   "cell_type": "code",
   "execution_count": null,
   "metadata": {},
   "outputs": [],
   "source": []
  }
 ],
 "metadata": {
  "kernelspec": {
   "display_name": "Python 3",
   "language": "python",
   "name": "python3"
  },
  "language_info": {
   "codemirror_mode": {
    "name": "ipython",
    "version": 3
   },
   "file_extension": ".py",
   "mimetype": "text/x-python",
   "name": "python",
   "nbconvert_exporter": "python",
   "pygments_lexer": "ipython3",
   "version": "3.7.0"
  }
 },
 "nbformat": 4,
 "nbformat_minor": 2
}
