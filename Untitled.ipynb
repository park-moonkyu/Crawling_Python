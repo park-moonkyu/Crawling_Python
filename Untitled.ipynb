{
 "cells": [
  {
   "cell_type": "code",
   "execution_count": 6,
   "metadata": {},
   "outputs": [
    {
     "name": "stderr",
     "output_type": "stream",
     "text": [
      "'seaborn'은(는) 내부 또는 외부 명령, 실행할 수 있는 프로그램, 또는\n",
      "배치 파일이 아닙니다.\n"
     ]
    }
   ],
   "source": [
    "!seaborn  --version"
   ]
  },
  {
   "cell_type": "code",
   "execution_count": 1,
   "metadata": {},
   "outputs": [
    {
     "ename": "TypeError",
     "evalue": "kdeplot() got multiple values for argument 'data'",
     "output_type": "error",
     "traceback": [
      "\u001b[1;31m---------------------------------------------------------------------------\u001b[0m",
      "\u001b[1;31mTypeError\u001b[0m                                 Traceback (most recent call last)",
      "\u001b[1;32m<ipython-input-1-bddeb0d6abdc>\u001b[0m in \u001b[0;36m<module>\u001b[1;34m()\u001b[0m\n\u001b[0;32m     16\u001b[0m \u001b[1;33m\u001b[0m\u001b[0m\n\u001b[0;32m     17\u001b[0m \u001b[1;31m# plot 1: kde plot\u001b[0m\u001b[1;33m\u001b[0m\u001b[1;33m\u001b[0m\u001b[0m\n\u001b[1;32m---> 18\u001b[1;33m \u001b[0msns\u001b[0m\u001b[1;33m.\u001b[0m\u001b[0mkdeplot\u001b[0m\u001b[1;33m(\u001b[0m\u001b[1;34m\"bill_length_mm\"\u001b[0m\u001b[1;33m,\u001b[0m \u001b[1;34m\"bill_depth_mm\"\u001b[0m\u001b[1;33m,\u001b[0m \u001b[0mhue\u001b[0m\u001b[1;33m=\u001b[0m\u001b[1;34m\"species\"\u001b[0m\u001b[1;33m,\u001b[0m \u001b[0mdata\u001b[0m\u001b[1;33m=\u001b[0m\u001b[0mpenguins\u001b[0m\u001b[1;33m,\u001b[0m \u001b[0malpha\u001b[0m\u001b[1;33m=\u001b[0m\u001b[1;36m0.7\u001b[0m\u001b[1;33m,\u001b[0m \u001b[0max\u001b[0m\u001b[1;33m=\u001b[0m\u001b[0maxe\u001b[0m\u001b[1;33m,\u001b[0m \u001b[0mlegend\u001b[0m\u001b[1;33m=\u001b[0m\u001b[1;32mFalse\u001b[0m\u001b[1;33m)\u001b[0m\u001b[1;33m\u001b[0m\u001b[0m\n\u001b[0m\u001b[0;32m     19\u001b[0m \u001b[1;33m\u001b[0m\u001b[0m\n\u001b[0;32m     20\u001b[0m \u001b[1;31m# text:\u001b[0m\u001b[1;33m\u001b[0m\u001b[1;33m\u001b[0m\u001b[0m\n",
      "\u001b[1;31mTypeError\u001b[0m: kdeplot() got multiple values for argument 'data'"
     ]
    }
   ],
   "source": [
    "# watermark image\n",
    "\n",
    "import pandas as pd\n",
    "import matplotlib.pyplot as plt\n",
    "import seaborn as sns\n",
    "\n",
    "\n",
    "penguins = sns.load_dataset(\"penguins\")\n",
    "penguins.head()\n",
    "\n",
    "\n",
    "fig, axe = plt.subplots(figsize=(8,5))\n",
    "\n",
    "# plot 0: scatter plot\n",
    "sns.scatterplot(\"bill_length_mm\", \"bill_depth_mm\", color=\"R\", data=penguins, alpha=0.5, ax=axe, legend=False)\n",
    "\n",
    "# plot 1: kde plot\n",
    "sns.kdeplot(\"bill_length_mm\", \"bill_depth_mm\", hue=\"species\", data=penguins, alpha=0.7, ax=axe, legend=False)\n",
    "\n",
    "# text:\n",
    "species_u = penguins[\"species\"].unique()\n",
    "for i, s in enumerate(species_u):\n",
    "    ax.text(penguins[\"bill_length_mm\"].loc[penguins[\"species\"]==s].mean(),\n",
    "            penguins[\"bill_depth_mm\"].loc[penguins[\"species\"]==s].mean(),\n",
    "            s = s, fontdict={\"fontsize\":14, \"fontweight\":\"bold\",\"color\":\"K\"}\n",
    "            )\n",
    "\n",
    "ax.set_xlabel(\"Bill Length (mm)\")\n",
    "ax.set_ylabel(\"Bill Depth (mm)\")\n",
    "\n",
    "fig.tight_layout()"
   ]
  },
  {
   "cell_type": "code",
   "execution_count": null,
   "metadata": {},
   "outputs": [],
   "source": []
  }
 ],
 "metadata": {
  "kernelspec": {
   "display_name": "Python 3",
   "language": "python",
   "name": "python3"
  },
  "language_info": {
   "codemirror_mode": {
    "name": "ipython",
    "version": 3
   },
   "file_extension": ".py",
   "mimetype": "text/x-python",
   "name": "python",
   "nbconvert_exporter": "python",
   "pygments_lexer": "ipython3",
   "version": "3.7.0"
  }
 },
 "nbformat": 4,
 "nbformat_minor": 2
}
