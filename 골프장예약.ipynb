{
 "cells": [
  {
   "cell_type": "code",
   "execution_count": 1,
   "metadata": {},
   "outputs": [
    {
     "data": {
      "text/plain": [
       "'\\n대명골프클럽 요소\\n\\n//*[@id=\"rsvTableBody\"]/tr[1]/td[6]/a\\n//*[@id=\"rsvTableBody\"]/tr[2]/td[5]/a\\n//*[@id=\"rsvTableBody\"]/tr[3]/td[5]/a          //9시꺼\\n \\n//*[@id=\"rsvTableBody\"]/tr[4]/td[6]/a        //10시\\n//*[@id=\"rsvTableBody\"]/tr[11]/td[5]/a       //10:30\\n//*[@id=\"rsvTableBody\"]/tr[16]/td[5]/a    //10:54\\n\\n//*[@id=\"rsvTableBody\"]/tr[24]/td[5]/a    //11시26분\\n\\n//*[@id=\"rsvTableBody\"]/tr[35]/td[5]/a       //12시 6분\\n\\n'"
      ]
     },
     "execution_count": 1,
     "metadata": {},
     "output_type": "execute_result"
    }
   ],
   "source": [
    "\"\"\"\n",
    "대명골프클럽 요소\n",
    "\n",
    "//*[@id=\"rsvTableBody\"]/tr[1]/td[6]/a\n",
    "//*[@id=\"rsvTableBody\"]/tr[2]/td[5]/a\n",
    "//*[@id=\"rsvTableBody\"]/tr[3]/td[5]/a          //9시꺼\n",
    "\n",
    "\n",
    " \n",
    "//*[@id=\"rsvTableBody\"]/tr[4]/td[6]/a        //10시\n",
    "//*[@id=\"rsvTableBody\"]/tr[11]/td[5]/a       //10:30\n",
    "//*[@id=\"rsvTableBody\"]/tr[16]/td[5]/a    //10:54\n",
    "\n",
    "//*[@id=\"rsvTableBody\"]/tr[24]/td[5]/a    //11시26분\n",
    "\n",
    "//*[@id=\"rsvTableBody\"]/tr[35]/td[5]/a       //12시 6분\n",
    "\n",
    "\"\"\"\n",
    "#   //*[@id=\"container\"]/div[3]/div[4]/a[1]   예약하기 버튼요소\n"
   ]
  },
  {
   "cell_type": "code",
   "execution_count": 3,
   "metadata": {},
   "outputs": [
    {
     "ename": "KeyboardInterrupt",
     "evalue": "",
     "output_type": "error",
     "traceback": [
      "\u001b[1;31m---------------------------------------------------------------------------\u001b[0m",
      "\u001b[1;31mKeyboardInterrupt\u001b[0m                         Traceback (most recent call last)",
      "\u001b[1;32m<ipython-input-3-01796cf9f3c3>\u001b[0m in \u001b[0;36m<module>\u001b[1;34m\u001b[0m\n\u001b[0;32m     36\u001b[0m \u001b[1;32mwhile\u001b[0m \u001b[0mcurrent_time\u001b[0m \u001b[1;33m!=\u001b[0m \u001b[1;34m'09:00:00'\u001b[0m \u001b[1;33m:\u001b[0m\u001b[1;33m\u001b[0m\u001b[1;33m\u001b[0m\u001b[0m\n\u001b[0;32m     37\u001b[0m     \u001b[0mnow\u001b[0m \u001b[1;33m=\u001b[0m \u001b[0mdatetime\u001b[0m\u001b[1;33m.\u001b[0m\u001b[0mnow\u001b[0m\u001b[1;33m(\u001b[0m\u001b[1;33m)\u001b[0m\u001b[1;33m\u001b[0m\u001b[1;33m\u001b[0m\u001b[0m\n\u001b[1;32m---> 38\u001b[1;33m     \u001b[0mcurrent_time\u001b[0m \u001b[1;33m=\u001b[0m \u001b[0mstr\u001b[0m\u001b[1;33m(\u001b[0m\u001b[0mtime\u001b[0m\u001b[1;33m(\u001b[0m\u001b[0mnow\u001b[0m\u001b[1;33m.\u001b[0m\u001b[0mhour\u001b[0m\u001b[1;33m,\u001b[0m \u001b[0mnow\u001b[0m\u001b[1;33m.\u001b[0m\u001b[0mminute\u001b[0m\u001b[1;33m,\u001b[0m \u001b[0mnow\u001b[0m\u001b[1;33m.\u001b[0m\u001b[0msecond\u001b[0m\u001b[1;33m)\u001b[0m\u001b[1;33m)\u001b[0m\u001b[1;33m\u001b[0m\u001b[1;33m\u001b[0m\u001b[0m\n\u001b[0m\u001b[0;32m     39\u001b[0m \u001b[1;33m\u001b[0m\u001b[0m\n\u001b[0;32m     40\u001b[0m \u001b[1;33m\u001b[0m\u001b[0m\n",
      "\u001b[1;31mKeyboardInterrupt\u001b[0m: "
     ]
    }
   ],
   "source": [
    "from selenium import webdriver\n",
    "from selenium.webdriver.common.keys import Keys\n",
    "import urllib.request\n",
    "import urllib.error\n",
    "\n",
    "from datetime import datetime\n",
    "import time\n",
    "\n",
    "\n",
    "#Chrome 웹드라이버 생성\n",
    "driver=webdriver.Chrome()\n",
    "\n",
    "driver.get(\"https://www.dgolfclub.com/login.dp/dmparse.dm?url=/rsv.cal.dp/dmparse.dm?fJiyukCd=60\")\n",
    "assert \"대명골프클럽\" in driver.title\n",
    "\n",
    "elem=driver.find_element_by_xpath('//*[@id=\"cyberId\"]')\n",
    "elem.send_keys('dwcts001')\n",
    "time.sleep(2)\n",
    "elem=driver.find_element_by_xpath('//*[@id=\"cyberPass\"]')\n",
    "elem.send_keys('eodnjs1!')\n",
    "time.sleep(2)\n",
    "\n",
    "driver.find_element_by_xpath('//*[@id=\"loginForm\"]/div[2]/a').click()\n",
    "\n",
    "time.sleep(2)\n",
    "\n",
    "driver.get(\"https://www.dgolfclub.com/rsv.cal.dp/dmparse.dm?fJiyukCd=60\")\n",
    "\n",
    "#time.sleep과 밑의 datetime을위한 time의 충돌으로 인한 새로운 import\n",
    "from datetime import date, time, datetime\n",
    "\n",
    "now = datetime.now()\n",
    "current_time = time(now.hour, now.minute, now.second)\n",
    "\n",
    "# 서버시간 확인\n",
    "while current_time != '09:00:00' :\n",
    "    now = datetime.now()\n",
    "    current_time = str(time(now.hour, now.minute, now.second))\n",
    "    \n",
    "\n",
    "#새로고침 클릭.    \n",
    "driver.find_element_by_xpath('//*[@id=\"startCal\"]/span[1]/a').click()\n",
    "\n",
    "#요일 클릭.  (Xpath로 요소 따기)  \n",
    "driver.find_element_by_xpath('//*[@id=\"container\"]/div[3]/div[5]/div[2]/fieldset/table/tbody/tr[3]/td[2]/a').click()\n",
    "\n",
    "#요일 클릭.  (Class 명으로로 요소 따기)  \n",
    "driver.find_elements_by_class_name('button').click()\n",
    "\n",
    "\n",
    "#요일 클릭.  (CSS로 요소 따기)  \n",
    "#driver.find_elements_by_css_selector('#css>div').click()\n",
    "\n",
    "# 시간 클릭\n",
    "#driver.find_element_by_xpath('//*[@id=\"rsvTableBody\"]/tr[2]/td[5]/a').click()\n",
    "\n",
    "#예약버튼\n",
    "driver.find_element_by_xpath('//*[@id=\"container\"]/div[3]/div[4]/a[1]').click()\n",
    "\n",
    "\n",
    "\n"
   ]
  },
  {
   "cell_type": "code",
   "execution_count": 2,
   "metadata": {},
   "outputs": [
    {
     "ename": "KeyboardInterrupt",
     "evalue": "",
     "output_type": "error",
     "traceback": [
      "\u001b[1;31m---------------------------------------------------------------------------\u001b[0m",
      "\u001b[1;31mKeyboardInterrupt\u001b[0m                         Traceback (most recent call last)",
      "\u001b[1;32m<ipython-input-2-517226e67299>\u001b[0m in \u001b[0;36m<module>\u001b[1;34m\u001b[0m\n\u001b[0;32m     35\u001b[0m \u001b[1;31m# 서버시간 확인\u001b[0m\u001b[1;33m\u001b[0m\u001b[1;33m\u001b[0m\u001b[1;33m\u001b[0m\u001b[0m\n\u001b[0;32m     36\u001b[0m \u001b[1;32mwhile\u001b[0m \u001b[0mcurrent_time\u001b[0m \u001b[1;33m!=\u001b[0m \u001b[1;34m'15:59:30'\u001b[0m \u001b[1;33m:\u001b[0m\u001b[1;33m\u001b[0m\u001b[1;33m\u001b[0m\u001b[0m\n\u001b[1;32m---> 37\u001b[1;33m     \u001b[0mnow\u001b[0m \u001b[1;33m=\u001b[0m \u001b[0mdatetime\u001b[0m\u001b[1;33m.\u001b[0m\u001b[0mnow\u001b[0m\u001b[1;33m(\u001b[0m\u001b[1;33m)\u001b[0m\u001b[1;33m\u001b[0m\u001b[1;33m\u001b[0m\u001b[0m\n\u001b[0m\u001b[0;32m     38\u001b[0m     \u001b[0mcurrent_time\u001b[0m \u001b[1;33m=\u001b[0m \u001b[0mstr\u001b[0m\u001b[1;33m(\u001b[0m\u001b[0mtime\u001b[0m\u001b[1;33m(\u001b[0m\u001b[0mnow\u001b[0m\u001b[1;33m.\u001b[0m\u001b[0mhour\u001b[0m\u001b[1;33m,\u001b[0m \u001b[0mnow\u001b[0m\u001b[1;33m.\u001b[0m\u001b[0mminute\u001b[0m\u001b[1;33m,\u001b[0m \u001b[0mnow\u001b[0m\u001b[1;33m.\u001b[0m\u001b[0msecond\u001b[0m\u001b[1;33m)\u001b[0m\u001b[1;33m)\u001b[0m\u001b[1;33m\u001b[0m\u001b[1;33m\u001b[0m\u001b[0m\n\u001b[0;32m     39\u001b[0m \u001b[1;33m\u001b[0m\u001b[0m\n",
      "\u001b[1;31mKeyboardInterrupt\u001b[0m: "
     ]
    }
   ],
   "source": [
    "from selenium import webdriver\n",
    "from selenium.webdriver.common.keys import Keys\n",
    "import urllib.request\n",
    "import urllib.error\n",
    "\n",
    "from datetime import datetime\n",
    "import time\n",
    "\n",
    "\n",
    "#Chrome 웹드라이버 생성\n",
    "driver=webdriver.Chrome()\n",
    "\n",
    "driver.get(\"https://www.dgolfclub.com/login.dp/dmparse.dm?url=/rsv.cal.dp/dmparse.dm?fJiyukCd=60\")\n",
    "assert \"대명골프클럽\" in driver.title\n",
    "\n",
    "elem=driver.find_element_by_xpath('//*[@id=\"cyberId\"]')\n",
    "elem.send_keys('dwcts001')\n",
    "time.sleep(2)\n",
    "elem=driver.find_element_by_xpath('//*[@id=\"cyberPass\"]')\n",
    "elem.send_keys('eodnjs1!')\n",
    "time.sleep(2)\n",
    "\n",
    "driver.find_element_by_xpath('//*[@id=\"loginForm\"]/div[2]/a').click()\n",
    "\n",
    "time.sleep(2)\n",
    "\n",
    "driver.get(\"https://www.dgolfclub.com/rsv.cal.dp/dmparse.dm?fJiyukCd=60\")\n",
    "\n",
    "#time.sleep과 밑의 datetime을위한 time의 충돌으로 인한 새로운 import\n",
    "from datetime import date, time, datetime\n",
    "\n",
    "now = datetime.now()\n",
    "current_time = time(now.hour, now.minute, now.second)\n",
    "\n",
    "# 서버시간 확인\n",
    "while current_time != '15:59:30' :\n",
    "    now = datetime.now()\n",
    "    current_time = str(time(now.hour, now.minute, now.second))\n",
    "    \n",
    "\n",
    "#새로고침 클릭.    \n",
    "driver.find_element_by_xpath('//*[@id=\"startCal\"]/span[1]/a').click()\n",
    "\n",
    "#요일 클릭.  (Xpath로 요소 따기)  \n",
    "\n",
    "driver.find_element_by_xpath('//*[@id=\"container\"]/div[3]/div[5]/div[2]/fieldset/table/tbody/tr[2]/td[6]/a').click()\n",
    "\n",
    "\"\"\"\n",
    "#요일 클릭.  (Class 명으로로 요소 따기)  \n",
    "driver.find_elements_by_class_name('button').click()\n",
    "\n",
    "\n",
    "#요일 클릭.  (CSS로 요소 따기)  \n",
    "driver.find_elements_by_css_selector('#css>div').click()\n",
    "\n",
    "\n",
    "# 시간 클릭\n",
    "driver.find_element_by_xpath('//*[@id=\"rsvTableBody\"]/tr[2]/td[5]/a').click()\n",
    "\n",
    "#예약버튼\n",
    "driver.find_element_by_xpath('//*[@id=\"container\"]/div[3]/div[4]/a[1]').click()\n",
    "\n",
    "\n",
    "\"\"\"\n"
   ]
  },
  {
   "cell_type": "code",
   "execution_count": null,
   "metadata": {},
   "outputs": [],
   "source": []
  },
  {
   "cell_type": "code",
   "execution_count": null,
   "metadata": {},
   "outputs": [],
   "source": []
  }
 ],
 "metadata": {
  "kernelspec": {
   "display_name": "Python 3",
   "language": "python",
   "name": "python3"
  },
  "language_info": {
   "codemirror_mode": {
    "name": "ipython",
    "version": 3
   },
   "file_extension": ".py",
   "mimetype": "text/x-python",
   "name": "python",
   "nbconvert_exporter": "python",
   "pygments_lexer": "ipython3",
   "version": "3.8.3"
  }
 },
 "nbformat": 4,
 "nbformat_minor": 4
}
