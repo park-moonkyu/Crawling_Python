{
 "cells": [
  {
   "cell_type": "code",
   "execution_count": 43,
   "metadata": {},
   "outputs": [],
   "source": [
    "from selenium import webdriver\n",
    "from selenium.webdriver.common.keys import Keys\n",
    "import urllib.request\n",
    "import urllib.error\n",
    "\n",
    "from datetime import datetime\n",
    "import time\n",
    "\n",
    "\n",
    "#Chrome 웹드라이버 생성\n",
    "driver=webdriver.Chrome()\n",
    "\n",
    "driver.get(\"https://www.dgolfclub.com/login.dp/dmparse.dm?url=/rsv.cal.dp/dmparse.dm?fJiyukCd=60\")\n",
    "assert \"대명골프클럽\" in driver.title\n",
    "\n",
    "elem=driver.find_element_by_xpath('//*[@id=\"cyberId\"]')\n",
    "elem.send_keys('dwcts001')\n",
    "time.sleep(2)\n",
    "elem=driver.find_element_by_xpath('//*[@id=\"cyberPass\"]')\n",
    "elem.send_keys('eodnjs1!')\n",
    "time.sleep(2)\n",
    "\n",
    "driver.find_element_by_xpath('//*[@id=\"loginForm\"]/div[2]/a').click()\n",
    "\n",
    "time.sleep(2)\n",
    "\n",
    "driver.get(\"https://www.dgolfclub.com/rsv.cal.dp/dmparse.dm?fJiyukCd=60\")\n",
    "\n",
    "#time.sleep과 밑의 datetime을위한 time의 충돌으로 인한 새로운 import\n",
    "from datetime import date, time, datetime\n",
    "\n",
    "now = datetime.now()\n",
    "current_time = time(now.hour, now.minute, now.second)\n",
    "\n",
    "# 서버시간 확인\n",
    "while current_time != '13:44:00' :\n",
    "    now = datetime.now()\n",
    "    current_time = str(time(now.hour, now.minute, now.second))\n",
    "\n",
    "\n",
    "driver.find_element_by_xpath('//*[@id=\"container\"]/div[3]/div[5]/div[2]/fieldset/table/tbody/tr[1]/td[3]/a').click()\n"
   ]
  },
  {
   "cell_type": "code",
   "execution_count": null,
   "metadata": {},
   "outputs": [],
   "source": []
  },
  {
   "cell_type": "code",
   "execution_count": null,
   "metadata": {},
   "outputs": [],
   "source": []
  },
  {
   "cell_type": "code",
   "execution_count": null,
   "metadata": {},
   "outputs": [],
   "source": []
  }
 ],
 "metadata": {
  "kernelspec": {
   "display_name": "Python 3",
   "language": "python",
   "name": "python3"
  },
  "language_info": {
   "codemirror_mode": {
    "name": "ipython",
    "version": 3
   },
   "file_extension": ".py",
   "mimetype": "text/x-python",
   "name": "python",
   "nbconvert_exporter": "python",
   "pygments_lexer": "ipython3",
   "version": "3.8.3"
  }
 },
 "nbformat": 4,
 "nbformat_minor": 4
}
