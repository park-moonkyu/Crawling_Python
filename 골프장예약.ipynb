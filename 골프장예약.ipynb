{
 "cells": [
  {
   "cell_type": "code",
   "execution_count": 1,
   "metadata": {},
   "outputs": [
    {
     "data": {
      "text/plain": [
       "'\\n대명골프클럽 요소\\n\\n//*[@id=\"rsvTableBody\"]/tr[1]/td[6]/a\\n//*[@id=\"rsvTableBody\"]/tr[2]/td[5]/a\\n//*[@id=\"rsvTableBody\"]/tr[3]/td[5]/a          //9시꺼\\n \\n//*[@id=\"rsvTableBody\"]/tr[4]/td[6]/a        //10시\\n//*[@id=\"rsvTableBody\"]/tr[11]/td[5]/a       //10:30\\n//*[@id=\"rsvTableBody\"]/tr[16]/td[5]/a    //10:54\\n\\n//*[@id=\"rsvTableBody\"]/tr[24]/td[5]/a    //11시26분\\n\\n//*[@id=\"rsvTableBody\"]/tr[35]/td[5]/a       //12시 6분\\n\\n'"
      ]
     },
     "execution_count": 1,
     "metadata": {},
     "output_type": "execute_result"
    }
   ],
   "source": [
    "\"\"\"\n",
    "대명골프클럽 요소\n",
    "\n",
    "//*[@id=\"rsvTableBody\"]/tr[1]/td[6]/a\n",
    "//*[@id=\"rsvTableBody\"]/tr[2]/td[5]/a\n",
    "//*[@id=\"rsvTableBody\"]/tr[3]/td[5]/a          //9시꺼\n",
    "\n",
    "\n",
    " \n",
    "//*[@id=\"rsvTableBody\"]/tr[4]/td[6]/a        //10시\n",
    "//*[@id=\"rsvTableBody\"]/tr[11]/td[5]/a       //10:30\n",
    "//*[@id=\"rsvTableBody\"]/tr[16]/td[5]/a    //10:54\n",
    "\n",
    "//*[@id=\"rsvTableBody\"]/tr[24]/td[5]/a    //11시26분\n",
    "\n",
    "//*[@id=\"rsvTableBody\"]/tr[35]/td[5]/a       //12시 6분\n",
    "\n",
    "\"\"\"\n",
    "#   //*[@id=\"container\"]/div[3]/div[4]/a[1]   예약하기 버튼요소\n"
   ]
  },
  {
   "cell_type": "code",
   "execution_count": 1,
   "metadata": {},
   "outputs": [
    {
     "ename": "NoSuchElementException",
     "evalue": "Message: no such element: Unable to locate element: {\"method\":\"xpath\",\"selector\":\"//*[@id=\"rsvTableBody\"]/tr[2]/td[5]/a\"}\n  (Session info: chrome=86.0.4240.193)\n",
     "output_type": "error",
     "traceback": [
      "\u001b[1;31m---------------------------------------------------------------------------\u001b[0m",
      "\u001b[1;31mNoSuchElementException\u001b[0m                    Traceback (most recent call last)",
      "\u001b[1;32m<ipython-input-1-899075c61f04>\u001b[0m in \u001b[0;36m<module>\u001b[1;34m\u001b[0m\n\u001b[0;32m     46\u001b[0m \u001b[1;33m\u001b[0m\u001b[0m\n\u001b[0;32m     47\u001b[0m \u001b[1;31m# 시간 클릭\u001b[0m\u001b[1;33m\u001b[0m\u001b[1;33m\u001b[0m\u001b[1;33m\u001b[0m\u001b[0m\n\u001b[1;32m---> 48\u001b[1;33m \u001b[0mdriver\u001b[0m\u001b[1;33m.\u001b[0m\u001b[0mfind_element_by_xpath\u001b[0m\u001b[1;33m(\u001b[0m\u001b[1;34m'//*[@id=\"rsvTableBody\"]/tr[2]/td[5]/a'\u001b[0m\u001b[1;33m)\u001b[0m\u001b[1;33m.\u001b[0m\u001b[0mclick\u001b[0m\u001b[1;33m(\u001b[0m\u001b[1;33m)\u001b[0m\u001b[1;33m\u001b[0m\u001b[1;33m\u001b[0m\u001b[0m\n\u001b[0m\u001b[0;32m     49\u001b[0m \u001b[1;33m\u001b[0m\u001b[0m\n\u001b[0;32m     50\u001b[0m \u001b[1;31m#예약버튼\u001b[0m\u001b[1;33m\u001b[0m\u001b[1;33m\u001b[0m\u001b[1;33m\u001b[0m\u001b[0m\n",
      "\u001b[1;32m~\\anaconda3\\lib\\site-packages\\selenium\\webdriver\\remote\\webdriver.py\u001b[0m in \u001b[0;36mfind_element_by_xpath\u001b[1;34m(self, xpath)\u001b[0m\n\u001b[0;32m    392\u001b[0m             \u001b[0melement\u001b[0m \u001b[1;33m=\u001b[0m \u001b[0mdriver\u001b[0m\u001b[1;33m.\u001b[0m\u001b[0mfind_element_by_xpath\u001b[0m\u001b[1;33m(\u001b[0m\u001b[1;34m'//div/td[1]'\u001b[0m\u001b[1;33m)\u001b[0m\u001b[1;33m\u001b[0m\u001b[1;33m\u001b[0m\u001b[0m\n\u001b[0;32m    393\u001b[0m         \"\"\"\n\u001b[1;32m--> 394\u001b[1;33m         \u001b[1;32mreturn\u001b[0m \u001b[0mself\u001b[0m\u001b[1;33m.\u001b[0m\u001b[0mfind_element\u001b[0m\u001b[1;33m(\u001b[0m\u001b[0mby\u001b[0m\u001b[1;33m=\u001b[0m\u001b[0mBy\u001b[0m\u001b[1;33m.\u001b[0m\u001b[0mXPATH\u001b[0m\u001b[1;33m,\u001b[0m \u001b[0mvalue\u001b[0m\u001b[1;33m=\u001b[0m\u001b[0mxpath\u001b[0m\u001b[1;33m)\u001b[0m\u001b[1;33m\u001b[0m\u001b[1;33m\u001b[0m\u001b[0m\n\u001b[0m\u001b[0;32m    395\u001b[0m \u001b[1;33m\u001b[0m\u001b[0m\n\u001b[0;32m    396\u001b[0m     \u001b[1;32mdef\u001b[0m \u001b[0mfind_elements_by_xpath\u001b[0m\u001b[1;33m(\u001b[0m\u001b[0mself\u001b[0m\u001b[1;33m,\u001b[0m \u001b[0mxpath\u001b[0m\u001b[1;33m)\u001b[0m\u001b[1;33m:\u001b[0m\u001b[1;33m\u001b[0m\u001b[1;33m\u001b[0m\u001b[0m\n",
      "\u001b[1;32m~\\anaconda3\\lib\\site-packages\\selenium\\webdriver\\remote\\webdriver.py\u001b[0m in \u001b[0;36mfind_element\u001b[1;34m(self, by, value)\u001b[0m\n\u001b[0;32m    974\u001b[0m                 \u001b[0mby\u001b[0m \u001b[1;33m=\u001b[0m \u001b[0mBy\u001b[0m\u001b[1;33m.\u001b[0m\u001b[0mCSS_SELECTOR\u001b[0m\u001b[1;33m\u001b[0m\u001b[1;33m\u001b[0m\u001b[0m\n\u001b[0;32m    975\u001b[0m                 \u001b[0mvalue\u001b[0m \u001b[1;33m=\u001b[0m \u001b[1;34m'[name=\"%s\"]'\u001b[0m \u001b[1;33m%\u001b[0m \u001b[0mvalue\u001b[0m\u001b[1;33m\u001b[0m\u001b[1;33m\u001b[0m\u001b[0m\n\u001b[1;32m--> 976\u001b[1;33m         return self.execute(Command.FIND_ELEMENT, {\n\u001b[0m\u001b[0;32m    977\u001b[0m             \u001b[1;34m'using'\u001b[0m\u001b[1;33m:\u001b[0m \u001b[0mby\u001b[0m\u001b[1;33m,\u001b[0m\u001b[1;33m\u001b[0m\u001b[1;33m\u001b[0m\u001b[0m\n\u001b[0;32m    978\u001b[0m             'value': value})['value']\n",
      "\u001b[1;32m~\\anaconda3\\lib\\site-packages\\selenium\\webdriver\\remote\\webdriver.py\u001b[0m in \u001b[0;36mexecute\u001b[1;34m(self, driver_command, params)\u001b[0m\n\u001b[0;32m    319\u001b[0m         \u001b[0mresponse\u001b[0m \u001b[1;33m=\u001b[0m \u001b[0mself\u001b[0m\u001b[1;33m.\u001b[0m\u001b[0mcommand_executor\u001b[0m\u001b[1;33m.\u001b[0m\u001b[0mexecute\u001b[0m\u001b[1;33m(\u001b[0m\u001b[0mdriver_command\u001b[0m\u001b[1;33m,\u001b[0m \u001b[0mparams\u001b[0m\u001b[1;33m)\u001b[0m\u001b[1;33m\u001b[0m\u001b[1;33m\u001b[0m\u001b[0m\n\u001b[0;32m    320\u001b[0m         \u001b[1;32mif\u001b[0m \u001b[0mresponse\u001b[0m\u001b[1;33m:\u001b[0m\u001b[1;33m\u001b[0m\u001b[1;33m\u001b[0m\u001b[0m\n\u001b[1;32m--> 321\u001b[1;33m             \u001b[0mself\u001b[0m\u001b[1;33m.\u001b[0m\u001b[0merror_handler\u001b[0m\u001b[1;33m.\u001b[0m\u001b[0mcheck_response\u001b[0m\u001b[1;33m(\u001b[0m\u001b[0mresponse\u001b[0m\u001b[1;33m)\u001b[0m\u001b[1;33m\u001b[0m\u001b[1;33m\u001b[0m\u001b[0m\n\u001b[0m\u001b[0;32m    322\u001b[0m             response['value'] = self._unwrap_value(\n\u001b[0;32m    323\u001b[0m                 response.get('value', None))\n",
      "\u001b[1;32m~\\anaconda3\\lib\\site-packages\\selenium\\webdriver\\remote\\errorhandler.py\u001b[0m in \u001b[0;36mcheck_response\u001b[1;34m(self, response)\u001b[0m\n\u001b[0;32m    240\u001b[0m                 \u001b[0malert_text\u001b[0m \u001b[1;33m=\u001b[0m \u001b[0mvalue\u001b[0m\u001b[1;33m[\u001b[0m\u001b[1;34m'alert'\u001b[0m\u001b[1;33m]\u001b[0m\u001b[1;33m.\u001b[0m\u001b[0mget\u001b[0m\u001b[1;33m(\u001b[0m\u001b[1;34m'text'\u001b[0m\u001b[1;33m)\u001b[0m\u001b[1;33m\u001b[0m\u001b[1;33m\u001b[0m\u001b[0m\n\u001b[0;32m    241\u001b[0m             \u001b[1;32mraise\u001b[0m \u001b[0mexception_class\u001b[0m\u001b[1;33m(\u001b[0m\u001b[0mmessage\u001b[0m\u001b[1;33m,\u001b[0m \u001b[0mscreen\u001b[0m\u001b[1;33m,\u001b[0m \u001b[0mstacktrace\u001b[0m\u001b[1;33m,\u001b[0m \u001b[0malert_text\u001b[0m\u001b[1;33m)\u001b[0m\u001b[1;33m\u001b[0m\u001b[1;33m\u001b[0m\u001b[0m\n\u001b[1;32m--> 242\u001b[1;33m         \u001b[1;32mraise\u001b[0m \u001b[0mexception_class\u001b[0m\u001b[1;33m(\u001b[0m\u001b[0mmessage\u001b[0m\u001b[1;33m,\u001b[0m \u001b[0mscreen\u001b[0m\u001b[1;33m,\u001b[0m \u001b[0mstacktrace\u001b[0m\u001b[1;33m)\u001b[0m\u001b[1;33m\u001b[0m\u001b[1;33m\u001b[0m\u001b[0m\n\u001b[0m\u001b[0;32m    243\u001b[0m \u001b[1;33m\u001b[0m\u001b[0m\n\u001b[0;32m    244\u001b[0m     \u001b[1;32mdef\u001b[0m \u001b[0m_value_or_default\u001b[0m\u001b[1;33m(\u001b[0m\u001b[0mself\u001b[0m\u001b[1;33m,\u001b[0m \u001b[0mobj\u001b[0m\u001b[1;33m,\u001b[0m \u001b[0mkey\u001b[0m\u001b[1;33m,\u001b[0m \u001b[0mdefault\u001b[0m\u001b[1;33m)\u001b[0m\u001b[1;33m:\u001b[0m\u001b[1;33m\u001b[0m\u001b[1;33m\u001b[0m\u001b[0m\n",
      "\u001b[1;31mNoSuchElementException\u001b[0m: Message: no such element: Unable to locate element: {\"method\":\"xpath\",\"selector\":\"//*[@id=\"rsvTableBody\"]/tr[2]/td[5]/a\"}\n  (Session info: chrome=86.0.4240.193)\n"
     ]
    }
   ],
   "source": [
    "from selenium import webdriver\n",
    "from selenium.webdriver.common.keys import Keys\n",
    "import urllib.request\n",
    "import urllib.error\n",
    "\n",
    "from datetime import datetime\n",
    "import time\n",
    "\n",
    "\n",
    "#Chrome 웹드라이버 생성\n",
    "driver=webdriver.Chrome()\n",
    "\n",
    "driver.get(\"https://www.dgolfclub.com/login.dp/dmparse.dm?url=/rsv.cal.dp/dmparse.dm?fJiyukCd=60\")\n",
    "assert \"대명골프클럽\" in driver.title\n",
    "\n",
    "elem=driver.find_element_by_xpath('//*[@id=\"cyberId\"]')\n",
    "elem.send_keys('아이디')\n",
    "time.sleep(2)\n",
    "elem=driver.find_element_by_xpath('//*[@id=\"cyberPass\"]')\n",
    "elem.send_keys('비번')\n",
    "time.sleep(2)\n",
    "\n",
    "driver.find_element_by_xpath('//*[@id=\"loginForm\"]/div[2]/a').click()\n",
    "\n",
    "time.sleep(2)\n",
    "\n",
    "driver.get(\"https://www.dgolfclub.com/rsv.cal.dp/dmparse.dm?fJiyukCd=60\")\n",
    "\n",
    "#time.sleep과 밑의 datetime을위한 time의 충돌으로 인한 새로운 import\n",
    "from datetime import date, time, datetime\n",
    "\n",
    "now = datetime.now()\n",
    "current_time = time(now.hour, now.minute, now.second)\n",
    "\n",
    "# 서버시간 확인\n",
    "while current_time != '09:00:00' :\n",
    "    now = datetime.now()\n",
    "    current_time = str(time(now.hour, now.minute, now.second))\n",
    "    \n",
    "\n",
    "#새로고침 클릭.    \n",
    "driver.find_element_by_xpath('//*[@id=\"startCal\"]/span[1]/a').click()\n",
    "\n",
    "#요일 클릭.  (Xpath로 요소 따기)  \n",
    "\n",
    "#driver.find_element_by_xpath('//*[@id=\"container\"]/div[3]/div[5]/div[2]/fieldset/table/tbody/tr[2]/td[6]/a').click()\n",
    "\n",
    "#요일 클릭.  (Class 명으로로 요소 따기)  \n",
    "driver.find_elements_by_class_name('button').click()\n",
    "\n",
    "\n",
    "#요일 클릭.  (CSS로 요소 따기)  \n",
    "driver.find_elements_by_css_selector('#css>div').click()\n",
    "\n",
    "# 시간 클릭\n",
    "driver.find_element_by_xpath('//*[@id=\"rsvTableBody\"]/tr[2]/td[5]/a').click()\n",
    "\n",
    "#예약버튼\n",
    "driver.find_element_by_xpath('//*[@id=\"container\"]/div[3]/div[4]/a[1]').click()\n",
    "\n",
    "\n",
    "\n"
   ]
  },
  {
   "cell_type": "code",
   "execution_count": 9,
   "metadata": {},
   "outputs": [
    {
     "data": {
      "text/plain": [
       "'\\n#요일 클릭.  (Class 명으로로 요소 따기)  \\ndriver.find_elements_by_class_name(\\'button\\').click()\\n\\n\\n#요일 클릭.  (CSS로 요소 따기)  \\ndriver.find_elements_by_css_selector(\\'#css>div\\').click()\\n\\n\\n# 시간 클릭\\ndriver.find_element_by_xpath(\\'//*[@id=\"rsvTableBody\"]/tr[2]/td[5]/a\\').click()\\n\\n#예약버튼\\ndriver.find_element_by_xpath(\\'//*[@id=\"container\"]/div[3]/div[4]/a[1]\\').click()\\n\\n\\n'"
      ]
     },
     "execution_count": 9,
     "metadata": {},
     "output_type": "execute_result"
    }
   ],
   "source": [
    "from selenium import webdriver\n",
    "from selenium.webdriver.common.keys import Keys\n",
    "import urllib.request\n",
    "import urllib.error\n",
    "\n",
    "from datetime import datetime\n",
    "import time\n",
    "\n",
    "\n",
    "#Chrome 웹드라이버 생성\n",
    "driver=webdriver.Chrome()\n",
    "\n",
    "driver.get(\"https://www.dgolfclub.com/login.dp/dmparse.dm?url=/rsv.cal.dp/dmparse.dm?fJiyukCd=60\")\n",
    "assert \"대명골프클럽\" in driver.title\n",
    "\n",
    "elem=driver.find_element_by_xpath('//*[@id=\"cyberId\"]')\n",
    "elem.send_keys('dwcts001')\n",
    "time.sleep(2)\n",
    "elem=driver.find_element_by_xpath('//*[@id=\"cyberPass\"]')\n",
    "elem.send_keys('eodnjs1!')\n",
    "time.sleep(2)\n",
    "\n",
    "driver.find_element_by_xpath('//*[@id=\"loginForm\"]/div[2]/a').click()\n",
    "\n",
    "time.sleep(2)\n",
    "\n",
    "driver.get(\"https://www.dgolfclub.com/rsv.cal.dp/dmparse.dm?fJiyukCd=60\")\n",
    "\n",
    "#time.sleep과 밑의 datetime을위한 time의 충돌으로 인한 새로운 import\n",
    "from datetime import date, time, datetime\n",
    "\n",
    "now = datetime.now()\n",
    "current_time = time(now.hour, now.minute, now.second)\n",
    "\n",
    "# 서버시간 확인\n",
    "while current_time != '15:59:30' :\n",
    "    now = datetime.now()\n",
    "    current_time = str(time(now.hour, now.minute, now.second))\n",
    "    \n",
    "\n",
    "#새로고침 클릭.    \n",
    "driver.find_element_by_xpath('//*[@id=\"startCal\"]/span[1]/a').click()\n",
    "\n",
    "#요일 클릭.  (Xpath로 요소 따기)  \n",
    "\n",
    "driver.find_element_by_xpath('//*[@id=\"container\"]/div[3]/div[5]/div[2]/fieldset/table/tbody/tr[2]/td[6]/a').click()\n",
    "\n",
    "\"\"\"\n",
    "#요일 클릭.  (Class 명으로로 요소 따기)  \n",
    "driver.find_elements_by_class_name('button').click()\n",
    "\n",
    "\n",
    "#요일 클릭.  (CSS로 요소 따기)  \n",
    "driver.find_elements_by_css_selector('#css>div').click()\n",
    "\n",
    "\n",
    "# 시간 클릭\n",
    "driver.find_element_by_xpath('//*[@id=\"rsvTableBody\"]/tr[2]/td[5]/a').click()\n",
    "\n",
    "#예약버튼\n",
    "driver.find_element_by_xpath('//*[@id=\"container\"]/div[3]/div[4]/a[1]').click()\n",
    "\n",
    "\n",
    "\"\"\"\n"
   ]
  },
  {
   "cell_type": "code",
   "execution_count": null,
   "metadata": {},
   "outputs": [],
   "source": []
  },
  {
   "cell_type": "code",
   "execution_count": null,
   "metadata": {},
   "outputs": [],
   "source": []
  }
 ],
 "metadata": {
  "kernelspec": {
   "display_name": "Python 3",
   "language": "python",
   "name": "python3"
  },
  "language_info": {
   "codemirror_mode": {
    "name": "ipython",
    "version": 3
   },
   "file_extension": ".py",
   "mimetype": "text/x-python",
   "name": "python",
   "nbconvert_exporter": "python",
   "pygments_lexer": "ipython3",
   "version": "3.8.3"
  }
 },
 "nbformat": 4,
 "nbformat_minor": 4
}
