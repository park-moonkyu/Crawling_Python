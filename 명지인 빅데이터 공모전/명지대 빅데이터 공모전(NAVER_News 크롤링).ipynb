{
 "cells": [
  {
   "cell_type": "markdown",
   "metadata": {},
   "source": [
    "# 네이버 뉴스기사 크롤링"
   ]
  },
  {
   "cell_type": "code",
   "execution_count": 1,
   "metadata": {},
   "outputs": [],
   "source": [
    "import requests\n",
    "from bs4 import BeautifulSoup"
   ]
  },
  {
   "cell_type": "code",
   "execution_count": 2,
   "metadata": {},
   "outputs": [],
   "source": [
    "url_format = 'https://search.naver.com/search.naver?&where=news&query={0}&sm=tab_pge&sort=0&photo=0&field=0&reporter_article=&pd=3&ds={1}&de={2}&docid=&nso=so:r,p:from{3}to{4},a:all&mynews=0&cluster_rank=34&start={5}'\n",
    "# 2020.08.01\n",
    "# 20200801\n",
    "# 1 (page*10+1)"
   ]
  },
  {
   "cell_type": "code",
   "execution_count": 29,
   "metadata": {},
   "outputs": [],
   "source": [
    "r = requests.get(url_format.format('대학생 코로나', '2020.10.01', '2020.10.31', '20201001', '20201031', '3'))\n",
    "                               #검색어, 시작 날짜,   종료 날짜,    시작날짜,   종료날짜,   페이지"
   ]
  },
  {
   "cell_type": "code",
   "execution_count": 30,
   "metadata": {},
   "outputs": [],
   "source": [
    "sp = BeautifulSoup(r.text, 'html.parser')"
   ]
  },
  {
   "cell_type": "code",
   "execution_count": 31,
   "metadata": {},
   "outputs": [],
   "source": [
    "sources = sp.select('div.group_news > ul.list_news > li div.news_area > a')"
   ]
  },
  {
   "cell_type": "code",
   "execution_count": 32,
   "metadata": {},
   "outputs": [
    {
     "data": {
      "text/plain": [
       "10"
      ]
     },
     "execution_count": 32,
     "metadata": {},
     "output_type": "execute_result"
    }
   ],
   "source": [
    "len(sources)"
   ]
  },
  {
   "cell_type": "code",
   "execution_count": 34,
   "metadata": {},
   "outputs": [
    {
     "name": "stdout",
     "output_type": "stream",
     "text": [
      "창원대, 코로나19로 힘든 대학생에게 장학금 전달\n",
      "https://www.nocutnews.co.kr/news/5439117\n",
      "코로나로 달라진 ‘아이폰12' 출시..새벽배송, 온라인 파티, 체험\n",
      "http://www.edaily.co.kr/news/newspath.asp?newsid=02355046625938168\n",
      "코로나가 삼킨 퇴근후 한잔, ’10%의 경제' 사라졌다\n",
      "https://www.chosun.com/economy/2020/10/31/25HUETPFFVGGHH4WDM22LTDATM/?utm_source=naver&utm_medium=original&utm_campaign=news\n",
      "이태원·강남역, '코로나 공포' 잊고 '핼러윈 공포' 찾아 북적\n",
      "http://news.heraldcorp.com/view.php?ud=20201031000082\n",
      "\"청년 니즈 부합한 정책 절실\"...박영훈 민주당 전국대학생위원장\n",
      "http://www.newspim.com/news/view/20201031000105\n",
      "사회학자의 코로나 비망록\n",
      "http://news.joins.com/article/olink/23502812\n",
      "[2020 대학알리미] 코로나19 원격수업 불구 소규모 강의 확대\n",
      "http://news.unn.net/news/articleView.html?idxno=236337\n",
      "하나님의 교회, 코로나19 극복 위한 성금으로 희망 전달\n",
      "https://sports.donga.com/article/all/20201030/103719021/2\n",
      "코로나로 얼어붙은 경제에도 채용확대 나선 KT &G, 왜?\n",
      "http://www.ohmynews.com/NWS_Web/View/at_pg.aspx?CNTN_CD=A0002688270&CMPT_CD=P0010&utm_source=naver&utm_medium=newsearch&utm_campaign=naver_news\n",
      "[가톨릭대 공동기획-봄비➌] 봄비처럼 산뜻한 대학생과 '돌봄'을…\n",
      "http://www.thescoop.co.kr/news/articleView.html?idxno=41326\n"
     ]
    }
   ],
   "source": [
    "for source in sources:\n",
    "    print(source.attrs['title'])\n",
    "    print(source.attrs['href'])"
   ]
  },
  {
   "cell_type": "code",
   "execution_count": 9,
   "metadata": {},
   "outputs": [
    {
     "ename": "IndexError",
     "evalue": "list index out of range",
     "output_type": "error",
     "traceback": [
      "\u001b[1;31m---------------------------------------------------------------------------\u001b[0m",
      "\u001b[1;31mIndexError\u001b[0m                                Traceback (most recent call last)",
      "\u001b[1;32m<ipython-input-9-c41efc0dacab>\u001b[0m in \u001b[0;36m<module>\u001b[1;34m()\u001b[0m\n\u001b[0;32m      1\u001b[0m \u001b[0mnews_sp\u001b[0m \u001b[1;33m=\u001b[0m \u001b[0mBeautifulSoup\u001b[0m\u001b[1;33m(\u001b[0m\u001b[0mnews_r\u001b[0m\u001b[1;33m.\u001b[0m\u001b[0mtext\u001b[0m\u001b[1;33m,\u001b[0m \u001b[1;34m'html.parser'\u001b[0m\u001b[1;33m)\u001b[0m\u001b[1;33m\u001b[0m\u001b[0m\n\u001b[0;32m      2\u001b[0m \u001b[0marticle\u001b[0m \u001b[1;33m=\u001b[0m \u001b[0mnews_sp\u001b[0m\u001b[1;33m.\u001b[0m\u001b[0mselect\u001b[0m\u001b[1;33m(\u001b[0m\u001b[1;34m'div#body > div#content > div#article_body'\u001b[0m\u001b[1;33m)\u001b[0m\u001b[1;33m\u001b[0m\u001b[0m\n\u001b[1;32m----> 3\u001b[1;33m \u001b[0mprint\u001b[0m\u001b[1;33m(\u001b[0m\u001b[0marticle\u001b[0m\u001b[1;33m[\u001b[0m\u001b[1;36m0\u001b[0m\u001b[1;33m]\u001b[0m\u001b[1;33m.\u001b[0m\u001b[0mtext\u001b[0m\u001b[1;33m)\u001b[0m\u001b[1;33m\u001b[0m\u001b[0m\n\u001b[0m",
      "\u001b[1;31mIndexError\u001b[0m: list index out of range"
     ]
    }
   ],
   "source": [
    "news_sp = BeautifulSoup(news_r.text, 'html.parser')\n",
    "article = news_sp.select('div#body > div#content > div#article_body')\n",
    "print(article[0].text)"
   ]
  },
  {
   "cell_type": "markdown",
   "metadata": {},
   "source": [
    "# 자동화"
   ]
  },
  {
   "cell_type": "code",
   "execution_count": 39,
   "metadata": {},
   "outputs": [],
   "source": [
    "SEARCH_WORD = '금리'\n",
    "START_DATE = '2020.10.01'\n",
    "END_DATE = '2020.10.31'\n",
    "START_DATE_2 = '20201001'\n",
    "END_DATE_2 = '20201031'"
   ]
  },
  {
   "cell_type": "code",
   "execution_count": 40,
   "metadata": {},
   "outputs": [
    {
     "name": "stdout",
     "output_type": "stream",
     "text": [
      "['\\n  대출받을 때 중요한 건 한도와 금리뿐? 아니요. 상환방식도 있습니다.\\xa0만기일시상환 vs 원리금균등분할상환 vs 원금균등분할상환.\\xa0     \\xa0  [그게머니]Ep.30    상환방식이 중요해봤자 얼마나 중요하겠냐고요?\\xa0모르시는 말씀.\\xa0똑같은 금리로 똑같이 1억을 빌려도 상환방식에 따라 이자가 1500만원 차이 납니다. 예를 들어 설명해드릴게요.     \\xa0     대출원금 1억원, 상환기간 10년, 금리 연 3%로 대출을 받는다고 해봅시다. 상환방식별 총 이자비용은 만기일시상환은 3000만원, 원리금균등분할상환은 1587만원, 원금균등분할상환 시 1513만원으로 계산됩니다. 시간이 지날수록 남는 원금 크기가 달라지기 때문에 이런 차이가 생기는 겁니다.\\xa0     \\xa0     그럼 무조건 이자가 저렴한 원금균등분할상환이 유리한 것 아니냐고요? 꼭 그런 것만은 아니라고\\xa0하는데요. 그게머니가 세가지 상환방식의 특징과 상황별 선택법을 영상으로 알려드릴게요.     \\xa0     기획=금융기획팀, 영상=김재하·김진아     \\xa0  \\n', '\\n  대출받을 때 중요한 건 한도와 금리뿐? 아니요. 상환방식도 있습니다.\\xa0만기일시상환 vs 원리금균등분할상환 vs 원금균등분할상환.\\xa0     \\xa0  [그게머니]Ep.30    상환방식이 중요해봤자 얼마나 중요하겠냐고요?\\xa0모르시는 말씀.\\xa0똑같은 금리로 똑같이 1억을 빌려도 상환방식에 따라 이자가 1500만원 차이 납니다. 예를 들어 설명해드릴게요.     \\xa0     대출원금 1억원, 상환기간 10년, 금리 연 3%로 대출을 받는다고 해봅시다. 상환방식별 총 이자비용은 만기일시상환은 3000만원, 원리금균등분할상환은 1587만원, 원금균등분할상환 시 1513만원으로 계산됩니다. 시간이 지날수록 남는 원금 크기가 달라지기 때문에 이런 차이가 생기는 겁니다.\\xa0     \\xa0     그럼 무조건 이자가 저렴한 원금균등분할상환이 유리한 것 아니냐고요? 꼭 그런 것만은 아니라고\\xa0하는데요. 그게머니가 세가지 상환방식의 특징과 상황별 선택법을 영상으로 알려드릴게요.     \\xa0     기획=금융기획팀, 영상=김재하·김진아     \\xa0  \\n', '\\n  대출받을 때 중요한 건 한도와 금리뿐? 아니요. 상환방식도 있습니다.\\xa0만기일시상환 vs 원리금균등분할상환 vs 원금균등분할상환.\\xa0     \\xa0  [그게머니]Ep.30    상환방식이 중요해봤자 얼마나 중요하겠냐고요?\\xa0모르시는 말씀.\\xa0똑같은 금리로 똑같이 1억을 빌려도 상환방식에 따라 이자가 1500만원 차이 납니다. 예를 들어 설명해드릴게요.     \\xa0     대출원금 1억원, 상환기간 10년, 금리 연 3%로 대출을 받는다고 해봅시다. 상환방식별 총 이자비용은 만기일시상환은 3000만원, 원리금균등분할상환은 1587만원, 원금균등분할상환 시 1513만원으로 계산됩니다. 시간이 지날수록 남는 원금 크기가 달라지기 때문에 이런 차이가 생기는 겁니다.\\xa0     \\xa0     그럼 무조건 이자가 저렴한 원금균등분할상환이 유리한 것 아니냐고요? 꼭 그런 것만은 아니라고\\xa0하는데요. 그게머니가 세가지 상환방식의 특징과 상황별 선택법을 영상으로 알려드릴게요.     \\xa0     기획=금융기획팀, 영상=김재하·김진아     \\xa0  \\n', '\\n  대출받을 때 중요한 건 한도와 금리뿐? 아니요. 상환방식도 있습니다.\\xa0만기일시상환 vs 원리금균등분할상환 vs 원금균등분할상환.\\xa0     \\xa0  [그게머니]Ep.30    상환방식이 중요해봤자 얼마나 중요하겠냐고요?\\xa0모르시는 말씀.\\xa0똑같은 금리로 똑같이 1억을 빌려도 상환방식에 따라 이자가 1500만원 차이 납니다. 예를 들어 설명해드릴게요.     \\xa0     대출원금 1억원, 상환기간 10년, 금리 연 3%로 대출을 받는다고 해봅시다. 상환방식별 총 이자비용은 만기일시상환은 3000만원, 원리금균등분할상환은 1587만원, 원금균등분할상환 시 1513만원으로 계산됩니다. 시간이 지날수록 남는 원금 크기가 달라지기 때문에 이런 차이가 생기는 겁니다.\\xa0     \\xa0     그럼 무조건 이자가 저렴한 원금균등분할상환이 유리한 것 아니냐고요? 꼭 그런 것만은 아니라고\\xa0하는데요. 그게머니가 세가지 상환방식의 특징과 상황별 선택법을 영상으로 알려드릴게요.     \\xa0     기획=금융기획팀, 영상=김재하·김진아     \\xa0  \\n', '\\n  대출받을 때 중요한 건 한도와 금리뿐? 아니요. 상환방식도 있습니다.\\xa0만기일시상환 vs 원리금균등분할상환 vs 원금균등분할상환.\\xa0     \\xa0  [그게머니]Ep.30    상환방식이 중요해봤자 얼마나 중요하겠냐고요?\\xa0모르시는 말씀.\\xa0똑같은 금리로 똑같이 1억을 빌려도 상환방식에 따라 이자가 1500만원 차이 납니다. 예를 들어 설명해드릴게요.     \\xa0     대출원금 1억원, 상환기간 10년, 금리 연 3%로 대출을 받는다고 해봅시다. 상환방식별 총 이자비용은 만기일시상환은 3000만원, 원리금균등분할상환은 1587만원, 원금균등분할상환 시 1513만원으로 계산됩니다. 시간이 지날수록 남는 원금 크기가 달라지기 때문에 이런 차이가 생기는 겁니다.\\xa0     \\xa0     그럼 무조건 이자가 저렴한 원금균등분할상환이 유리한 것 아니냐고요? 꼭 그런 것만은 아니라고\\xa0하는데요. 그게머니가 세가지 상환방식의 특징과 상황별 선택법을 영상으로 알려드릴게요.     \\xa0     기획=금융기획팀, 영상=김재하·김진아     \\xa0  \\n', '\\n  대출받을 때 중요한 건 한도와 금리뿐? 아니요. 상환방식도 있습니다.\\xa0만기일시상환 vs 원리금균등분할상환 vs 원금균등분할상환.\\xa0     \\xa0  [그게머니]Ep.30    상환방식이 중요해봤자 얼마나 중요하겠냐고요?\\xa0모르시는 말씀.\\xa0똑같은 금리로 똑같이 1억을 빌려도 상환방식에 따라 이자가 1500만원 차이 납니다. 예를 들어 설명해드릴게요.     \\xa0     대출원금 1억원, 상환기간 10년, 금리 연 3%로 대출을 받는다고 해봅시다. 상환방식별 총 이자비용은 만기일시상환은 3000만원, 원리금균등분할상환은 1587만원, 원금균등분할상환 시 1513만원으로 계산됩니다. 시간이 지날수록 남는 원금 크기가 달라지기 때문에 이런 차이가 생기는 겁니다.\\xa0     \\xa0     그럼 무조건 이자가 저렴한 원금균등분할상환이 유리한 것 아니냐고요? 꼭 그런 것만은 아니라고\\xa0하는데요. 그게머니가 세가지 상환방식의 특징과 상황별 선택법을 영상으로 알려드릴게요.     \\xa0     기획=금융기획팀, 영상=김재하·김진아     \\xa0  \\n', '\\n  대출받을 때 중요한 건 한도와 금리뿐? 아니요. 상환방식도 있습니다.\\xa0만기일시상환 vs 원리금균등분할상환 vs 원금균등분할상환.\\xa0     \\xa0  [그게머니]Ep.30    상환방식이 중요해봤자 얼마나 중요하겠냐고요?\\xa0모르시는 말씀.\\xa0똑같은 금리로 똑같이 1억을 빌려도 상환방식에 따라 이자가 1500만원 차이 납니다. 예를 들어 설명해드릴게요.     \\xa0     대출원금 1억원, 상환기간 10년, 금리 연 3%로 대출을 받는다고 해봅시다. 상환방식별 총 이자비용은 만기일시상환은 3000만원, 원리금균등분할상환은 1587만원, 원금균등분할상환 시 1513만원으로 계산됩니다. 시간이 지날수록 남는 원금 크기가 달라지기 때문에 이런 차이가 생기는 겁니다.\\xa0     \\xa0     그럼 무조건 이자가 저렴한 원금균등분할상환이 유리한 것 아니냐고요? 꼭 그런 것만은 아니라고\\xa0하는데요. 그게머니가 세가지 상환방식의 특징과 상황별 선택법을 영상으로 알려드릴게요.     \\xa0     기획=금융기획팀, 영상=김재하·김진아     \\xa0  \\n', '\\n  대출받을 때 중요한 건 한도와 금리뿐? 아니요. 상환방식도 있습니다.\\xa0만기일시상환 vs 원리금균등분할상환 vs 원금균등분할상환.\\xa0     \\xa0  [그게머니]Ep.30    상환방식이 중요해봤자 얼마나 중요하겠냐고요?\\xa0모르시는 말씀.\\xa0똑같은 금리로 똑같이 1억을 빌려도 상환방식에 따라 이자가 1500만원 차이 납니다. 예를 들어 설명해드릴게요.     \\xa0     대출원금 1억원, 상환기간 10년, 금리 연 3%로 대출을 받는다고 해봅시다. 상환방식별 총 이자비용은 만기일시상환은 3000만원, 원리금균등분할상환은 1587만원, 원금균등분할상환 시 1513만원으로 계산됩니다. 시간이 지날수록 남는 원금 크기가 달라지기 때문에 이런 차이가 생기는 겁니다.\\xa0     \\xa0     그럼 무조건 이자가 저렴한 원금균등분할상환이 유리한 것 아니냐고요? 꼭 그런 것만은 아니라고\\xa0하는데요. 그게머니가 세가지 상환방식의 특징과 상황별 선택법을 영상으로 알려드릴게요.     \\xa0     기획=금융기획팀, 영상=김재하·김진아     \\xa0  \\n', '\\n  대출받을 때 중요한 건 한도와 금리뿐? 아니요. 상환방식도 있습니다.\\xa0만기일시상환 vs 원리금균등분할상환 vs 원금균등분할상환.\\xa0     \\xa0  [그게머니]Ep.30    상환방식이 중요해봤자 얼마나 중요하겠냐고요?\\xa0모르시는 말씀.\\xa0똑같은 금리로 똑같이 1억을 빌려도 상환방식에 따라 이자가 1500만원 차이 납니다. 예를 들어 설명해드릴게요.     \\xa0     대출원금 1억원, 상환기간 10년, 금리 연 3%로 대출을 받는다고 해봅시다. 상환방식별 총 이자비용은 만기일시상환은 3000만원, 원리금균등분할상환은 1587만원, 원금균등분할상환 시 1513만원으로 계산됩니다. 시간이 지날수록 남는 원금 크기가 달라지기 때문에 이런 차이가 생기는 겁니다.\\xa0     \\xa0     그럼 무조건 이자가 저렴한 원금균등분할상환이 유리한 것 아니냐고요? 꼭 그런 것만은 아니라고\\xa0하는데요. 그게머니가 세가지 상환방식의 특징과 상황별 선택법을 영상으로 알려드릴게요.     \\xa0     기획=금융기획팀, 영상=김재하·김진아     \\xa0  \\n', '\\n  대출받을 때 중요한 건 한도와 금리뿐? 아니요. 상환방식도 있습니다.\\xa0만기일시상환 vs 원리금균등분할상환 vs 원금균등분할상환.\\xa0     \\xa0  [그게머니]Ep.30    상환방식이 중요해봤자 얼마나 중요하겠냐고요?\\xa0모르시는 말씀.\\xa0똑같은 금리로 똑같이 1억을 빌려도 상환방식에 따라 이자가 1500만원 차이 납니다. 예를 들어 설명해드릴게요.     \\xa0     대출원금 1억원, 상환기간 10년, 금리 연 3%로 대출을 받는다고 해봅시다. 상환방식별 총 이자비용은 만기일시상환은 3000만원, 원리금균등분할상환은 1587만원, 원금균등분할상환 시 1513만원으로 계산됩니다. 시간이 지날수록 남는 원금 크기가 달라지기 때문에 이런 차이가 생기는 겁니다.\\xa0     \\xa0     그럼 무조건 이자가 저렴한 원금균등분할상환이 유리한 것 아니냐고요? 꼭 그런 것만은 아니라고\\xa0하는데요. 그게머니가 세가지 상환방식의 특징과 상황별 선택법을 영상으로 알려드릴게요.     \\xa0     기획=금융기획팀, 영상=김재하·김진아     \\xa0  \\n']\n"
     ]
    }
   ],
   "source": [
    "articles = []\n",
    "# 페이지 크롤링\n",
    "for page_number in range(100):\n",
    "    r = requests.get(url_format.format(SEARCH_WORD, START_DATE, END_DATE, START_DATE_2, END_DATE_2, str(page_number*10+1)))\n",
    "    sp = BeautifulSoup(r.text, 'html.parser')\n",
    "    sources = sp.select('div.group_news > ul.list_news > li div.news_area > a')\n",
    "    \n",
    "    # 뉴스 기사 크롤링\n",
    "    for source in sources:\n",
    "        news_r = requests.get(sources[0].attrs['href'])\n",
    "        news_sp = BeautifulSoup(news_r.text, 'html.parser')\n",
    "        article = news_sp.select('div#body > div#content > div#article_body')\n",
    "        articles.append(article[0].text)\n",
    "        \n",
    "print(articles)"
   ]
  },
  {
   "cell_type": "code",
   "execution_count": null,
   "metadata": {},
   "outputs": [],
   "source": []
  }
 ],
 "metadata": {
  "kernelspec": {
   "display_name": "Python 3",
   "language": "python",
   "name": "python3"
  },
  "language_info": {
   "codemirror_mode": {
    "name": "ipython",
    "version": 3
   },
   "file_extension": ".py",
   "mimetype": "text/x-python",
   "name": "python",
   "nbconvert_exporter": "python",
   "pygments_lexer": "ipython3",
   "version": "3.7.0"
  }
 },
 "nbformat": 4,
 "nbformat_minor": 4
}
