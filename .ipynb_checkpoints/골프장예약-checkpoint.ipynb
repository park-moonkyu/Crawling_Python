{
 "cells": [
  {
   "cell_type": "markdown",
   "metadata": {},
   "source": [
    "# 대명골프클럽 예약\n",
    "\n",
    "코로나 사태이후 골프장대란으로 예약을 자동으로 하면 좋을까하는 생각에 진행 <br>\n",
    "대명골프클럽의 경우 매일 아침 9시에 특정 요일의 날짜를 예약가능 <br>\n",
    "매주 화요일 같은경우 3주후의 주말도 같이 예약이 가능하다. "
   ]
  },
  {
   "cell_type": "code",
   "execution_count": null,
   "metadata": {},
   "outputs": [],
   "source": [
    "from selenium import webdriver\n",
    "from selenium.webdriver.common.keys import Keys\n",
    "import urllib.request\n",
    "import urllib.error\n",
    "\n",
    "from datetime import datetime\n",
    "import time\n",
    "\n",
    "\n",
    "#Chrome 웹드라이버 생성\n",
    "driver=webdriver.Chrome()\n",
    "\n",
    "driver.get(\"https://www.dgolfclub.com/login.dp/dmparse.dm?url=/rsv.cal.dp/dmparse.dm?fJiyukCd=60\")\n",
    "assert \"대명골프클럽\" in driver.title\n",
    "\n",
    "elem=driver.find_element_by_xpath('//*[@id=\"cyberId\"]')\n",
    "elem.send_keys('아이디')\n",
    "time.sleep(2)\n",
    "elem=driver.find_element_by_xpath('//*[@id=\"cyberPass\"]')\n",
    "elem.send_keys('비번')\n",
    "time.sleep(2)\n",
    "\n",
    "driver.find_element_by_xpath('//*[@id=\"loginForm\"]/div[2]/a').click()\n",
    "\n",
    "time.sleep(2)\n",
    "\n",
    "driver.get(\"https://www.dgolfclub.com/rsv.cal.dp/dmparse.dm?fJiyukCd=60\")\n",
    "\n",
    "#time.sleep과 밑의 datetime을위한 time의 충돌으로 인한 새로운 import\n",
    "from datetime import date, time, datetime\n",
    "\n",
    "now = datetime.now()\n",
    "current_time = time(now.hour, now.minute, now.second)\n",
    "\n",
    "# 서버시간 확인\n",
    "while current_time != '08:59:58' :\n",
    "    now = datetime.now()\n",
    "    current_time = str(time(now.hour, now.minute, now.second))\n",
    "    \n",
    "\n",
    "#새로고침 클릭.    \n",
    "driver.find_element_by_xpath('//*[@id=\"startCal\"]/span[1]/a').click()\n",
    "\n",
    "#요일 클릭.  (Xpath로 요소 따기)  \n",
    "driver.find_element_by_xpath('//*[@id=\"container\"]/div[3]/div[5]/div[2]/fieldset/table/tbody/tr[3]/td[3]/a').click()\n",
    "\n",
    "#요일 클릭.  (Class 명으로로 요소 따기)  \n",
    "driver.find_elements_by_class_name('button').click()\n",
    "\n",
    "\n",
    "#요일 클릭.  (CSS로 요소 따기)  \n",
    "#driver.find_elements_by_css_selector('#css>div').click()\n",
    "\n",
    "# 시간 클릭\n",
    "#driver.find_element_by_xpath('//*[@id=\"rsvTableBody\"]/tr[2]/td[5]/a').click()\n",
    "\n",
    "#예약버튼\n",
    "driver.find_element_by_xpath('//*[@id=\"container\"]/div[3]/div[4]/a[1]').click()\n",
    "\n",
    "\n",
    "\n"
   ]
  },
  {
   "cell_type": "markdown",
   "metadata": {},
   "source": [
    "현재 다른 요소들은 잘 잡히지만 시간을 선택할때 계속적인 JS 값들의 변화로 요소를 따는게 힘듬 <br>\n",
    "따라서 기존의 XPath 방식외에 다른 방식으로 시도 예정 <br>\n",
    "아침 9시 정각에 한번 열리므로 날잡고 문제를 해결하기에 너무 한계가 존재 <br>\n"
   ]
  },
  {
   "cell_type": "markdown",
   "metadata": {},
   "source": [
    "## 해당 이슈의 골프 클럽 Xpath 요소"
   ]
  },
  {
   "cell_type": "code",
   "execution_count": null,
   "metadata": {},
   "outputs": [],
   "source": [
    "\"\"\"\n",
    "대명골프클럽 요소\n",
    "\n",
    "//*[@id=\"rsvTableBody\"]/tr[1]/td[6]/a\n",
    "//*[@id=\"rsvTableBody\"]/tr[2]/td[5]/a\n",
    "//*[@id=\"rsvTableBody\"]/tr[3]/td[5]/a          //9시꺼\n",
    "\n",
    "\n",
    " \n",
    "//*[@id=\"rsvTableBody\"]/tr[4]/td[6]/a        //10시\n",
    "//*[@id=\"rsvTableBody\"]/tr[11]/td[5]/a       //10:30\n",
    "//*[@id=\"rsvTableBody\"]/tr[16]/td[5]/a    //10:54\n",
    "\n",
    "//*[@id=\"rsvTableBody\"]/tr[24]/td[5]/a    //11시26분\n",
    "\n",
    "//*[@id=\"rsvTableBody\"]/tr[35]/td[5]/a       //12시 6분\n",
    "\n",
    "\"\"\"\n",
    "#   //*[@id=\"container\"]/div[3]/div[4]/a[1]   예약하기 버튼요소\n"
   ]
  },
  {
   "cell_type": "code",
   "execution_count": null,
   "metadata": {},
   "outputs": [],
   "source": []
  }
 ],
 "metadata": {
  "kernelspec": {
   "display_name": "Python 3",
   "language": "python",
   "name": "python3"
  },
  "language_info": {
   "codemirror_mode": {
    "name": "ipython",
    "version": 3
   },
   "file_extension": ".py",
   "mimetype": "text/x-python",
   "name": "python",
   "nbconvert_exporter": "python",
   "pygments_lexer": "ipython3",
   "version": "3.7.0"
  }
 },
 "nbformat": 4,
 "nbformat_minor": 4
}
