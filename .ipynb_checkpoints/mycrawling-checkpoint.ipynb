{
 "cells": [
  {
   "cell_type": "code",
   "execution_count": 10,
   "metadata": {
    "scrolled": true
   },
   "outputs": [
    {
     "name": "stdout",
     "output_type": "stream",
     "text": [
      "['NT930QCG-K58A', '박문규', '20.11.03']\n",
      "['NT350XCR-AD5WA', '임선정', '20.11.05']\n",
      "['15ZD90N-VX50K', '권규현', '20.10.29']\n",
      "['15UD40N-GX36K', '이승호', '20.10.29']\n",
      "['15UD40N-GX36K', '박문규', '20.10.28']\n",
      "['75ATD430N-66h', '김민창', '20.10.29']\n",
      "['NT350XCR-AD5WA', '박문규', '20.10.29']\n",
      "['NT950XCR-G58A', '박문규', '20.10.29']\n",
      "['17ZD90N-VX70K', '권규현', '20.10.29']\n",
      "['NT950QCT-A58A', '권규현', '20.10.29']\n",
      "['15ZD90N-HX56K', '임선정', '20.10.29']\n",
      "['17ZD90N-VX50K', '박문규', '20.10.29']\n",
      "['NT950XCR-A58A', '임선정', '20.10.29']\n",
      "['NT950XCJ-X716A', '권규현', '20.10.29']\n",
      "[None, None, None]\n"
     ]
    }
   ],
   "source": [
    "# -*- coding:utf-8 -*-\n",
    "import openpyxl\n",
    "from bs4 import BeautifulSoup\n",
    "from urllib.request import urlopen\n",
    "import csv, re, requests\n",
    "import time\n",
    "\n",
    "# 엑셀파일 열기\n",
    "filename = \"test.xlsx\"\n",
    "book = openpyxl.load_workbook(filename)\n",
    "\n",
    "# 맨 앞의 시트 추출하기\n",
    "sheet = book.worksheets[0]\n",
    "\n",
    "# 시트의 각 행을 순서대로 추출하기\n",
    "data = []\n",
    "for row in sheet.rows:\n",
    "    data.append([row[0].value, row[1].value,row[2].value])\n",
    "\n",
    "del data[0]\n",
    "\n",
    "for i in range(len(data)):\n",
    "    print(data[i])\n"
   ]
  },
  {
   "cell_type": "markdown",
   "metadata": {},
   "source": [
    "# Beautiful 빠르나 결국 URL당 접근하면 느려지기때문에 selenium 검색과 시간 비교"
   ]
  },
  {
   "cell_type": "code",
   "execution_count": 38,
   "metadata": {
    "scrolled": true
   },
   "outputs": [
    {
     "name": "stdout",
     "output_type": "stream",
     "text": [
      "[['NT930QCG-K58A', '박문규', '20.11.03', '1,799,000원'], ['NT350XCR-AD5WA', '임선정', '20.11.05', '848,000원'], ['15ZD90N-VX50K', '권규현', '20.10.29', '1,319,950원'], ['15UD40N-GX36K', '이승호', '20.10.29', '676,080원'], ['15UD40N-GX36K', '박문규', '20.10.28', '676,080원'], ['NT950XCR-G58A', '박문규', '20.10.29', '1,572,620원'], ['17ZD90N-VX70K', '권규현', '20.10.29', '1,603,780원'], ['NT950QCT-A58A', '권규현', '20.10.29', '1,739,000원'], ['15ZD90N-HX56K', '임선정', '20.10.29', '1,278,000원'], ['17ZD90N-VX50K', '박문규', '20.10.29', '1,416,750원'], ['NT950XCR-A58A', '임선정', '20.10.29', '1,446,880원'], ['NT950XCJ-X716A', '권규현', '20.10.29', '2,089,000원'], [None, None, None]]\n",
      "https://search.shopping.naver.com/search/all?query=NT930QCG-K58A\n",
      "https://search.shopping.naver.com/search/all?query=NT350XCR-AD5WA\n",
      "https://search.shopping.naver.com/search/all?query=15ZD90N-VX50K\n",
      "https://search.shopping.naver.com/search/all?query=15UD40N-GX36K\n",
      "https://search.shopping.naver.com/search/all?query=15UD40N-GX36K\n",
      "https://search.shopping.naver.com/search/all?query=NT950XCR-G58A\n",
      "https://search.shopping.naver.com/search/all?query=17ZD90N-VX70K\n",
      "https://search.shopping.naver.com/search/all?query=NT950QCT-A58A\n",
      "https://search.shopping.naver.com/search/all?query=15ZD90N-HX56K\n",
      "https://search.shopping.naver.com/search/all?query=17ZD90N-VX50K\n",
      "https://search.shopping.naver.com/search/all?query=NT950XCR-A58A\n",
      "https://search.shopping.naver.com/search/all?query=NT950XCJ-X716A\n",
      "time : 6.473883867263794\n",
      "[['NT930QCG-K58A', '박문규', '20.11.03', '1,799,000원', '1,799,000원'], ['NT350XCR-AD5WA', '임선정', '20.11.05', '848,000원', '848,000원'], ['15ZD90N-VX50K', '권규현', '20.10.29', '1,319,950원', '1,319,950원'], ['15UD40N-GX36K', '이승호', '20.10.29', '676,080원', '676,080원'], ['15UD40N-GX36K', '박문규', '20.10.28', '676,080원', '676,080원'], ['NT950XCR-G58A', '박문규', '20.10.29', '1,572,620원', '1,572,620원'], ['17ZD90N-VX70K', '권규현', '20.10.29', '1,603,780원', '1,603,780원'], ['NT950QCT-A58A', '권규현', '20.10.29', '1,739,000원', '1,739,000원'], ['15ZD90N-HX56K', '임선정', '20.10.29', '1,278,000원', '1,278,000원'], ['17ZD90N-VX50K', '박문규', '20.10.29', '1,416,750원', '1,416,750원'], ['NT950XCR-A58A', '임선정', '20.10.29', '1,446,880원', '1,453,050원'], ['NT950XCJ-X716A', '권규현', '20.10.29', '2,089,000원', '2,089,000원'], [None, None, None]]\n"
     ]
    }
   ],
   "source": [
    "start = time.time()  # 시작 시간 저장\n",
    "result=[]\n",
    "# 해당값은 나오지않아서 dx\n",
    "del data[5]\n",
    "print(data)\n",
    "\n",
    "for i in range(len(data)):\n",
    "    if data[i][0]== None:\n",
    "        break\n",
    "    else:\n",
    "        url = 'https://search.shopping.naver.com/search/all?query=' + data[i][0]\n",
    "        print(url)\n",
    "        req = requests.get(url)   # 크롤링할 페이지 url로 요청 보내기 , req를 출력하면 statuscode만 출력됨\n",
    "        html = req.text                # html 코드를 가져온다!\n",
    "        soup = BeautifulSoup(html, 'html.parser')\n",
    "        if soup.find('span', class_=\"price_num__2WUXn\").text == None:\n",
    "                         result.append(\"해당상품없음\")\n",
    "        else:\n",
    "            data[i].append(soup.find('span', class_=\"price_num__2WUXn\").text)\n",
    "# 작업 코드\n",
    " \n",
    " \n",
    "print(\"time :\", time.time() - start)  # 현재시각 - 시작시간 = 실행 시간\n",
    "print(data)"
   ]
  },
  {
   "cell_type": "markdown",
   "metadata": {},
   "source": [
    "# DB에 해당 데이터 뿌려주기 "
   ]
  },
  {
   "cell_type": "markdown",
   "metadata": {},
   "source": [
    "2. MSSQL 사용 절차,\n",
    "Python에서 MSSQL에 있는 데이타를 사용하는 일반적인 절차는 다음과 같다.<br>\n",
    "\n",
    "pymssql 모듈을 import 한다<br>\n",
    "pymssql.connect() 메소드를 사용하여 MSSQL에 Connect 한다. 호스트명, 로그인, 암호, 접속할 DB 등을 파라미터로 지정할 수 있다.<br>\n",
    "DB 접속이 성공하면, Connection 객체로부터 cursor() 메서드를 호출하여 Cursor 객체를 가져온다. DB 커서는 Fetch 동작을 관리하는데 사용된다.<br>\n",
    "Cursor 객체의 execute() 메서드를 사용하여 SQL 문장을 DB 서버에 보낸다.<br>\n",
    "SQL 쿼리의 경우 Cursor 객체의 fetchall(), fetchone(), fetchmany() 등의 메서드를 사용하여 데이타를 서버로부터 가져온 후, Fetch 된 데이타를 사용한다.<br>\n",
    "삽입, 갱신, 삭제 등의 DML(Data Manipulation Language) 문장을 실행하는 경우, INSERT/UPDATE/DELETE 후 Connection 객체의 commit() 메서드를 사용하여 데이타를 확정 갱신한다.<br>\n",
    "Connection 객체의 close() 메서드를 사용하여 DB 연결을 닫는다.<br>\n",
    "아래 예제들의 기본 샘플 데이타로 아래와 같은 Customer 테이블이 있다고 가정하자.<br>"
   ]
  },
  {
   "cell_type": "code",
   "execution_count": 48,
   "metadata": {},
   "outputs": [],
   "source": [
    "import pymssql\n",
    "import pandas as pd\n",
    "\n",
    "# MSSQL 접속\n",
    "conn = pymssql.connect(host=r\"211.233.21.82\", user='bif', password='DWBIF2020!@#', database='DB_PRICE', charset='cp949')\n",
    "\n",
    "# Connection 으로부터 Cursor 생성\n",
    "cursor = conn.cursor()\n",
    "\n",
    "\n",
    "# SQL문 실행\n",
    "cursor.execute(\"INSERT INTO dbo.low_price([date], product_ID, price)  VALUES (1,2,3);\")\n",
    "                        \n",
    "conn.commit()\n",
    "conn.close()"
   ]
  },
  {
   "cell_type": "code",
   "execution_count": null,
   "metadata": {},
   "outputs": [],
   "source": [
    "# MSSQL 접속\n",
    "conn = pymssql.connect(host=r\"211.233.21.82\", user='bif', password='DWBIF2020!@#', database='DB_PRICE', charset='cp949')\n",
    "\n",
    "# Connection 으로부터 Cursor 생성\n",
    "cursor = conn.cursor()\n",
    "\n",
    "\n",
    "# SQL문 실행\n",
    "cursor.execute('SELECT * FROM dbo.low_price;')\n",
    "row = cursor.fetchall()\n",
    "cols = [item[0] for item in cursor.description]\n",
    "df=pd.DataFrame(row,columns=cols)\n",
    "\n",
    "df.head(20)"
   ]
  },
  {
   "cell_type": "code",
   "execution_count": 3,
   "metadata": {},
   "outputs": [],
   "source": [
    "from selenium import webdriver\n",
    "from selenium.webdriver.common.keys import Keys\n",
    "start = time.time()  # 시작 시간 저장\n",
    "\n",
    "#Chrome 웹드라이버 생성\n",
    "driver=webdriver.Chrome()\n",
    "\n",
    "driver.get(\"https://shopping.naver.com/\")\n",
    "assert \"네이버쇼핑\" in driver.title\n",
    "\n",
    "for i in range(len(data)):\n",
    "    if data[i][0]== None:\n",
    "        break\n",
    "    else:\n",
    "        elem=driver.find_element_by_xpath('//*[@id=\"autocompleteWrapper\"]/input[1]')\n",
    "        elem.send_keys(data[i][0])\n",
    "        elem.submit()\n",
    "        driver.find_element_by_xpath('//*[@id=\"autocompleteWrapper\"]/a[2]').click()\n",
    "        driver.find_element_by_xpath('//*[@id=\"__next\"]/div/div[1]/div/div[2]/div/h1/a').click()\n",
    "      \n",
    "       "
   ]
  },
  {
   "cell_type": "markdown",
   "metadata": {},
   "source": [
    "### beautiful  = 모든 url을 열고 get  // 셀리니움  = 하나 url을 열고 input에 원하는 데이터만 바꿔줌 이다.\n",
    "### 처음생각했을때는 모든 url을 열고 get하는 방식이 느릴것이라고 예상했지만, 셀레니움이 확연하게 느렸다. 확실히 chrome을 키고 네트워크가 로딩하는 과정에서 bandwidth 로인한 cost가 있는거 같다."
   ]
  },
  {
   "cell_type": "code",
   "execution_count": null,
   "metadata": {},
   "outputs": [],
   "source": []
  }
 ],
 "metadata": {
  "kernelspec": {
   "display_name": "Python 3",
   "language": "python",
   "name": "python3"
  },
  "language_info": {
   "codemirror_mode": {
    "name": "ipython",
    "version": 3
   },
   "file_extension": ".py",
   "mimetype": "text/x-python",
   "name": "python",
   "nbconvert_exporter": "python",
   "pygments_lexer": "ipython3",
   "version": "3.8.3"
  }
 },
 "nbformat": 4,
 "nbformat_minor": 4
}
