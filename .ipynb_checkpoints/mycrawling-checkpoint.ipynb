{
 "cells": [
  {
   "cell_type": "code",
   "execution_count": 12,
   "metadata": {},
   "outputs": [
    {
     "name": "stdout",
     "output_type": "stream",
     "text": [
      "['NT930QCG-K58A', '박문규', '20.11.03']\n",
      "['NT350XCR-AD5WA', '임선정', '20.11.05']\n",
      "['15ZD90N-VX50K', '권규현', '20.10.29']\n",
      "['15UD40N-GX36K', '이승호', '20.10.29']\n",
      "['15UD40N-GX36K', '박문규', '20.10.28']\n",
      "['75ATD430N-66h', '김민창', '20.10.29']\n",
      "['NT350XCR-AD5WA', '박문규', '20.10.29']\n",
      "['NT950XCR-G58A', '박문규', '20.10.29']\n",
      "['17ZD90N-VX70K', '권규현', '20.10.29']\n",
      "['NT950QCT-A58A', '권규현', '20.10.29']\n",
      "['15ZD90N-HX56K', '임선정', '20.10.29']\n",
      "['17ZD90N-VX50K', '박문규', '20.10.29']\n",
      "['NT950XCR-A58A', '임선정', '20.10.29']\n",
      "['NT950XCJ-X716A', '권규현', '20.10.29']\n",
      "[None, None, None]\n"
     ]
    }
   ],
   "source": [
    "# -*- coding:utf-8 -*-\n",
    "import openpyxl\n",
    "from bs4 import BeautifulSoup\n",
    "from urllib.request import urlopen\n",
    "import csv, re, requests\n",
    "import time\n",
    "\n",
    "# 엑셀파일 열기\n",
    "filename = \"test.xlsx\"\n",
    "book = openpyxl.load_workbook(filename)\n",
    "\n",
    "# 맨 앞의 시트 추출하기\n",
    "sheet = book.worksheets[0]\n",
    "\n",
    "# 시트의 각 행을 순서대로 추출하기\n",
    "data = []\n",
    "for row in sheet.rows:\n",
    "    data.append([row[0].value, row[1].value,row[2].value])\n",
    "\n",
    "del data[0]\n",
    "\n",
    "for i in range(len(data)):\n",
    "    print(data[i])\n"
   ]
  },
  {
   "cell_type": "markdown",
   "metadata": {},
   "source": [
    "# Beautiful 빠르나 결국 URL당 접근하면 느려지기때문에 selenium 검색과 시간 비교"
   ]
  },
  {
   "cell_type": "code",
   "execution_count": 73,
   "metadata": {
    "scrolled": false
   },
   "outputs": [
    {
     "name": "stdout",
     "output_type": "stream",
     "text": [
      "[['NT930QCG-K58A', '박문규', '20.11.03'], ['NT350XCR-AD5WA', '임선정', '20.11.05'], ['15ZD90N-VX50K', '권규현', '20.10.29'], ['15UD40N-GX36K', '이승호', '20.10.29'], ['15UD40N-GX36K', '박문규', '20.10.28'], ['17ZD90N-VX70K', '권규현', '20.10.29'], ['NT950QCT-A58A', '권규현', '20.10.29'], ['15ZD90N-HX56K', '임선정', '20.10.29'], ['17ZD90N-VX50K', '박문규', '20.10.29'], ['NT950XCR-A58A', '임선정', '20.10.29'], ['NT950XCJ-X716A', '권규현', '20.10.29'], [None, None, None]]\n",
      "https://search.shopping.naver.com/search/all?query=NT930QCG-K58A\n",
      "https://search.shopping.naver.com/search/all?query=NT350XCR-AD5WA\n",
      "https://search.shopping.naver.com/search/all?query=15ZD90N-VX50K\n",
      "https://search.shopping.naver.com/search/all?query=15UD40N-GX36K\n",
      "https://search.shopping.naver.com/search/all?query=15UD40N-GX36K\n",
      "https://search.shopping.naver.com/search/all?query=17ZD90N-VX70K\n",
      "https://search.shopping.naver.com/search/all?query=NT950QCT-A58A\n",
      "https://search.shopping.naver.com/search/all?query=15ZD90N-HX56K\n",
      "https://search.shopping.naver.com/search/all?query=17ZD90N-VX50K\n",
      "https://search.shopping.naver.com/search/all?query=NT950XCR-A58A\n",
      "https://search.shopping.naver.com/search/all?query=NT950XCJ-X716A\n",
      "time : 4.531186819076538\n",
      "['1,849,000원', '798,000원', '1,334,820원', '658,400원', '658,400원', '1,588,640원', '1,689,000원', '1,372,390원', '1,456,940원', '1,494,340원', '2,073,810원']\n"
     ]
    }
   ],
   "source": [
    "start = time.time()  # 시작 시간 저장\n",
    "result=[]\n",
    "del data[5]\n",
    "print(data)\n",
    "\n",
    "for i in range(len(data)):\n",
    "    if data[i][0]== None:\n",
    "        break\n",
    "    else:\n",
    "        url = 'https://search.shopping.naver.com/search/all?query=' + data[i][0]\n",
    "        print(url)\n",
    "        req = requests.get(url)   # 크롤링할 페이지 url로 요청 보내기 , req를 출력하면 statuscode만 출력됨\n",
    "        html = req.text                # html 코드를 가져온다!\n",
    "        soup = BeautifulSoup(html, 'html.parser')\n",
    "        if soup.find('span', class_=\"price_num__2WUXn\").text == None:\n",
    "                         result.append(\"해당상품없음\")\n",
    "        else:\n",
    "            result.append(soup.find('span', class_=\"price_num__2WUXn\").text)\n",
    "# 작업 코드\n",
    " \n",
    " \n",
    "print(\"time :\", time.time() - start)  # 현재시각 - 시작시간 = 실행 시간\n",
    "print(result)"
   ]
  },
  {
   "cell_type": "code",
   "execution_count": 47,
   "metadata": {},
   "outputs": [
    {
     "name": "stdout",
     "output_type": "stream",
     "text": [
      "time : 22.828194618225098\n"
     ]
    }
   ],
   "source": [
    "from selenium import webdriver\n",
    "from selenium.webdriver.common.keys import Keys\n",
    "start = time.time()  # 시작 시간 저장\n",
    "\n",
    "#Chrome 웹드라이버 생성\n",
    "driver=webdriver.Chrome()\n",
    "\n",
    "driver.get(\"https://shopping.naver.com/\")\n",
    "assert \"네이버쇼핑\" in driver.title\n",
    "\n",
    "for i in range(len(data)):\n",
    "    if data[i][0]== None:\n",
    "        break\n",
    "    else:\n",
    "        elem=driver.find_element_by_xpath('//*[@id=\"autocompleteWrapper\"]/input[1]')\n",
    "        elem.send_keys(data[i][0])\n",
    "        elem.submit()\n",
    "        driver.find_element_by_xpath('//*[@id=\"autocompleteWrapper\"]/a[2]').click()\n",
    "        driver.find_element_by_xpath('//*[@id=\"__next\"]/div/div[1]/div/div[2]/div/h1/a').click()\n",
    "      \n",
    "        \n",
    "print(\"time :\", time.time() - start)  # 현재시각 - 시작시간 = 실행 시간"
   ]
  },
  {
   "cell_type": "markdown",
   "metadata": {},
   "source": [
    "### beautiful  = 모든 url을 열고 get  // 셀리니움  = 하나 url을 열고 input에 원하는 데이터만 바꿔줌 이다.\n",
    "### 처음생각했을때는 모든 url을 열고 get하는 방식이 느릴것이라고 예상했지만, 셀레니움이 확연하게 느렸다. 확실히 chrome을 키고 네트워크가 로딩하는 과정에서 bandwidth 로인한 cost가 있는거 같다."
   ]
  },
  {
   "cell_type": "code",
   "execution_count": null,
   "metadata": {},
   "outputs": [],
   "source": []
  }
 ],
 "metadata": {
  "kernelspec": {
   "display_name": "Python 3",
   "language": "python",
   "name": "python3"
  },
  "language_info": {
   "codemirror_mode": {
    "name": "ipython",
    "version": 3
   },
   "file_extension": ".py",
   "mimetype": "text/x-python",
   "name": "python",
   "nbconvert_exporter": "python",
   "pygments_lexer": "ipython3",
   "version": "3.8.3"
  }
 },
 "nbformat": 4,
 "nbformat_minor": 4
}
