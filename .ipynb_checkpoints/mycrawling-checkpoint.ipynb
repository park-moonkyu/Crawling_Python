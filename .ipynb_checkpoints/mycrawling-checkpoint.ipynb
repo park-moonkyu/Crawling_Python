{
 "cells": [
  {
   "cell_type": "code",
   "execution_count": 1,
   "metadata": {
    "scrolled": true
   },
   "outputs": [
    {
     "name": "stdout",
     "output_type": "stream",
     "text": [
      "['NT930QCG-K58A', '박문규', '20.11.03']\n",
      "['NT350XCR-AD5WA', '박문규', '20.11.05']\n",
      "['15ZD90N-VX50K', '권규현', '20.10.29']\n",
      "['15UD40N-GX36K', '이승호', '20.10.29']\n",
      "['NT950XCR-G58A', '박문규', '20.10.29']\n",
      "['17ZD90N-VX70K', '권규현', '20.10.29']\n",
      "['NT950QCT-A58A', '권규현', '20.10.29']\n",
      "['15ZD90N-HX56K', '임선정', '20.10.29']\n",
      "['NT950XCR-A58A', '임선정', '20.10.29']\n",
      "['NT950XCJ-X716A', '권규현', '20.10.29']\n",
      "['MXK32KH/A', '박문규', '20.10.30']\n",
      "['MVVK2KH/A', '박문규', '20.11.09']\n",
      "['MSI GL75 Leopard 10SDK', '박문규', '20.11.07']\n"
     ]
    }
   ],
   "source": [
    "# -*- coding:utf-8 -*-\n",
    "import openpyxl\n",
    "from bs4 import BeautifulSoup\n",
    "from urllib.request import urlopen\n",
    "import csv, re, requests\n",
    "import time\n",
    "\n",
    "# 엑셀파일 열기\n",
    "filename = \"test.xlsx\"\n",
    "book = openpyxl.load_workbook(filename)\n",
    "\n",
    "# 맨 앞의 시트 추출하기\n",
    "sheet = book.worksheets[0]\n",
    "\n",
    "# 시트의 각 행을 순서대로 추출하기\n",
    "data = []\n",
    "for row in sheet.rows:\n",
    "    data.append([row[0].value, row[1].value,row[2].value])\n",
    "\n",
    "del data[0]\n",
    "\n",
    "for i in range(len(data)):\n",
    "    print(data[i])\n"
   ]
  },
  {
   "cell_type": "markdown",
   "metadata": {},
   "source": [
    "# Beautiful 빠르나 결국 URL당 접근하면 느려지기때문에 selenium 검색과 시간 비교"
   ]
  },
  {
   "cell_type": "code",
   "execution_count": 2,
   "metadata": {
    "scrolled": false
   },
   "outputs": [
    {
     "name": "stdout",
     "output_type": "stream",
     "text": [
      "https://search.shopping.naver.com/search/all?query=NT930QCG-K58A\n",
      "https://search.shopping.naver.com/search/all?query=NT350XCR-AD5WA\n",
      "https://search.shopping.naver.com/search/all?query=15ZD90N-VX50K\n",
      "https://search.shopping.naver.com/search/all?query=15UD40N-GX36K\n",
      "https://search.shopping.naver.com/search/all?query=NT950XCR-G58A\n",
      "https://search.shopping.naver.com/search/all?query=17ZD90N-VX70K\n",
      "https://search.shopping.naver.com/search/all?query=NT950QCT-A58A\n",
      "https://search.shopping.naver.com/search/all?query=15ZD90N-HX56K\n",
      "https://search.shopping.naver.com/search/all?query=NT950XCR-A58A\n",
      "https://search.shopping.naver.com/search/all?query=NT950XCJ-X716A\n",
      "https://search.shopping.naver.com/search/all?query=MXK32KH/A\n",
      "https://search.shopping.naver.com/search/all?query=MVVK2KH/A\n",
      "https://search.shopping.naver.com/search/all?query=MSI GL75 Leopard 10SDK\n",
      "time : 6.377726316452026\n",
      "[['NT930QCG-K58A', '박문규', '20.11.03', '1,819,000원'], ['NT350XCR-AD5WA', '박문규', '20.11.05', '848,000원'], ['15ZD90N-VX50K', '권규현', '20.10.29', '1,334,460원'], ['15UD40N-GX36K', '이승호', '20.10.29', '675,550원'], ['NT950XCR-G58A', '박문규', '20.10.29', '1,574,260원'], ['17ZD90N-VX70K', '권규현', '20.10.29', '1,603,750원'], ['NT950QCT-A58A', '권규현', '20.10.29', '1,699,900원'], ['15ZD90N-HX56K', '임선정', '20.10.29', '1,392,730원'], ['NT950XCR-A58A', '임선정', '20.10.29', '1,440,250원'], ['NT950XCJ-X716A', '권규현', '20.10.29', '2,088,990원'], ['MXK32KH/A', '박문규', '20.10.30', '1,600,000원'], ['MVVK2KH/A', '박문규', '20.11.09', '3,259,500원'], ['MSI GL75 Leopard 10SDK', '박문규', '20.11.07', '1,349,000원']]\n"
     ]
    }
   ],
   "source": [
    "start = time.time()  # 시작 시간 저장\n",
    "result=[]\n",
    "\n",
    "\n",
    "for i in range(len(data)):\n",
    "    if data[i][0]== None:\n",
    "        break\n",
    "    else:\n",
    "        url = 'https://search.shopping.naver.com/search/all?query=' + data[i][0]\n",
    "        print(url)\n",
    "        req = requests.get(url)   # 크롤링할 페이지 url로 요청 보내기 , req를 출력하면 statuscode만 출력됨\n",
    "        html = req.text                # html 코드를 가져온다!\n",
    "        soup = BeautifulSoup(html, 'html.parser')\n",
    "        if soup.find('span', class_=\"price_num__2WUXn\").text == None:\n",
    "                         result.append(\"해당상품없음\")\n",
    "        else:\n",
    "            data[i].append(soup.find('span', class_=\"price_num__2WUXn\").text)\n",
    "            \n",
    "# 작업 코드\n",
    " \n",
    "print(\"time :\", time.time() - start)  # 현재시각 - 시작시간 = 실행 시간\n",
    "print(data)"
   ]
  },
  {
   "cell_type": "markdown",
   "metadata": {},
   "source": [
    "# DB에 해당 데이터 뿌려주기 "
   ]
  },
  {
   "cell_type": "markdown",
   "metadata": {},
   "source": [
    "2. MSSQL 사용 절차,\n",
    "Python에서 MSSQL에 있는 데이타를 사용하는 일반적인 절차는 다음과 같다.<br>\n",
    "\n",
    "pymssql 모듈을 import 한다<br>\n",
    "pymssql.connect() 메소드를 사용하여 MSSQL에 Connect 한다. 호스트명, 로그인, 암호, 접속할 DB 등을 파라미터로 지정할 수 있다.<br>\n",
    "DB 접속이 성공하면, Connection 객체로부터 cursor() 메서드를 호출하여 Cursor 객체를 가져온다. DB 커서는 Fetch 동작을 관리하는데 사용된다.<br>\n",
    "Cursor 객체의 execute() 메서드를 사용하여 SQL 문장을 DB 서버에 보낸다.<br>\n",
    "SQL 쿼리의 경우 Cursor 객체의 fetchall(), fetchone(), fetchmany() 등의 메서드를 사용하여 데이타를 서버로부터 가져온 후, Fetch 된 데이타를 사용한다.<br>\n",
    "삽입, 갱신, 삭제 등의 DML(Data Manipulation Language) 문장을 실행하는 경우, INSERT/UPDATE/DELETE 후 Connection 객체의 commit() 메서드를 사용하여 데이타를 확정 갱신한다.<br>\n",
    "Connection 객체의 close() 메서드를 사용하여 DB 연결을 닫는다.<br>\n",
    "아래 예제들의 기본 샘플 데이타로 아래와 같은 Customer 테이블이 있다고 가정하자.<br>"
   ]
  },
  {
   "cell_type": "code",
   "execution_count": 3,
   "metadata": {},
   "outputs": [
    {
     "name": "stdout",
     "output_type": "stream",
     "text": [
      "1,819,000원\n",
      "<class 'str'>\n"
     ]
    }
   ],
   "source": [
    "print(data[0][3])\n",
    "print(type(data[0][3]))"
   ]
  },
  {
   "cell_type": "markdown",
   "metadata": {},
   "source": [
    "UTF-8 문제로인하여 해결되지않았던 문제를 해결함. <br>\n",
    "UnicodeDecodeError: 'utf-8' codec can't decode byte 0xbf in position 11: invalid start byte <br>\n",
    "위에 나온 문제가 계속나와서 별것도아닌걸로 계속 끙끙됌 "
   ]
  },
  {
   "cell_type": "code",
   "execution_count": 4,
   "metadata": {
    "scrolled": true
   },
   "outputs": [
    {
     "name": "stdout",
     "output_type": "stream",
     "text": [
      "2020-11-13\n"
     ]
    }
   ],
   "source": [
    "import datetime\n",
    "\n",
    "\n",
    "now = datetime.datetime.now()\n",
    "nowDate = now.strftime('%Y-%m-%d')\n",
    "print(nowDate)"
   ]
  },
  {
   "cell_type": "code",
   "execution_count": 8,
   "metadata": {
    "scrolled": false
   },
   "outputs": [
    {
     "name": "stdout",
     "output_type": "stream",
     "text": [
      "2020-11-13\n"
     ]
    }
   ],
   "source": [
    " # -*- coding: utf-8 -*-\n",
    "\n",
    "import easygui\n",
    "import pymssql\n",
    "import pandas as pd\n",
    "\n",
    "now = datetime.datetime.now()\n",
    "nowDate = now.strftime('%Y-%m-%d')\n",
    "print(nowDate)\n",
    "\n",
    "# MSSQL 접속\n",
    "conn = pymssql.connect(host=r\"211.233.21.82\", user='bif', password='DWBIF2020!@#', database='DB_PRICE', charset='utf8')\n",
    "\n",
    "# Connection 으로부터 Cursor 생성\n",
    "cursor = conn.cursor()\n",
    "try:\n",
    "    for i in range(len(data)-1):\n",
    "        #SQL문 실행\n",
    "        cursor.execute(\"INSERT INTO dbo.price_table(date, product_ID, price)  VALUES (%s,%s,%s);\", (nowDate,data[i][0],data[i][3]))\n",
    "except:\n",
    "    easygui.msgbox('추가된 데이터 오류 혹은 중복 실행으로 인한 오류', '대원CTS 최저가 비교 크롤링')\n",
    "\n",
    "else:   \n",
    "    conn.commit()\n",
    "    conn.close()"
   ]
  },
  {
   "cell_type": "markdown",
   "metadata": {},
   "source": [
    "# 디비로부터 데이터 추출"
   ]
  },
  {
   "cell_type": "code",
   "execution_count": 6,
   "metadata": {
    "scrolled": false
   },
   "outputs": [
    {
     "data": {
      "text/html": [
       "<div>\n",
       "<style scoped>\n",
       "    .dataframe tbody tr th:only-of-type {\n",
       "        vertical-align: middle;\n",
       "    }\n",
       "\n",
       "    .dataframe tbody tr th {\n",
       "        vertical-align: top;\n",
       "    }\n",
       "\n",
       "    .dataframe thead th {\n",
       "        text-align: right;\n",
       "    }\n",
       "</style>\n",
       "<table border=\"1\" class=\"dataframe\">\n",
       "  <thead>\n",
       "    <tr style=\"text-align: right;\">\n",
       "      <th></th>\n",
       "      <th>date</th>\n",
       "      <th>product_id</th>\n",
       "      <th>price</th>\n",
       "    </tr>\n",
       "  </thead>\n",
       "  <tbody>\n",
       "    <tr>\n",
       "      <th>0</th>\n",
       "      <td>2020-11-11</td>\n",
       "      <td>15UD40N-GX36K</td>\n",
       "      <td>676,070¿ø</td>\n",
       "    </tr>\n",
       "    <tr>\n",
       "      <th>1</th>\n",
       "      <td>2020-11-11</td>\n",
       "      <td>15ZD90N-HX56K</td>\n",
       "      <td>1,392,820¿ø</td>\n",
       "    </tr>\n",
       "    <tr>\n",
       "      <th>2</th>\n",
       "      <td>2020-11-11</td>\n",
       "      <td>15ZD90N-VX50K</td>\n",
       "      <td>1,338,120¿ø</td>\n",
       "    </tr>\n",
       "    <tr>\n",
       "      <th>3</th>\n",
       "      <td>2020-11-11</td>\n",
       "      <td>17ZD90N-VX70K</td>\n",
       "      <td>1,581,850¿ø</td>\n",
       "    </tr>\n",
       "    <tr>\n",
       "      <th>4</th>\n",
       "      <td>2020-11-11</td>\n",
       "      <td>MVVK2KH/A</td>\n",
       "      <td>3,259,500¿ø</td>\n",
       "    </tr>\n",
       "  </tbody>\n",
       "</table>\n",
       "</div>"
      ],
      "text/plain": [
       "         date     product_id        price\n",
       "0  2020-11-11  15UD40N-GX36K    676,070¿ø\n",
       "1  2020-11-11  15ZD90N-HX56K  1,392,820¿ø\n",
       "2  2020-11-11  15ZD90N-VX50K  1,338,120¿ø\n",
       "3  2020-11-11  17ZD90N-VX70K  1,581,850¿ø\n",
       "4  2020-11-11      MVVK2KH/A  3,259,500¿ø"
      ]
     },
     "execution_count": 6,
     "metadata": {},
     "output_type": "execute_result"
    }
   ],
   "source": [
    "\n",
    "# MSSQL 접속\n",
    "conn = pymssql.connect(host=r\"211.233.21.82\", user='bif', password='DWBIF2020!@#', database='DB_PRICE', charset='utf8')\n",
    "\n",
    "# Connection 으로부터 Cursor 생성\n",
    "cursor = conn.cursor()\n",
    " \n",
    "# SQL문 실행\n",
    "cursor.execute('SELECT * FROM dbo.price_table;')\n",
    "row = cursor.fetchall()\n",
    "cols = [item[0] for item in cursor.description]\n",
    "df=pd.DataFrame(row,columns=cols)\n",
    "\n",
    "df.head()"
   ]
  },
  {
   "cell_type": "code",
   "execution_count": 7,
   "metadata": {},
   "outputs": [],
   "source": [
    "import re\n",
    "\n",
    "long=len(df['price'])\n",
    "\n",
    "for i in range(long):\n",
    "    slt=re.findall(\"[0-9]\", df['price'][i])\n",
    "    df['price'][i]=int(''.join(slt))\n",
    "    \n",
    "df.to_csv(\"C:\\\\Users\\\\user\\\\Desktop\\\\result.csv\")"
   ]
  },
  {
   "cell_type": "code",
   "execution_count": null,
   "metadata": {},
   "outputs": [],
   "source": []
  },
  {
   "cell_type": "code",
   "execution_count": null,
   "metadata": {},
   "outputs": [],
   "source": []
  }
 ],
 "metadata": {
  "kernelspec": {
   "display_name": "Python 3",
   "language": "python",
   "name": "python3"
  },
  "language_info": {
   "codemirror_mode": {
    "name": "ipython",
    "version": 3
   },
   "file_extension": ".py",
   "mimetype": "text/x-python",
   "name": "python",
   "nbconvert_exporter": "python",
   "pygments_lexer": "ipython3",
   "version": "3.8.3"
  }
 },
 "nbformat": 4,
 "nbformat_minor": 4
}
