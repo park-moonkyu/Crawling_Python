{
 "cells": [
  {
   "cell_type": "code",
   "execution_count": 1,
   "metadata": {
    "scrolled": true
   },
   "outputs": [
    {
     "name": "stdout",
     "output_type": "stream",
     "text": [
      "[' DM500S9Z-AD3BA', 'SAMSUNG', '2020.11.19']\n",
      "[' FA506IU-HN174', 'ASUS', '2020.11.19']\n",
      "[' GA502IV-AZ001T', 'ASUS', '2020.11.19']\n",
      "[' NT750QCJ-K58A', 'SAMSUNG', '2020.11.19']\n",
      "[' NT950XCJ-X716A', 'SAMSUNG', '2020.11.19']\n",
      "['15M A10SE-i7', 'MSI', '2020.11.19']\n",
      "['15U50N-KR56K', 'LG', '2020.11.19']\n",
      "['15UD50N-GX50K', 'LG', '2020.11.19']\n",
      "['15ZD90N-VX5BK', 'LG', '2020.11.19']\n",
      "['17UD70N-G.AX76K', 'LG', '2020.11.19']\n",
      "['800G5 TWR 6BD60AV', 'HP', '2020.11.19']\n",
      "['AS G512LI-HN065', 'ASUS', '2020.11.19']\n",
      "['B80FV', 'LG', '2020.11.19']\n",
      "['DB400T9A i5-9400', 'SAMSUNG', '2020.11.19']\n",
      "['FA706IU-H7100', 'ASUS', '2020.11.19']\n",
      "['G512LU-AL043', 'ASUS', '2020.11.19']\n",
      "['G712LU-EV001', 'ASUS', '2020.11.19']\n",
      "['G731GT-H7114', 'ASUS', '2020.11.19']\n",
      "['GA502IU-AZ015T', 'ASUS', '2020.11.19']\n",
      "['GA502IV-AZ001', 'ASUS', '2020.11.19']\n",
      "['GF75 Thin 9SCXR', 'MSI', '2020.11.19']\n",
      "['GP75 Leopard 9SD', 'MSI', '2020.11.19']\n",
      "['GU502LV-AZ015', 'ASUS', '2020.11.19']\n",
      "['GU502LW-HC111T', 'ASUS', '2020.11.19']\n",
      "['GX550LWS-HC013R', 'ASUS', '2020.11.19']\n",
      "['GX550LWS-HF046R', 'ASUS', '2020.11.19']\n",
      "['GX701LXS-HG032T', 'ASUS', '2020.11.19']\n",
      "['LG 15ZD90N-V.AX7BK', 'LG', '2020.11.19']\n",
      "['MHK33KH/A', 'APPLE', '2020.11.19']\n",
      "['NT350XCR-AD5WA', 'SAMSUNG', '2020.11.19']\n",
      "['NT550EBV-AD5BA', 'SAMSUNG', '2020.11.19']\n",
      "['NT550XCJ-KC24', 'SAMSUNG', '2020.11.19']\n",
      "['NT550XCR-AD1WA', 'SAMSUNG', '2020.11.19']\n",
      "['NT550XCR-AD2A', 'SAMSUNG', '2020.11.19']\n",
      "['NT550XCR-AD5A + NVMe SSD 512GB', 'SAMSUNG', '2020.11.19']\n",
      "['NT550XCR-GD5A', 'SAMSUNG', '2020.11.19']\n",
      "['NT950XCR-G58A', 'SAMSUNG', '2020.11.19']\n",
      "['X512FA-BQ1607 ', 'ASUS', '2020.11.19']\n",
      "38\n"
     ]
    }
   ],
   "source": [
    "# -*- coding:utf-8 -*-\n",
    "import openpyxl\n",
    "from bs4 import BeautifulSoup\n",
    "from urllib.request import urlopen\n",
    "import csv, re, requests\n",
    "import time\n",
    "\n",
    "# 엑셀파일 열기\n",
    "filename = \"test.xlsx\"\n",
    "book = openpyxl.load_workbook(filename)\n",
    "\n",
    "# 맨 앞의 시트 추출하기\n",
    "sheet = book.worksheets[0]\n",
    "\n",
    "# 시트의 각 행을 순서대로 추출하기\n",
    "data = []\n",
    "for row in sheet.rows:\n",
    "    data.append([row[0].value, row[1].value,row[2].value])\n",
    "\n",
    "del data[0]\n",
    "\n",
    "for i in range(len(data)):\n",
    "    print(data[i])\n",
    "\n",
    "print(len(data))"
   ]
  },
  {
   "cell_type": "markdown",
   "metadata": {},
   "source": [
    "# Beautiful 빠르나 결국 URL당 접근하면 느려지기때문에 selenium 검색과 시간 비교"
   ]
  },
  {
   "cell_type": "code",
   "execution_count": 2,
   "metadata": {
    "scrolled": false
   },
   "outputs": [
    {
     "name": "stdout",
     "output_type": "stream",
     "text": [
      "https://search.shopping.naver.com/search/all?query= DM500S9Z-AD3BA\n",
      "https://search.shopping.naver.com/search/all?query= FA506IU-HN174\n",
      "https://search.shopping.naver.com/search/all?query= GA502IV-AZ001T\n",
      "https://search.shopping.naver.com/search/all?query= NT750QCJ-K58A\n",
      "https://search.shopping.naver.com/search/all?query= NT950XCJ-X716A\n",
      "https://search.shopping.naver.com/search/all?query=15M A10SE-i7\n",
      "https://search.shopping.naver.com/search/all?query=15U50N-KR56K\n",
      "https://search.shopping.naver.com/search/all?query=15UD50N-GX50K\n",
      "https://search.shopping.naver.com/search/all?query=15ZD90N-VX5BK\n",
      "https://search.shopping.naver.com/search/all?query=17UD70N-G.AX76K\n",
      "https://search.shopping.naver.com/search/all?query=800G5 TWR 6BD60AV\n",
      "https://search.shopping.naver.com/search/all?query=AS G512LI-HN065\n",
      "https://search.shopping.naver.com/search/all?query=B80FV\n",
      "https://search.shopping.naver.com/search/all?query=DB400T9A i5-9400\n",
      "https://search.shopping.naver.com/search/all?query=FA706IU-H7100\n",
      "https://search.shopping.naver.com/search/all?query=G512LU-AL043\n",
      "https://search.shopping.naver.com/search/all?query=G712LU-EV001\n",
      "https://search.shopping.naver.com/search/all?query=G731GT-H7114\n",
      "https://search.shopping.naver.com/search/all?query=GA502IU-AZ015T\n",
      "https://search.shopping.naver.com/search/all?query=GA502IV-AZ001\n",
      "https://search.shopping.naver.com/search/all?query=GF75 Thin 9SCXR\n",
      "https://search.shopping.naver.com/search/all?query=GP75 Leopard 9SD\n",
      "https://search.shopping.naver.com/search/all?query=GU502LV-AZ015\n",
      "https://search.shopping.naver.com/search/all?query=GU502LW-HC111T\n",
      "https://search.shopping.naver.com/search/all?query=GX550LWS-HC013R\n",
      "https://search.shopping.naver.com/search/all?query=GX550LWS-HF046R\n",
      "https://search.shopping.naver.com/search/all?query=GX701LXS-HG032T\n",
      "https://search.shopping.naver.com/search/all?query=LG 15ZD90N-V.AX7BK\n",
      "https://search.shopping.naver.com/search/all?query=MHK33KH/A\n",
      "https://search.shopping.naver.com/search/all?query=NT350XCR-AD5WA\n",
      "https://search.shopping.naver.com/search/all?query=NT550EBV-AD5BA\n",
      "https://search.shopping.naver.com/search/all?query=NT550XCJ-KC24\n",
      "https://search.shopping.naver.com/search/all?query=NT550XCR-AD1WA\n",
      "https://search.shopping.naver.com/search/all?query=NT550XCR-AD2A\n",
      "https://search.shopping.naver.com/search/all?query=NT550XCR-AD5A + NVMe SSD 512GB\n",
      "https://search.shopping.naver.com/search/all?query=NT550XCR-GD5A\n",
      "https://search.shopping.naver.com/search/all?query=NT950XCR-G58A\n",
      "https://search.shopping.naver.com/search/all?query=X512FA-BQ1607 \n",
      "time : 20.397575855255127\n",
      "[[' DM500S9Z-AD3BA', 'SAMSUNG', '2020.11.19', '549,000원'], [' FA506IU-HN174', 'ASUS', '2020.11.19', '1,199,000원'], [' GA502IV-AZ001T', 'ASUS', '2020.11.19', '1,699,000원'], [' NT750QCJ-K58A', 'SAMSUNG', '2020.11.19', '1,797,990원'], [' NT950XCJ-X716A', 'SAMSUNG', '2020.11.19', '2,097,000원'], ['15M A10SE-i7', 'MSI', '2020.11.19', '1,498,990원'], ['15U50N-KR56K', 'LG', '2020.11.19', '1,091,820원'], ['15UD50N-GX50K', 'LG', '2020.11.19', '853,500원'], ['15ZD90N-VX5BK', 'LG', '2020.11.19', '1,346,640원'], ['17UD70N-G.AX76K', 'LG', '2020.11.19', '1,735,450원'], ['800G5 TWR 6BD60AV', 'HP', '2020.11.19', '1,123,710원'], ['AS G512LI-HN065', 'ASUS', '2020.11.19', '1,769,000원'], ['B80FV', 'LG', '2020.11.19', '1,533,470원'], ['DB400T9A i5-9400', 'SAMSUNG', '2020.11.19', '1,100,000원'], ['FA706IU-H7100', 'ASUS', '2020.11.19', '1,448,990원'], ['G512LU-AL043', 'ASUS', '2020.11.19', '1,399,000원'], ['G712LU-EV001', 'ASUS', '2020.11.19', '1,348,990원'], ['G731GT-H7114', 'ASUS', '2020.11.19', '1,149,000원'], ['GA502IU-AZ015T', 'ASUS', '2020.11.19', '1,598,990원'], ['GA502IV-AZ001', 'ASUS', '2020.11.19', '1,699,000원'], ['GF75 Thin 9SCXR', 'MSI', '2020.11.19', '1,123,000원'], ['GP75 Leopard 9SD', 'MSI', '2020.11.19', '1,349,000원'], ['GU502LV-AZ015', 'ASUS', '2020.11.19', '46,240원'], ['GU502LW-HC111T', 'ASUS', '2020.11.19', '2,599,000원'], ['GX550LWS-HC013R', 'ASUS', '2020.11.19', '4,198,990원'], ['GX550LWS-HF046R', 'ASUS', '2020.11.19', '3,799,000원'], ['GX701LXS-HG032T', 'ASUS', '2020.11.19', '3,956,380원'], ['LG 15ZD90N-V.AX7BK', 'LG', '2020.11.19', '1,623,110원'], ['MHK33KH/A', 'APPLE', '2020.11.19', '1,804,200원'], ['NT350XCR-AD5WA', 'SAMSUNG', '2020.11.19', '848,000원'], ['NT550EBV-AD5BA', 'SAMSUNG', '2020.11.19', '880,980원'], ['NT550XCJ-KC24', 'SAMSUNG', '2020.11.19', '746,500원'], ['NT550XCR-AD1WA', 'SAMSUNG', '2020.11.19', '498,990원'], ['NT550XCR-AD2A', 'SAMSUNG', '2020.11.19', '598,000원'], ['NT550XCR-AD5A + NVMe SSD 512GB', 'SAMSUNG', '2020.11.19', '998,000원'], ['NT550XCR-GD5A', 'SAMSUNG', '2020.11.19', '1,198,990원'], ['NT950XCR-G58A', 'SAMSUNG', '2020.11.19', '1,526,990원'], ['X512FA-BQ1607 ', 'ASUS', '2020.11.19', '840,000원']]\n"
     ]
    }
   ],
   "source": [
    "start = time.time()  # 시작 시간 저장\n",
    "result=[]\n",
    "\n",
    "\n",
    "for i in range(len(data)):\n",
    "    if data[i][0]== None:\n",
    "        break\n",
    "    else:\n",
    "        url = 'https://search.shopping.naver.com/search/all?query=' + data[i][0]\n",
    "        print(url)\n",
    "        req = requests.get(url)   # 크롤링할 페이지 url로 요청 보내기 , req를 출력하면 statuscode만 출력됨\n",
    "        html = req.text                # html 코드를 가져온다!\n",
    "        soup = BeautifulSoup(html, 'html.parser')\n",
    "        if soup.find('span', class_=\"price_num__2WUXn\").text == None:\n",
    "                         result.append(\"해당상품없음\")\n",
    "        else:\n",
    "            data[i].append(soup.find('span', class_=\"price_num__2WUXn\").text)\n",
    "            \n",
    "# 작업 코드\n",
    " \n",
    "print(\"time :\", time.time() - start)  # 현재시각 - 시작시간 = 실행 시간\n",
    "print(data)"
   ]
  },
  {
   "cell_type": "markdown",
   "metadata": {},
   "source": [
    "# DB에 해당 데이터 뿌려주기 "
   ]
  },
  {
   "cell_type": "markdown",
   "metadata": {},
   "source": [
    "2. MSSQL 사용 절차,\n",
    "Python에서 MSSQL에 있는 데이타를 사용하는 일반적인 절차는 다음과 같다.<br>\n",
    "\n",
    "pymssql 모듈을 import 한다<br>\n",
    "pymssql.connect() 메소드를 사용하여 MSSQL에 Connect 한다. 호스트명, 로그인, 암호, 접속할 DB 등을 파라미터로 지정할 수 있다.<br>\n",
    "DB 접속이 성공하면, Connection 객체로부터 cursor() 메서드를 호출하여 Cursor 객체를 가져온다. DB 커서는 Fetch 동작을 관리하는데 사용된다.<br>\n",
    "Cursor 객체의 execute() 메서드를 사용하여 SQL 문장을 DB 서버에 보낸다.<br>\n",
    "SQL 쿼리의 경우 Cursor 객체의 fetchall(), fetchone(), fetchmany() 등의 메서드를 사용하여 데이타를 서버로부터 가져온 후, Fetch 된 데이타를 사용한다.<br>\n",
    "삽입, 갱신, 삭제 등의 DML(Data Manipulation Language) 문장을 실행하는 경우, INSERT/UPDATE/DELETE 후 Connection 객체의 commit() 메서드를 사용하여 데이타를 확정 갱신한다.<br>\n",
    "Connection 객체의 close() 메서드를 사용하여 DB 연결을 닫는다.<br>\n",
    "아래 예제들의 기본 샘플 데이타로 아래와 같은 Customer 테이블이 있다고 가정하자.<br>"
   ]
  },
  {
   "cell_type": "code",
   "execution_count": 3,
   "metadata": {},
   "outputs": [
    {
     "name": "stdout",
     "output_type": "stream",
     "text": [
      "549,000원\n",
      "<class 'str'>\n"
     ]
    }
   ],
   "source": [
    "print(data[0][3])\n",
    "print(type(data[0][3]))"
   ]
  },
  {
   "cell_type": "markdown",
   "metadata": {},
   "source": [
    "UTF-8 문제로인하여 해결되지않았던 문제를 해결함. <br>\n",
    "UnicodeDecodeError: 'utf-8' codec can't decode byte 0xbf in position 11: invalid start byte <br>\n",
    "위에 나온 문제가 계속나와서 별것도아닌걸로 계속 끙끙됌 "
   ]
  },
  {
   "cell_type": "code",
   "execution_count": 4,
   "metadata": {
    "scrolled": true
   },
   "outputs": [
    {
     "name": "stdout",
     "output_type": "stream",
     "text": [
      "2020-11-25\n"
     ]
    }
   ],
   "source": [
    "import datetime\n",
    "\n",
    "\n",
    "now = datetime.datetime.now()\n",
    "nowDate = now.strftime('%Y-%m-%d')\n",
    "print(nowDate)"
   ]
  },
  {
   "cell_type": "code",
   "execution_count": 12,
   "metadata": {
    "scrolled": false
   },
   "outputs": [
    {
     "name": "stdout",
     "output_type": "stream",
     "text": [
      "2020-11-25\n"
     ]
    }
   ],
   "source": [
    " # -*- coding: utf-8 -*-\n",
    "\n",
    "import easygui\n",
    "import pymssql\n",
    "import pandas as pd\n",
    "\n",
    "now = datetime.datetime.now()\n",
    "nowDate = now.strftime('%Y-%m-%d')\n",
    "print(nowDate)\n",
    "\n",
    "# MSSQL 접속\n",
    "conn = pymssql.connect(host=r\"211.233.21.82\", user='bif', password='DWBIF2020!@#', database='DB_PRICE', charset='utf8')\n",
    "\n",
    "# Connection 으로부터 Cursor 생성\n",
    "cursor = conn.cursor()\n",
    "try:\n",
    "    for i in range(len(data)-1):\n",
    "        #SQL문 실행\n",
    "        cursor.execute(\"INSERT INTO dbo.price_table(date, product_ID,company, price)  VALUES (%s,%s,%s,%s);\", (nowDate,data[i][0],data[i][1],data[i][3]))\n",
    "except:\n",
    "    easygui.msgbox('추가된 데이터 오류 혹은 중복 실행으로 인한 오류', '대원CTS 최저가 비교 크롤링')\n",
    "\n",
    "else:   \n",
    "    conn.commit()\n",
    "    conn.close()"
   ]
  },
  {
   "cell_type": "markdown",
   "metadata": {},
   "source": [
    "# 디비로부터 데이터 추출"
   ]
  },
  {
   "cell_type": "code",
   "execution_count": 181,
   "metadata": {
    "scrolled": false
   },
   "outputs": [
    {
     "data": {
      "text/html": [
       "<div>\n",
       "<style scoped>\n",
       "    .dataframe tbody tr th:only-of-type {\n",
       "        vertical-align: middle;\n",
       "    }\n",
       "\n",
       "    .dataframe tbody tr th {\n",
       "        vertical-align: top;\n",
       "    }\n",
       "\n",
       "    .dataframe thead th {\n",
       "        text-align: right;\n",
       "    }\n",
       "</style>\n",
       "<table border=\"1\" class=\"dataframe\">\n",
       "  <thead>\n",
       "    <tr style=\"text-align: right;\">\n",
       "      <th></th>\n",
       "      <th>date</th>\n",
       "      <th>product_id</th>\n",
       "      <th>price</th>\n",
       "      <th>company</th>\n",
       "    </tr>\n",
       "  </thead>\n",
       "  <tbody>\n",
       "    <tr>\n",
       "      <th>0</th>\n",
       "      <td>2020-11-19</td>\n",
       "      <td>DM500S9Z-AD3BA</td>\n",
       "      <td>548,720¿ø</td>\n",
       "      <td>SAMSUNG</td>\n",
       "    </tr>\n",
       "    <tr>\n",
       "      <th>1</th>\n",
       "      <td>2020-11-19</td>\n",
       "      <td>FA506IU-HN174</td>\n",
       "      <td>1,199,000¿ø</td>\n",
       "      <td>ASUS</td>\n",
       "    </tr>\n",
       "    <tr>\n",
       "      <th>2</th>\n",
       "      <td>2020-11-19</td>\n",
       "      <td>GA502IV-AZ001T</td>\n",
       "      <td>1,699,000¿ø</td>\n",
       "      <td>ASUS</td>\n",
       "    </tr>\n",
       "    <tr>\n",
       "      <th>3</th>\n",
       "      <td>2020-11-19</td>\n",
       "      <td>NT750QCJ-K58A</td>\n",
       "      <td>1,797,990¿ø</td>\n",
       "      <td>SAMSUNG</td>\n",
       "    </tr>\n",
       "    <tr>\n",
       "      <th>4</th>\n",
       "      <td>2020-11-19</td>\n",
       "      <td>NT950XCJ-X716A</td>\n",
       "      <td>2,087,700¿ø</td>\n",
       "      <td>SAMSUNG</td>\n",
       "    </tr>\n",
       "  </tbody>\n",
       "</table>\n",
       "</div>"
      ],
      "text/plain": [
       "         date       product_id        price  company\n",
       "0  2020-11-19   DM500S9Z-AD3BA    548,720¿ø  SAMSUNG\n",
       "1  2020-11-19    FA506IU-HN174  1,199,000¿ø     ASUS\n",
       "2  2020-11-19   GA502IV-AZ001T  1,699,000¿ø     ASUS\n",
       "3  2020-11-19    NT750QCJ-K58A  1,797,990¿ø  SAMSUNG\n",
       "4  2020-11-19   NT950XCJ-X716A  2,087,700¿ø  SAMSUNG"
      ]
     },
     "execution_count": 181,
     "metadata": {},
     "output_type": "execute_result"
    }
   ],
   "source": [
    "\n",
    "# MSSQL 접속\n",
    "conn = pymssql.connect(host=r\"211.233.21.82\", user='bif', password='DWBIF2020!@#', database='DB_PRICE', charset='utf8')\n",
    "\n",
    "# Connection 으로부터 Cursor 생성\n",
    "cursor = conn.cursor()\n",
    " \n",
    "# SQL문 실행\n",
    "cursor.execute('SELECT * FROM dbo.price_table;')\n",
    "row = cursor.fetchall()\n",
    "cols = [item[0] for item in cursor.description]\n",
    "df=pd.DataFrame(row,columns=cols)\n",
    "\n",
    "df.head()"
   ]
  },
  {
   "cell_type": "code",
   "execution_count": 182,
   "metadata": {
    "scrolled": false
   },
   "outputs": [
    {
     "data": {
      "text/html": [
       "<div>\n",
       "<style scoped>\n",
       "    .dataframe tbody tr th:only-of-type {\n",
       "        vertical-align: middle;\n",
       "    }\n",
       "\n",
       "    .dataframe tbody tr th {\n",
       "        vertical-align: top;\n",
       "    }\n",
       "\n",
       "    .dataframe thead th {\n",
       "        text-align: right;\n",
       "    }\n",
       "</style>\n",
       "<table border=\"1\" class=\"dataframe\">\n",
       "  <thead>\n",
       "    <tr style=\"text-align: right;\">\n",
       "      <th></th>\n",
       "      <th>date</th>\n",
       "      <th>product_id</th>\n",
       "      <th>price</th>\n",
       "      <th>company</th>\n",
       "    </tr>\n",
       "  </thead>\n",
       "  <tbody>\n",
       "    <tr>\n",
       "      <th>0</th>\n",
       "      <td>2020-11-19</td>\n",
       "      <td>DM500S9Z-AD3BA</td>\n",
       "      <td>548720</td>\n",
       "      <td>SAMSUNG</td>\n",
       "    </tr>\n",
       "    <tr>\n",
       "      <th>1</th>\n",
       "      <td>2020-11-19</td>\n",
       "      <td>FA506IU-HN174</td>\n",
       "      <td>1199000</td>\n",
       "      <td>ASUS</td>\n",
       "    </tr>\n",
       "    <tr>\n",
       "      <th>2</th>\n",
       "      <td>2020-11-19</td>\n",
       "      <td>GA502IV-AZ001T</td>\n",
       "      <td>1699000</td>\n",
       "      <td>ASUS</td>\n",
       "    </tr>\n",
       "    <tr>\n",
       "      <th>3</th>\n",
       "      <td>2020-11-19</td>\n",
       "      <td>NT750QCJ-K58A</td>\n",
       "      <td>1797990</td>\n",
       "      <td>SAMSUNG</td>\n",
       "    </tr>\n",
       "    <tr>\n",
       "      <th>4</th>\n",
       "      <td>2020-11-19</td>\n",
       "      <td>NT950XCJ-X716A</td>\n",
       "      <td>2087700</td>\n",
       "      <td>SAMSUNG</td>\n",
       "    </tr>\n",
       "    <tr>\n",
       "      <th>...</th>\n",
       "      <td>...</td>\n",
       "      <td>...</td>\n",
       "      <td>...</td>\n",
       "      <td>...</td>\n",
       "    </tr>\n",
       "    <tr>\n",
       "      <th>180</th>\n",
       "      <td>2020-11-25</td>\n",
       "      <td>NT550XCR-AD1WA</td>\n",
       "      <td>498990</td>\n",
       "      <td>SAMSUNG</td>\n",
       "    </tr>\n",
       "    <tr>\n",
       "      <th>181</th>\n",
       "      <td>2020-11-25</td>\n",
       "      <td>NT550XCR-AD2A</td>\n",
       "      <td>598000</td>\n",
       "      <td>SAMSUNG</td>\n",
       "    </tr>\n",
       "    <tr>\n",
       "      <th>182</th>\n",
       "      <td>2020-11-25</td>\n",
       "      <td>NT550XCR-AD5A + NVMe SSD 512GB</td>\n",
       "      <td>998000</td>\n",
       "      <td>SAMSUNG</td>\n",
       "    </tr>\n",
       "    <tr>\n",
       "      <th>183</th>\n",
       "      <td>2020-11-25</td>\n",
       "      <td>NT550XCR-GD5A</td>\n",
       "      <td>1198990</td>\n",
       "      <td>SAMSUNG</td>\n",
       "    </tr>\n",
       "    <tr>\n",
       "      <th>184</th>\n",
       "      <td>2020-11-25</td>\n",
       "      <td>NT950XCR-G58A</td>\n",
       "      <td>1526990</td>\n",
       "      <td>SAMSUNG</td>\n",
       "    </tr>\n",
       "  </tbody>\n",
       "</table>\n",
       "<p>185 rows × 4 columns</p>\n",
       "</div>"
      ],
      "text/plain": [
       "           date                      product_id    price  company\n",
       "0    2020-11-19                  DM500S9Z-AD3BA   548720  SAMSUNG\n",
       "1    2020-11-19                   FA506IU-HN174  1199000     ASUS\n",
       "2    2020-11-19                  GA502IV-AZ001T  1699000     ASUS\n",
       "3    2020-11-19                   NT750QCJ-K58A  1797990  SAMSUNG\n",
       "4    2020-11-19                  NT950XCJ-X716A  2087700  SAMSUNG\n",
       "..          ...                             ...      ...      ...\n",
       "180  2020-11-25                  NT550XCR-AD1WA   498990  SAMSUNG\n",
       "181  2020-11-25                   NT550XCR-AD2A   598000  SAMSUNG\n",
       "182  2020-11-25  NT550XCR-AD5A + NVMe SSD 512GB   998000  SAMSUNG\n",
       "183  2020-11-25                   NT550XCR-GD5A  1198990  SAMSUNG\n",
       "184  2020-11-25                   NT950XCR-G58A  1526990  SAMSUNG\n",
       "\n",
       "[185 rows x 4 columns]"
      ]
     },
     "execution_count": 182,
     "metadata": {},
     "output_type": "execute_result"
    }
   ],
   "source": [
    "import re\n",
    "\n",
    "long=len(df['price'])\n",
    "\n",
    "for i in range(long):\n",
    "    slt=re.findall(\"[0-9]\", df['price'][i])\n",
    "    df['price'][i]=int(''.join(slt))\n",
    "    \n",
    "df.to_csv(\"C:\\\\Users\\\\user\\\\Desktop\\\\result.csv\")\n"
   ]
  },
  {
   "cell_type": "code",
   "execution_count": 183,
   "metadata": {},
   "outputs": [
    {
     "data": {
      "text/plain": [
       "date          object\n",
       "product_id    object\n",
       "price         object\n",
       "company       object\n",
       "dtype: object"
      ]
     },
     "execution_count": 183,
     "metadata": {},
     "output_type": "execute_result"
    }
   ],
   "source": [
    "#데이터 타입 확인|\n",
    "\n",
    "df.dtypes"
   ]
  },
  {
   "cell_type": "code",
   "execution_count": 184,
   "metadata": {},
   "outputs": [
    {
     "data": {
      "text/html": [
       "<div>\n",
       "<style scoped>\n",
       "    .dataframe tbody tr th:only-of-type {\n",
       "        vertical-align: middle;\n",
       "    }\n",
       "\n",
       "    .dataframe tbody tr th {\n",
       "        vertical-align: top;\n",
       "    }\n",
       "\n",
       "    .dataframe thead th {\n",
       "        text-align: right;\n",
       "    }\n",
       "</style>\n",
       "<table border=\"1\" class=\"dataframe\">\n",
       "  <thead>\n",
       "    <tr style=\"text-align: right;\">\n",
       "      <th></th>\n",
       "      <th>date</th>\n",
       "      <th>product_id</th>\n",
       "      <th>price</th>\n",
       "      <th>company</th>\n",
       "    </tr>\n",
       "  </thead>\n",
       "  <tbody>\n",
       "    <tr>\n",
       "      <th>0</th>\n",
       "      <td>2020-11-19</td>\n",
       "      <td>DM500S9Z-AD3BA</td>\n",
       "      <td>548720</td>\n",
       "      <td>SAMSUNG</td>\n",
       "    </tr>\n",
       "    <tr>\n",
       "      <th>1</th>\n",
       "      <td>2020-11-19</td>\n",
       "      <td>FA506IU-HN174</td>\n",
       "      <td>1199000</td>\n",
       "      <td>ASUS</td>\n",
       "    </tr>\n",
       "    <tr>\n",
       "      <th>2</th>\n",
       "      <td>2020-11-19</td>\n",
       "      <td>GA502IV-AZ001T</td>\n",
       "      <td>1699000</td>\n",
       "      <td>ASUS</td>\n",
       "    </tr>\n",
       "    <tr>\n",
       "      <th>3</th>\n",
       "      <td>2020-11-19</td>\n",
       "      <td>NT750QCJ-K58A</td>\n",
       "      <td>1797990</td>\n",
       "      <td>SAMSUNG</td>\n",
       "    </tr>\n",
       "    <tr>\n",
       "      <th>4</th>\n",
       "      <td>2020-11-19</td>\n",
       "      <td>NT950XCJ-X716A</td>\n",
       "      <td>2087700</td>\n",
       "      <td>SAMSUNG</td>\n",
       "    </tr>\n",
       "  </tbody>\n",
       "</table>\n",
       "</div>"
      ],
      "text/plain": [
       "         date       product_id    price  company\n",
       "0  2020-11-19   DM500S9Z-AD3BA   548720  SAMSUNG\n",
       "1  2020-11-19    FA506IU-HN174  1199000     ASUS\n",
       "2  2020-11-19   GA502IV-AZ001T  1699000     ASUS\n",
       "3  2020-11-19    NT750QCJ-K58A  1797990  SAMSUNG\n",
       "4  2020-11-19   NT950XCJ-X716A  2087700  SAMSUNG"
      ]
     },
     "execution_count": 184,
     "metadata": {},
     "output_type": "execute_result"
    }
   ],
   "source": [
    "df.head(5)"
   ]
  },
  {
   "cell_type": "code",
   "execution_count": 185,
   "metadata": {},
   "outputs": [],
   "source": [
    "# 타입 변경\n",
    "\n",
    "df['date'] = pd.to_datetime(df['date'])\n",
    "\n",
    "df['price']=pd.to_numeric(df['price'])"
   ]
  },
  {
   "cell_type": "code",
   "execution_count": 186,
   "metadata": {},
   "outputs": [
    {
     "data": {
      "text/plain": [
       "date          datetime64[ns]\n",
       "product_id            object\n",
       "price                  int64\n",
       "company               object\n",
       "dtype: object"
      ]
     },
     "execution_count": 186,
     "metadata": {},
     "output_type": "execute_result"
    }
   ],
   "source": [
    "# 변경된 데이터 타입 확인\n",
    "df.dtypes"
   ]
  },
  {
   "cell_type": "code",
   "execution_count": 187,
   "metadata": {},
   "outputs": [
    {
     "data": {
      "text/html": [
       "<div>\n",
       "<style scoped>\n",
       "    .dataframe tbody tr th:only-of-type {\n",
       "        vertical-align: middle;\n",
       "    }\n",
       "\n",
       "    .dataframe tbody tr th {\n",
       "        vertical-align: top;\n",
       "    }\n",
       "\n",
       "    .dataframe thead th {\n",
       "        text-align: right;\n",
       "    }\n",
       "</style>\n",
       "<table border=\"1\" class=\"dataframe\">\n",
       "  <thead>\n",
       "    <tr style=\"text-align: right;\">\n",
       "      <th></th>\n",
       "      <th>date</th>\n",
       "      <th>product_id</th>\n",
       "      <th>price</th>\n",
       "      <th>company</th>\n",
       "    </tr>\n",
       "  </thead>\n",
       "  <tbody>\n",
       "    <tr>\n",
       "      <th>0</th>\n",
       "      <td>2020-11-19</td>\n",
       "      <td>DM500S9Z-AD3BA</td>\n",
       "      <td>548720</td>\n",
       "      <td>SAMSUNG</td>\n",
       "    </tr>\n",
       "    <tr>\n",
       "      <th>1</th>\n",
       "      <td>2020-11-19</td>\n",
       "      <td>FA506IU-HN174</td>\n",
       "      <td>1199000</td>\n",
       "      <td>ASUS</td>\n",
       "    </tr>\n",
       "    <tr>\n",
       "      <th>2</th>\n",
       "      <td>2020-11-19</td>\n",
       "      <td>GA502IV-AZ001T</td>\n",
       "      <td>1699000</td>\n",
       "      <td>ASUS</td>\n",
       "    </tr>\n",
       "    <tr>\n",
       "      <th>3</th>\n",
       "      <td>2020-11-19</td>\n",
       "      <td>NT750QCJ-K58A</td>\n",
       "      <td>1797990</td>\n",
       "      <td>SAMSUNG</td>\n",
       "    </tr>\n",
       "    <tr>\n",
       "      <th>4</th>\n",
       "      <td>2020-11-19</td>\n",
       "      <td>NT950XCJ-X716A</td>\n",
       "      <td>2087700</td>\n",
       "      <td>SAMSUNG</td>\n",
       "    </tr>\n",
       "  </tbody>\n",
       "</table>\n",
       "</div>"
      ],
      "text/plain": [
       "        date       product_id    price  company\n",
       "0 2020-11-19   DM500S9Z-AD3BA   548720  SAMSUNG\n",
       "1 2020-11-19    FA506IU-HN174  1199000     ASUS\n",
       "2 2020-11-19   GA502IV-AZ001T  1699000     ASUS\n",
       "3 2020-11-19    NT750QCJ-K58A  1797990  SAMSUNG\n",
       "4 2020-11-19   NT950XCJ-X716A  2087700  SAMSUNG"
      ]
     },
     "execution_count": 187,
     "metadata": {},
     "output_type": "execute_result"
    }
   ],
   "source": [
    "df.head()"
   ]
  },
  {
   "cell_type": "code",
   "execution_count": 188,
   "metadata": {
    "scrolled": true
   },
   "outputs": [
    {
     "name": "stdout",
     "output_type": "stream",
     "text": [
      "['SAMSUNG' 'ASUS' 'MSI' 'LG' 'HP' 'APPLE']\n"
     ]
    },
    {
     "data": {
      "text/plain": [
       "6"
      ]
     },
     "execution_count": 188,
     "metadata": {},
     "output_type": "execute_result"
    }
   ],
   "source": [
    "#회사목록\n",
    "print(df['company'].unique())\n",
    "\n",
    "df['company'].nunique()"
   ]
  },
  {
   "cell_type": "code",
   "execution_count": 189,
   "metadata": {},
   "outputs": [
    {
     "data": {
      "text/plain": [
       "5"
      ]
     },
     "execution_count": 189,
     "metadata": {},
     "output_type": "execute_result"
    }
   ],
   "source": [
    "# 현재 몇일 동안 데이터를 수집하고있는지 확인 가능.\n",
    "df['date'].nunique()"
   ]
  },
  {
   "cell_type": "markdown",
   "metadata": {},
   "source": [
    "# 가격대별 제품 갯수 확인"
   ]
  },
  {
   "cell_type": "code",
   "execution_count": 190,
   "metadata": {},
   "outputs": [
    {
     "data": {
      "text/plain": [
       "3"
      ]
     },
     "execution_count": 190,
     "metadata": {},
     "output_type": "execute_result"
    }
   ],
   "source": [
    "morethan3=df[df['price']>3000000]['product_id'].nunique()\n",
    "morethan3"
   ]
  },
  {
   "cell_type": "code",
   "execution_count": 191,
   "metadata": {},
   "outputs": [
    {
     "data": {
      "text/plain": [
       "2"
      ]
     },
     "execution_count": 191,
     "metadata": {},
     "output_type": "execute_result"
    }
   ],
   "source": [
    "morethan2=df[df['price']>2000000]['product_id'].nunique()-morethan3\n",
    "morethan2\n"
   ]
  },
  {
   "cell_type": "code",
   "execution_count": 192,
   "metadata": {},
   "outputs": [
    {
     "data": {
      "text/plain": [
       "11"
      ]
     },
     "execution_count": 192,
     "metadata": {},
     "output_type": "execute_result"
    }
   ],
   "source": [
    "morethan1=df[df['price']>1500000]['product_id'].nunique()-5\n",
    "morethan1"
   ]
  },
  {
   "cell_type": "code",
   "execution_count": 193,
   "metadata": {},
   "outputs": [
    {
     "data": {
      "text/plain": [
       "12"
      ]
     },
     "execution_count": 193,
     "metadata": {},
     "output_type": "execute_result"
    }
   ],
   "source": [
    "morethan0=df[df['price']>1000000]['product_id'].nunique()-16\n",
    "morethan0"
   ]
  },
  {
   "cell_type": "code",
   "execution_count": 194,
   "metadata": {},
   "outputs": [
    {
     "data": {
      "text/plain": [
       "10"
      ]
     },
     "execution_count": 194,
     "metadata": {},
     "output_type": "execute_result"
    }
   ],
   "source": [
    "morethan=df[df['price']<1000000]['product_id'].nunique()\n",
    "morethan"
   ]
  },
  {
   "cell_type": "code",
   "execution_count": 218,
   "metadata": {},
   "outputs": [
    {
     "data": {
      "text/plain": [
       "' DM500S9Z-AD3BA'"
      ]
     },
     "execution_count": 218,
     "metadata": {},
     "output_type": "execute_result"
    }
   ],
   "source": [
    "# 타입 변경\n",
    "\n",
    "# MSSQL 접속\n",
    "conn = pymssql.connect(host=r\"211.233.21.82\", user='bif', password='DWBIF2020!@#', database='DB_PRICE', charset='utf8')\n",
    "\n",
    "# Connection 으로부터 Cursor 생성\n",
    "cursor = conn.cursor()\n",
    " \n",
    "# SQL문 실행\n",
    "cursor.execute('SELECT * FROM dbo.price_table;')\n",
    "row = cursor.fetchall()\n",
    "cols = [item[0] for item in cursor.description]\n",
    "df=pd.DataFrame(row,columns=cols)\n",
    "\n",
    "df.head()\n",
    "\n",
    "import re\n",
    "\n",
    "long=len(df['price'])\n",
    "\n",
    "for i in range(long):\n",
    "    slt=re.findall(\"[0-9]\", df['price'][i])\n",
    "    df['price'][i]=int(''.join(slt))\n",
    "    \n",
    "df.to_csv(\"C:\\\\Users\\\\user\\\\Desktop\\\\result.csv\")\n",
    "\n",
    "\n",
    "df['date'] = pd.to_datetime(df['date'])\n",
    "\n",
    "df['price']=pd.to_numeric(df['price'])\n",
    "\n",
    "product_id=df['product_id'].unique()\n",
    "product_id[0]"
   ]
  },
  {
   "cell_type": "code",
   "execution_count": 219,
   "metadata": {},
   "outputs": [
    {
     "data": {
      "text/html": [
       "<div>\n",
       "<style scoped>\n",
       "    .dataframe tbody tr th:only-of-type {\n",
       "        vertical-align: middle;\n",
       "    }\n",
       "\n",
       "    .dataframe tbody tr th {\n",
       "        vertical-align: top;\n",
       "    }\n",
       "\n",
       "    .dataframe thead th {\n",
       "        text-align: right;\n",
       "    }\n",
       "</style>\n",
       "<table border=\"1\" class=\"dataframe\">\n",
       "  <thead>\n",
       "    <tr style=\"text-align: right;\">\n",
       "      <th></th>\n",
       "      <th>date</th>\n",
       "      <th>product_id</th>\n",
       "      <th>price</th>\n",
       "      <th>company</th>\n",
       "    </tr>\n",
       "  </thead>\n",
       "  <tbody>\n",
       "    <tr>\n",
       "      <th>0</th>\n",
       "      <td>2020-11-19</td>\n",
       "      <td>DM500S9Z-AD3BA</td>\n",
       "      <td>548720</td>\n",
       "      <td>SAMSUNG</td>\n",
       "    </tr>\n",
       "    <tr>\n",
       "      <th>37</th>\n",
       "      <td>2020-11-20</td>\n",
       "      <td>DM500S9Z-AD3BA</td>\n",
       "      <td>548720</td>\n",
       "      <td>SAMSUNG</td>\n",
       "    </tr>\n",
       "    <tr>\n",
       "      <th>74</th>\n",
       "      <td>2020-11-23</td>\n",
       "      <td>DM500S9Z-AD3BA</td>\n",
       "      <td>548730</td>\n",
       "      <td>SAMSUNG</td>\n",
       "    </tr>\n",
       "    <tr>\n",
       "      <th>111</th>\n",
       "      <td>2020-11-24</td>\n",
       "      <td>DM500S9Z-AD3BA</td>\n",
       "      <td>549000</td>\n",
       "      <td>SAMSUNG</td>\n",
       "    </tr>\n",
       "    <tr>\n",
       "      <th>148</th>\n",
       "      <td>2020-11-25</td>\n",
       "      <td>DM500S9Z-AD3BA</td>\n",
       "      <td>549000</td>\n",
       "      <td>SAMSUNG</td>\n",
       "    </tr>\n",
       "  </tbody>\n",
       "</table>\n",
       "</div>"
      ],
      "text/plain": [
       "          date       product_id   price  company\n",
       "0   2020-11-19   DM500S9Z-AD3BA  548720  SAMSUNG\n",
       "37  2020-11-20   DM500S9Z-AD3BA  548720  SAMSUNG\n",
       "74  2020-11-23   DM500S9Z-AD3BA  548730  SAMSUNG\n",
       "111 2020-11-24   DM500S9Z-AD3BA  549000  SAMSUNG\n",
       "148 2020-11-25   DM500S9Z-AD3BA  549000  SAMSUNG"
      ]
     },
     "execution_count": 219,
     "metadata": {},
     "output_type": "execute_result"
    }
   ],
   "source": [
    "df[df['product_id']==product_id[0]]"
   ]
  },
  {
   "cell_type": "code",
   "execution_count": 338,
   "metadata": {
    "scrolled": false
   },
   "outputs": [
    {
     "data": {
      "image/png": "[encoded data removed]",
      "text/plain": [
       "<Figure size 864x720 with 4 Axes>"
      ]
     },
     "metadata": {
      "needs_background": "light"
     },
     "output_type": "display_data"
    }
   ],
   "source": [
    "import seaborn as sns\n",
    "import matplotlib.pyplot as plt\n",
    "from matplotlib.ticker import MultipleLocator\n",
    "\n",
    "fig, axe = plt.subplots(nrows=2, ncols=2, figsize=(12,10))\n",
    "sns.lineplot(x='date',y='price' ,data=df[df['product_id']==product_id[10]],marker='8',color='red', ax=axe[0,0])\n",
    "axe[0,0].set_title(product_id[10])\n",
    "axe[0,0].xaxis.set_major_locator(MultipleLocator(1.5))\n",
    "fig.suptitle(\"전체제목\")\n",
    "\n",
    "\n",
    "fig.savefig(\"./1.png\")"
   ]
  },
  {
   "cell_type": "code",
   "execution_count": 223,
   "metadata": {},
   "outputs": [
    {
     "data": {
      "text/html": [
       "<div>\n",
       "<style scoped>\n",
       "    .dataframe tbody tr th:only-of-type {\n",
       "        vertical-align: middle;\n",
       "    }\n",
       "\n",
       "    .dataframe tbody tr th {\n",
       "        vertical-align: top;\n",
       "    }\n",
       "\n",
       "    .dataframe thead th {\n",
       "        text-align: right;\n",
       "    }\n",
       "</style>\n",
       "<table border=\"1\" class=\"dataframe\">\n",
       "  <thead>\n",
       "    <tr style=\"text-align: right;\">\n",
       "      <th>product_id</th>\n",
       "      <th>DM500S9Z-AD3BA</th>\n",
       "      <th>FA506IU-HN174</th>\n",
       "      <th>GA502IV-AZ001T</th>\n",
       "      <th>NT750QCJ-K58A</th>\n",
       "      <th>NT950XCJ-X716A</th>\n",
       "      <th>15M A10SE-i7</th>\n",
       "      <th>15U50N-KR56K</th>\n",
       "      <th>15UD50N-GX50K</th>\n",
       "      <th>15ZD90N-VX5BK</th>\n",
       "      <th>17UD70N-G.AX76K</th>\n",
       "      <th>...</th>\n",
       "      <th>LG 15ZD90N-V.AX7BK</th>\n",
       "      <th>MHK33KH/A</th>\n",
       "      <th>NT350XCR-AD5WA</th>\n",
       "      <th>NT550EBV-AD5BA</th>\n",
       "      <th>NT550XCJ-KC24</th>\n",
       "      <th>NT550XCR-AD1WA</th>\n",
       "      <th>NT550XCR-AD2A</th>\n",
       "      <th>NT550XCR-AD5A + NVMe SSD 512GB</th>\n",
       "      <th>NT550XCR-GD5A</th>\n",
       "      <th>NT950XCR-G58A</th>\n",
       "    </tr>\n",
       "    <tr>\n",
       "      <th>date</th>\n",
       "      <th></th>\n",
       "      <th></th>\n",
       "      <th></th>\n",
       "      <th></th>\n",
       "      <th></th>\n",
       "      <th></th>\n",
       "      <th></th>\n",
       "      <th></th>\n",
       "      <th></th>\n",
       "      <th></th>\n",
       "      <th></th>\n",
       "      <th></th>\n",
       "      <th></th>\n",
       "      <th></th>\n",
       "      <th></th>\n",
       "      <th></th>\n",
       "      <th></th>\n",
       "      <th></th>\n",
       "      <th></th>\n",
       "      <th></th>\n",
       "      <th></th>\n",
       "    </tr>\n",
       "  </thead>\n",
       "  <tbody>\n",
       "    <tr>\n",
       "      <th>2020-11-19</th>\n",
       "      <td>548720</td>\n",
       "      <td>1199000</td>\n",
       "      <td>1699000</td>\n",
       "      <td>1797990</td>\n",
       "      <td>2087700</td>\n",
       "      <td>1634060</td>\n",
       "      <td>1082690</td>\n",
       "      <td>872680</td>\n",
       "      <td>1340410</td>\n",
       "      <td>1735450</td>\n",
       "      <td>...</td>\n",
       "      <td>1362990</td>\n",
       "      <td>1784800</td>\n",
       "      <td>848000</td>\n",
       "      <td>880990</td>\n",
       "      <td>746720</td>\n",
       "      <td>498990</td>\n",
       "      <td>598000</td>\n",
       "      <td>998000</td>\n",
       "      <td>1198990</td>\n",
       "      <td>1538960</td>\n",
       "    </tr>\n",
       "    <tr>\n",
       "      <th>2020-11-20</th>\n",
       "      <td>548720</td>\n",
       "      <td>1199000</td>\n",
       "      <td>1699000</td>\n",
       "      <td>1797990</td>\n",
       "      <td>2087690</td>\n",
       "      <td>1613910</td>\n",
       "      <td>1091960</td>\n",
       "      <td>863090</td>\n",
       "      <td>1340390</td>\n",
       "      <td>1735450</td>\n",
       "      <td>...</td>\n",
       "      <td>1623110</td>\n",
       "      <td>1784800</td>\n",
       "      <td>848000</td>\n",
       "      <td>880990</td>\n",
       "      <td>746700</td>\n",
       "      <td>498990</td>\n",
       "      <td>598000</td>\n",
       "      <td>998000</td>\n",
       "      <td>1198990</td>\n",
       "      <td>1538960</td>\n",
       "    </tr>\n",
       "    <tr>\n",
       "      <th>2020-11-23</th>\n",
       "      <td>548730</td>\n",
       "      <td>1199000</td>\n",
       "      <td>1699000</td>\n",
       "      <td>1797990</td>\n",
       "      <td>2087690</td>\n",
       "      <td>1499000</td>\n",
       "      <td>1103560</td>\n",
       "      <td>863090</td>\n",
       "      <td>1344110</td>\n",
       "      <td>1735450</td>\n",
       "      <td>...</td>\n",
       "      <td>1623110</td>\n",
       "      <td>1843000</td>\n",
       "      <td>848000</td>\n",
       "      <td>880990</td>\n",
       "      <td>746540</td>\n",
       "      <td>498990</td>\n",
       "      <td>598000</td>\n",
       "      <td>998000</td>\n",
       "      <td>1198990</td>\n",
       "      <td>1528000</td>\n",
       "    </tr>\n",
       "    <tr>\n",
       "      <th>2020-11-24</th>\n",
       "      <td>549000</td>\n",
       "      <td>1199000</td>\n",
       "      <td>1699000</td>\n",
       "      <td>1797990</td>\n",
       "      <td>2087700</td>\n",
       "      <td>1499000</td>\n",
       "      <td>1082690</td>\n",
       "      <td>863090</td>\n",
       "      <td>1344090</td>\n",
       "      <td>1735450</td>\n",
       "      <td>...</td>\n",
       "      <td>1623110</td>\n",
       "      <td>1843000</td>\n",
       "      <td>848000</td>\n",
       "      <td>880980</td>\n",
       "      <td>746530</td>\n",
       "      <td>498990</td>\n",
       "      <td>598000</td>\n",
       "      <td>998000</td>\n",
       "      <td>1198990</td>\n",
       "      <td>1527000</td>\n",
       "    </tr>\n",
       "    <tr>\n",
       "      <th>2020-11-25</th>\n",
       "      <td>549000</td>\n",
       "      <td>1199000</td>\n",
       "      <td>1699000</td>\n",
       "      <td>1797990</td>\n",
       "      <td>2097000</td>\n",
       "      <td>1498990</td>\n",
       "      <td>1091820</td>\n",
       "      <td>853500</td>\n",
       "      <td>1346640</td>\n",
       "      <td>1735450</td>\n",
       "      <td>...</td>\n",
       "      <td>1623110</td>\n",
       "      <td>1804200</td>\n",
       "      <td>848000</td>\n",
       "      <td>880980</td>\n",
       "      <td>746500</td>\n",
       "      <td>498990</td>\n",
       "      <td>598000</td>\n",
       "      <td>998000</td>\n",
       "      <td>1198990</td>\n",
       "      <td>1526990</td>\n",
       "    </tr>\n",
       "  </tbody>\n",
       "</table>\n",
       "<p>5 rows × 37 columns</p>\n",
       "</div>"
      ],
      "text/plain": [
       "product_id   DM500S9Z-AD3BA   FA506IU-HN174   GA502IV-AZ001T   NT750QCJ-K58A  \\\n",
       "date                                                                           \n",
       "2020-11-19           548720         1199000          1699000         1797990   \n",
       "2020-11-20           548720         1199000          1699000         1797990   \n",
       "2020-11-23           548730         1199000          1699000         1797990   \n",
       "2020-11-24           549000         1199000          1699000         1797990   \n",
       "2020-11-25           549000         1199000          1699000         1797990   \n",
       "\n",
       "product_id   NT950XCJ-X716A  15M A10SE-i7  15U50N-KR56K  15UD50N-GX50K  \\\n",
       "date                                                                     \n",
       "2020-11-19          2087700       1634060       1082690         872680   \n",
       "2020-11-20          2087690       1613910       1091960         863090   \n",
       "2020-11-23          2087690       1499000       1103560         863090   \n",
       "2020-11-24          2087700       1499000       1082690         863090   \n",
       "2020-11-25          2097000       1498990       1091820         853500   \n",
       "\n",
       "product_id  15ZD90N-VX5BK  17UD70N-G.AX76K  ...  LG 15ZD90N-V.AX7BK  \\\n",
       "date                                        ...                       \n",
       "2020-11-19        1340410          1735450  ...             1362990   \n",
       "2020-11-20        1340390          1735450  ...             1623110   \n",
       "2020-11-23        1344110          1735450  ...             1623110   \n",
       "2020-11-24        1344090          1735450  ...             1623110   \n",
       "2020-11-25        1346640          1735450  ...             1623110   \n",
       "\n",
       "product_id  MHK33KH/A  NT350XCR-AD5WA  NT550EBV-AD5BA  NT550XCJ-KC24  \\\n",
       "date                                                                   \n",
       "2020-11-19    1784800          848000          880990         746720   \n",
       "2020-11-20    1784800          848000          880990         746700   \n",
       "2020-11-23    1843000          848000          880990         746540   \n",
       "2020-11-24    1843000          848000          880980         746530   \n",
       "2020-11-25    1804200          848000          880980         746500   \n",
       "\n",
       "product_id  NT550XCR-AD1WA  NT550XCR-AD2A  NT550XCR-AD5A + NVMe SSD 512GB  \\\n",
       "date                                                                        \n",
       "2020-11-19          498990         598000                          998000   \n",
       "2020-11-20          498990         598000                          998000   \n",
       "2020-11-23          498990         598000                          998000   \n",
       "2020-11-24          498990         598000                          998000   \n",
       "2020-11-25          498990         598000                          998000   \n",
       "\n",
       "product_id  NT550XCR-GD5A  NT950XCR-G58A  \n",
       "date                                      \n",
       "2020-11-19        1198990        1538960  \n",
       "2020-11-20        1198990        1538960  \n",
       "2020-11-23        1198990        1528000  \n",
       "2020-11-24        1198990        1527000  \n",
       "2020-11-25        1198990        1526990  \n",
       "\n",
       "[5 rows x 37 columns]"
      ]
     },
     "execution_count": 223,
     "metadata": {},
     "output_type": "execute_result"
    }
   ],
   "source": [
    "df_wide = df.pivot(\"date\", \"product_id\", \"price\")\n",
    "df_wide.head()"
   ]
  },
  {
   "cell_type": "code",
   "execution_count": 235,
   "metadata": {},
   "outputs": [
    {
     "data": {
      "text/plain": [
       "<matplotlib.axes._subplots.AxesSubplot at 0x2457d475278>"
      ]
     },
     "execution_count": 235,
     "metadata": {},
     "output_type": "execute_result"
    },
    {
     "data": {
      "image/png": "[encoded data removed]",
      "text/plain": [
       "<Figure size 432x288 with 1 Axes>"
      ]
     },
     "metadata": {
      "needs_background": "light"
     },
     "output_type": "display_data"
    }
   ],
   "source": [
    "sns.lineplot(data=df_wide[\"17UD70N-G.AX76K\"])"
   ]
  },
  {
   "cell_type": "code",
   "execution_count": 262,
   "metadata": {},
   "outputs": [
    {
     "data": {
      "text/html": [
       "<div>\n",
       "<style scoped>\n",
       "    .dataframe tbody tr th:only-of-type {\n",
       "        vertical-align: middle;\n",
       "    }\n",
       "\n",
       "    .dataframe tbody tr th {\n",
       "        vertical-align: top;\n",
       "    }\n",
       "\n",
       "    .dataframe thead th {\n",
       "        text-align: right;\n",
       "    }\n",
       "</style>\n",
       "<table border=\"1\" class=\"dataframe\">\n",
       "  <thead>\n",
       "    <tr style=\"text-align: right;\">\n",
       "      <th></th>\n",
       "      <th>date</th>\n",
       "      <th>product_id</th>\n",
       "      <th>price</th>\n",
       "      <th>company</th>\n",
       "    </tr>\n",
       "  </thead>\n",
       "  <tbody>\n",
       "    <tr>\n",
       "      <th>6</th>\n",
       "      <td>2020-11-19</td>\n",
       "      <td>15U50N-KR56K</td>\n",
       "      <td>1082690</td>\n",
       "      <td>LG</td>\n",
       "    </tr>\n",
       "    <tr>\n",
       "      <th>7</th>\n",
       "      <td>2020-11-19</td>\n",
       "      <td>15UD50N-GX50K</td>\n",
       "      <td>872680</td>\n",
       "      <td>LG</td>\n",
       "    </tr>\n",
       "    <tr>\n",
       "      <th>8</th>\n",
       "      <td>2020-11-19</td>\n",
       "      <td>15ZD90N-VX5BK</td>\n",
       "      <td>1340410</td>\n",
       "      <td>LG</td>\n",
       "    </tr>\n",
       "    <tr>\n",
       "      <th>9</th>\n",
       "      <td>2020-11-19</td>\n",
       "      <td>17UD70N-G.AX76K</td>\n",
       "      <td>1735450</td>\n",
       "      <td>LG</td>\n",
       "    </tr>\n",
       "    <tr>\n",
       "      <th>12</th>\n",
       "      <td>2020-11-19</td>\n",
       "      <td>B80FV</td>\n",
       "      <td>1499000</td>\n",
       "      <td>LG</td>\n",
       "    </tr>\n",
       "    <tr>\n",
       "      <th>27</th>\n",
       "      <td>2020-11-19</td>\n",
       "      <td>LG 15ZD90N-V.AX7BK</td>\n",
       "      <td>1362990</td>\n",
       "      <td>LG</td>\n",
       "    </tr>\n",
       "    <tr>\n",
       "      <th>43</th>\n",
       "      <td>2020-11-20</td>\n",
       "      <td>15U50N-KR56K</td>\n",
       "      <td>1091960</td>\n",
       "      <td>LG</td>\n",
       "    </tr>\n",
       "    <tr>\n",
       "      <th>44</th>\n",
       "      <td>2020-11-20</td>\n",
       "      <td>15UD50N-GX50K</td>\n",
       "      <td>863090</td>\n",
       "      <td>LG</td>\n",
       "    </tr>\n",
       "    <tr>\n",
       "      <th>45</th>\n",
       "      <td>2020-11-20</td>\n",
       "      <td>15ZD90N-VX5BK</td>\n",
       "      <td>1340390</td>\n",
       "      <td>LG</td>\n",
       "    </tr>\n",
       "    <tr>\n",
       "      <th>46</th>\n",
       "      <td>2020-11-20</td>\n",
       "      <td>17UD70N-G.AX76K</td>\n",
       "      <td>1735450</td>\n",
       "      <td>LG</td>\n",
       "    </tr>\n",
       "    <tr>\n",
       "      <th>49</th>\n",
       "      <td>2020-11-20</td>\n",
       "      <td>B80FV</td>\n",
       "      <td>1499000</td>\n",
       "      <td>LG</td>\n",
       "    </tr>\n",
       "    <tr>\n",
       "      <th>64</th>\n",
       "      <td>2020-11-20</td>\n",
       "      <td>LG 15ZD90N-V.AX7BK</td>\n",
       "      <td>1623110</td>\n",
       "      <td>LG</td>\n",
       "    </tr>\n",
       "    <tr>\n",
       "      <th>80</th>\n",
       "      <td>2020-11-23</td>\n",
       "      <td>15U50N-KR56K</td>\n",
       "      <td>1103560</td>\n",
       "      <td>LG</td>\n",
       "    </tr>\n",
       "    <tr>\n",
       "      <th>81</th>\n",
       "      <td>2020-11-23</td>\n",
       "      <td>15UD50N-GX50K</td>\n",
       "      <td>863090</td>\n",
       "      <td>LG</td>\n",
       "    </tr>\n",
       "    <tr>\n",
       "      <th>82</th>\n",
       "      <td>2020-11-23</td>\n",
       "      <td>15ZD90N-VX5BK</td>\n",
       "      <td>1344110</td>\n",
       "      <td>LG</td>\n",
       "    </tr>\n",
       "    <tr>\n",
       "      <th>83</th>\n",
       "      <td>2020-11-23</td>\n",
       "      <td>17UD70N-G.AX76K</td>\n",
       "      <td>1735450</td>\n",
       "      <td>LG</td>\n",
       "    </tr>\n",
       "    <tr>\n",
       "      <th>86</th>\n",
       "      <td>2020-11-23</td>\n",
       "      <td>B80FV</td>\n",
       "      <td>1499000</td>\n",
       "      <td>LG</td>\n",
       "    </tr>\n",
       "    <tr>\n",
       "      <th>101</th>\n",
       "      <td>2020-11-23</td>\n",
       "      <td>LG 15ZD90N-V.AX7BK</td>\n",
       "      <td>1623110</td>\n",
       "      <td>LG</td>\n",
       "    </tr>\n",
       "    <tr>\n",
       "      <th>117</th>\n",
       "      <td>2020-11-24</td>\n",
       "      <td>15U50N-KR56K</td>\n",
       "      <td>1082690</td>\n",
       "      <td>LG</td>\n",
       "    </tr>\n",
       "    <tr>\n",
       "      <th>118</th>\n",
       "      <td>2020-11-24</td>\n",
       "      <td>15UD50N-GX50K</td>\n",
       "      <td>863090</td>\n",
       "      <td>LG</td>\n",
       "    </tr>\n",
       "    <tr>\n",
       "      <th>119</th>\n",
       "      <td>2020-11-24</td>\n",
       "      <td>15ZD90N-VX5BK</td>\n",
       "      <td>1344090</td>\n",
       "      <td>LG</td>\n",
       "    </tr>\n",
       "    <tr>\n",
       "      <th>120</th>\n",
       "      <td>2020-11-24</td>\n",
       "      <td>17UD70N-G.AX76K</td>\n",
       "      <td>1735450</td>\n",
       "      <td>LG</td>\n",
       "    </tr>\n",
       "    <tr>\n",
       "      <th>123</th>\n",
       "      <td>2020-11-24</td>\n",
       "      <td>B80FV</td>\n",
       "      <td>1499000</td>\n",
       "      <td>LG</td>\n",
       "    </tr>\n",
       "    <tr>\n",
       "      <th>138</th>\n",
       "      <td>2020-11-24</td>\n",
       "      <td>LG 15ZD90N-V.AX7BK</td>\n",
       "      <td>1623110</td>\n",
       "      <td>LG</td>\n",
       "    </tr>\n",
       "    <tr>\n",
       "      <th>154</th>\n",
       "      <td>2020-11-25</td>\n",
       "      <td>15U50N-KR56K</td>\n",
       "      <td>1091820</td>\n",
       "      <td>LG</td>\n",
       "    </tr>\n",
       "    <tr>\n",
       "      <th>155</th>\n",
       "      <td>2020-11-25</td>\n",
       "      <td>15UD50N-GX50K</td>\n",
       "      <td>853500</td>\n",
       "      <td>LG</td>\n",
       "    </tr>\n",
       "    <tr>\n",
       "      <th>156</th>\n",
       "      <td>2020-11-25</td>\n",
       "      <td>15ZD90N-VX5BK</td>\n",
       "      <td>1346640</td>\n",
       "      <td>LG</td>\n",
       "    </tr>\n",
       "    <tr>\n",
       "      <th>157</th>\n",
       "      <td>2020-11-25</td>\n",
       "      <td>17UD70N-G.AX76K</td>\n",
       "      <td>1735450</td>\n",
       "      <td>LG</td>\n",
       "    </tr>\n",
       "    <tr>\n",
       "      <th>160</th>\n",
       "      <td>2020-11-25</td>\n",
       "      <td>B80FV</td>\n",
       "      <td>1533470</td>\n",
       "      <td>LG</td>\n",
       "    </tr>\n",
       "    <tr>\n",
       "      <th>175</th>\n",
       "      <td>2020-11-25</td>\n",
       "      <td>LG 15ZD90N-V.AX7BK</td>\n",
       "      <td>1623110</td>\n",
       "      <td>LG</td>\n",
       "    </tr>\n",
       "  </tbody>\n",
       "</table>\n",
       "</div>"
      ],
      "text/plain": [
       "          date          product_id    price company\n",
       "6   2020-11-19        15U50N-KR56K  1082690      LG\n",
       "7   2020-11-19       15UD50N-GX50K   872680      LG\n",
       "8   2020-11-19       15ZD90N-VX5BK  1340410      LG\n",
       "9   2020-11-19     17UD70N-G.AX76K  1735450      LG\n",
       "12  2020-11-19               B80FV  1499000      LG\n",
       "27  2020-11-19  LG 15ZD90N-V.AX7BK  1362990      LG\n",
       "43  2020-11-20        15U50N-KR56K  1091960      LG\n",
       "44  2020-11-20       15UD50N-GX50K   863090      LG\n",
       "45  2020-11-20       15ZD90N-VX5BK  1340390      LG\n",
       "46  2020-11-20     17UD70N-G.AX76K  1735450      LG\n",
       "49  2020-11-20               B80FV  1499000      LG\n",
       "64  2020-11-20  LG 15ZD90N-V.AX7BK  1623110      LG\n",
       "80  2020-11-23        15U50N-KR56K  1103560      LG\n",
       "81  2020-11-23       15UD50N-GX50K   863090      LG\n",
       "82  2020-11-23       15ZD90N-VX5BK  1344110      LG\n",
       "83  2020-11-23     17UD70N-G.AX76K  1735450      LG\n",
       "86  2020-11-23               B80FV  1499000      LG\n",
       "101 2020-11-23  LG 15ZD90N-V.AX7BK  1623110      LG\n",
       "117 2020-11-24        15U50N-KR56K  1082690      LG\n",
       "118 2020-11-24       15UD50N-GX50K   863090      LG\n",
       "119 2020-11-24       15ZD90N-VX5BK  1344090      LG\n",
       "120 2020-11-24     17UD70N-G.AX76K  1735450      LG\n",
       "123 2020-11-24               B80FV  1499000      LG\n",
       "138 2020-11-24  LG 15ZD90N-V.AX7BK  1623110      LG\n",
       "154 2020-11-25        15U50N-KR56K  1091820      LG\n",
       "155 2020-11-25       15UD50N-GX50K   853500      LG\n",
       "156 2020-11-25       15ZD90N-VX5BK  1346640      LG\n",
       "157 2020-11-25     17UD70N-G.AX76K  1735450      LG\n",
       "160 2020-11-25               B80FV  1533470      LG\n",
       "175 2020-11-25  LG 15ZD90N-V.AX7BK  1623110      LG"
      ]
     },
     "execution_count": 262,
     "metadata": {},
     "output_type": "execute_result"
    }
   ],
   "source": [
    "df300=df[df['company']=='LG']\n",
    "df300"
   ]
  },
  {
   "cell_type": "code",
   "execution_count": 263,
   "metadata": {},
   "outputs": [],
   "source": [
    "df_wide = df300.pivot(\"date\", \"product_id\", \"price\")\n"
   ]
  },
  {
   "cell_type": "code",
   "execution_count": 269,
   "metadata": {},
   "outputs": [
    {
     "data": {
      "text/plain": [
       "Text(0.5,1,'LG')"
      ]
     },
     "execution_count": 269,
     "metadata": {},
     "output_type": "execute_result"
    },
    {
     "data": {
      "image/png": "[encoded data removed]",
      "text/plain": [
       "<Figure size 648x360 with 1 Axes>"
      ]
     },
     "metadata": {
      "needs_background": "light"
     },
     "output_type": "display_data"
    }
   ],
   "source": [
    "fig, axe = plt.subplots(figsize=(9,5))\n",
    "sns.lineplot(data=df_wide)\n",
    "plt.title(\"LG\")"
   ]
  },
  {
   "cell_type": "code",
   "execution_count": null,
   "metadata": {},
   "outputs": [],
   "source": []
  }
 ],
 "metadata": {
  "kernelspec": {
   "display_name": "Python 3",
   "language": "python",
   "name": "python3"
  },
  "language_info": {
   "codemirror_mode": {
    "name": "ipython",
    "version": 3
   },
   "file_extension": ".py",
   "mimetype": "text/x-python",
   "name": "python",
   "nbconvert_exporter": "python",
   "pygments_lexer": "ipython3",
   "version": "3.7.0"
  }
 },
 "nbformat": 4,
 "nbformat_minor": 4
}
